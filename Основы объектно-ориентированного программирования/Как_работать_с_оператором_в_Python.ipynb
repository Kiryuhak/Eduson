{
  "nbformat": 4,
  "nbformat_minor": 0,
  "metadata": {
    "colab": {
      "provenance": [],
      "toc_visible": true,
      "authorship_tag": "ABX9TyNh9JzJ6NaGCmzXXgUreePn",
      "include_colab_link": true
    },
    "kernelspec": {
      "name": "python3",
      "display_name": "Python 3"
    },
    "language_info": {
      "name": "python"
    }
  },
  "cells": [
    {
      "cell_type": "markdown",
      "metadata": {
        "id": "view-in-github",
        "colab_type": "text"
      },
      "source": [
        "<a href=\"https://colab.research.google.com/github/Kiryuhak/Eduson/blob/main/%D0%9A%D0%B0%D0%BA_%D1%80%D0%B0%D0%B1%D0%BE%D1%82%D0%B0%D1%82%D1%8C_%D1%81_%D0%BE%D0%BF%D0%B5%D1%80%D0%B0%D1%82%D0%BE%D1%80%D0%BE%D0%BC_%D0%B2_Python.ipynb\" target=\"_parent\"><img src=\"https://colab.research.google.com/assets/colab-badge.svg\" alt=\"Open In Colab\"/></a>"
      ]
    },
    {
      "cell_type": "markdown",
      "source": [
        "# **Умножение**"
      ],
      "metadata": {
        "id": "XYWVoTZB5qxu"
      }
    },
    {
      "cell_type": "code",
      "source": [
        "a = 5\n",
        "print(a * 5)"
      ],
      "metadata": {
        "colab": {
          "base_uri": "https://localhost:8080/"
        },
        "id": "UZnmudWC6VdL",
        "outputId": "1f859314-6636-4c7d-b915-d03947f90c99"
      },
      "execution_count": 1,
      "outputs": [
        {
          "output_type": "stream",
          "name": "stdout",
          "text": [
            "25\n"
          ]
        }
      ]
    },
    {
      "cell_type": "markdown",
      "source": [
        "# **Возведение в степень**"
      ],
      "metadata": {
        "id": "J4T_qo0d5wnN"
      }
    },
    {
      "cell_type": "code",
      "source": [
        "print(a**3)"
      ],
      "metadata": {
        "colab": {
          "base_uri": "https://localhost:8080/"
        },
        "id": "9ub8q9BS6hvI",
        "outputId": "f76f7869-fbcc-4ec6-bff7-70a32efb0262"
      },
      "execution_count": 2,
      "outputs": [
        {
          "output_type": "stream",
          "name": "stdout",
          "text": [
            "125\n"
          ]
        }
      ]
    },
    {
      "cell_type": "markdown",
      "source": [
        "# **Распаковка объектов**"
      ],
      "metadata": {
        "id": "z0x8FNu05-j2"
      }
    },
    {
      "cell_type": "code",
      "source": [
        "l = [1, 2, 3, 4, 5]"
      ],
      "metadata": {
        "id": "KihRHpU-6lYD"
      },
      "execution_count": 3,
      "outputs": []
    },
    {
      "cell_type": "code",
      "source": [
        "a = l[0]\n",
        "b = l[1:]"
      ],
      "metadata": {
        "id": "g_fwjvI96vWV"
      },
      "execution_count": 4,
      "outputs": []
    },
    {
      "cell_type": "code",
      "source": [
        "a"
      ],
      "metadata": {
        "colab": {
          "base_uri": "https://localhost:8080/"
        },
        "id": "Uaj_35p88rK9",
        "outputId": "1440d119-bd96-484d-f86f-b36958eb785e"
      },
      "execution_count": 5,
      "outputs": [
        {
          "output_type": "execute_result",
          "data": {
            "text/plain": [
              "1"
            ]
          },
          "metadata": {},
          "execution_count": 5
        }
      ]
    },
    {
      "cell_type": "code",
      "source": [
        "b"
      ],
      "metadata": {
        "colab": {
          "base_uri": "https://localhost:8080/"
        },
        "id": "2PY7vdGy8ror",
        "outputId": "abd85623-3d66-431c-a1a6-75daee425527"
      },
      "execution_count": 6,
      "outputs": [
        {
          "output_type": "execute_result",
          "data": {
            "text/plain": [
              "[2, 3, 4, 5]"
            ]
          },
          "metadata": {},
          "execution_count": 6
        }
      ]
    },
    {
      "cell_type": "code",
      "source": [
        "a, *b = l"
      ],
      "metadata": {
        "id": "9k7bndOv8sGY"
      },
      "execution_count": 8,
      "outputs": []
    },
    {
      "cell_type": "code",
      "source": [
        "a"
      ],
      "metadata": {
        "colab": {
          "base_uri": "https://localhost:8080/"
        },
        "id": "cDC9NFjt8xdd",
        "outputId": "fa9b5c85-9e00-4cc6-9388-2d03c75eac21"
      },
      "execution_count": 9,
      "outputs": [
        {
          "output_type": "execute_result",
          "data": {
            "text/plain": [
              "1"
            ]
          },
          "metadata": {},
          "execution_count": 9
        }
      ]
    },
    {
      "cell_type": "code",
      "source": [
        "b"
      ],
      "metadata": {
        "colab": {
          "base_uri": "https://localhost:8080/"
        },
        "id": "iqnV71pc8x1S",
        "outputId": "800f2498-c31a-4683-baca-856650438a51"
      },
      "execution_count": 10,
      "outputs": [
        {
          "output_type": "execute_result",
          "data": {
            "text/plain": [
              "[2, 3, 4, 5]"
            ]
          },
          "metadata": {},
          "execution_count": 10
        }
      ]
    },
    {
      "cell_type": "code",
      "source": [
        "a = [1, 2, 3]\n",
        "b = (4, 5, 6)\n",
        "c = {7, 8, 9}"
      ],
      "metadata": {
        "id": "VpvCz3C88yKW"
      },
      "execution_count": 11,
      "outputs": []
    },
    {
      "cell_type": "code",
      "source": [
        "a + list(b) + list(c)"
      ],
      "metadata": {
        "colab": {
          "base_uri": "https://localhost:8080/"
        },
        "id": "IY-OkG0a-3_3",
        "outputId": "c4cc2c26-3d38-43cb-c5a3-981d9079b76d"
      },
      "execution_count": 13,
      "outputs": [
        {
          "output_type": "execute_result",
          "data": {
            "text/plain": [
              "[1, 2, 3, 4, 5, 6, 8, 9, 7]"
            ]
          },
          "metadata": {},
          "execution_count": 13
        }
      ]
    },
    {
      "cell_type": "code",
      "source": [
        "d = {\n",
        "    'a': 1,\n",
        "    'b': 2,\n",
        "    'c': 3\n",
        "}"
      ],
      "metadata": {
        "id": "bmW2XysF_aa2"
      },
      "execution_count": 17,
      "outputs": []
    },
    {
      "cell_type": "code",
      "source": [
        "print([*a, *b, *c])"
      ],
      "metadata": {
        "colab": {
          "base_uri": "https://localhost:8080/"
        },
        "id": "PvQ-JfwC-9x3",
        "outputId": "2a3d6dc0-ca49-4df3-b3f6-6efe05de20c7"
      },
      "execution_count": 15,
      "outputs": [
        {
          "output_type": "stream",
          "name": "stdout",
          "text": [
            "[1, 2, 3, 4, 5, 6, 8, 9, 7]\n"
          ]
        }
      ]
    },
    {
      "cell_type": "markdown",
      "source": [
        "# **Распаковка словарей**"
      ],
      "metadata": {
        "id": "dzM-e5ES_Q_l"
      }
    },
    {
      "cell_type": "code",
      "source": [
        "print(*d)"
      ],
      "metadata": {
        "colab": {
          "base_uri": "https://localhost:8080/"
        },
        "id": "BwMtPCJK_T4J",
        "outputId": "4241399e-8126-4867-c6b7-28cad539b81d"
      },
      "execution_count": 19,
      "outputs": [
        {
          "output_type": "stream",
          "name": "stdout",
          "text": [
            "a b c\n"
          ]
        }
      ]
    },
    {
      "cell_type": "code",
      "source": [
        "d1 = {\n",
        "    'd': 4,\n",
        "    'e': 5\n",
        "}"
      ],
      "metadata": {
        "id": "_tObBamH_vOb"
      },
      "execution_count": 20,
      "outputs": []
    },
    {
      "cell_type": "code",
      "source": [
        "d2 = {**d, **d1}\n",
        "print(d2)"
      ],
      "metadata": {
        "colab": {
          "base_uri": "https://localhost:8080/"
        },
        "id": "gs5Wz-l5_zWu",
        "outputId": "e8d2cc03-bf72-41aa-cc62-60dcf166becd"
      },
      "execution_count": 24,
      "outputs": [
        {
          "output_type": "stream",
          "name": "stdout",
          "text": [
            "{'a': 1, 'b': 2, 'c': 3, 'd': 4, 'e': 5}\n"
          ]
        }
      ]
    },
    {
      "cell_type": "markdown",
      "source": [
        "# **Произвольное число аргументов функции**"
      ],
      "metadata": {
        "id": "-cO376566B9v"
      }
    },
    {
      "cell_type": "code",
      "source": [
        "foo(1, 'Kirill', 13, theme='Python')"
      ],
      "metadata": {
        "id": "_42N1iZ4AEmY"
      },
      "execution_count": null,
      "outputs": []
    },
    {
      "cell_type": "code",
      "source": [
        "def foo(*args, **kwargs):\n",
        "  print(args)\n",
        "  for i, arg in enumerate(args):\n",
        "    print(f'Аргумент {i}: {arg}')\n",
        "\n",
        "  print(kwargs)\n",
        "  for k, v in kwargs.items():\n",
        "    print(f'{k}: {v}')"
      ],
      "metadata": {
        "id": "Q3Q0KnF1Ai0H"
      },
      "execution_count": 46,
      "outputs": []
    },
    {
      "cell_type": "code",
      "source": [
        "foo(1, 'Kirill', 13, 123, 'qwe', first = 1, second = 2)"
      ],
      "metadata": {
        "colab": {
          "base_uri": "https://localhost:8080/"
        },
        "id": "DaCieC5gBy30",
        "outputId": "51170d72-0f0b-41ef-d954-5a3d048ee1e5"
      },
      "execution_count": 43,
      "outputs": [
        {
          "output_type": "stream",
          "name": "stdout",
          "text": [
            "(1, 'Kirill', 13, 123, 'qwe')\n",
            "Аргумент 0: 1\n",
            "Аргумент 1: Kirill\n",
            "Аргумент 2: 13\n",
            "Аргумент 3: 123\n",
            "Аргумент 4: qwe\n",
            "{'first': 1, 'second': 2}\n",
            "first: 1\n",
            "second: 2\n"
          ]
        }
      ]
    },
    {
      "cell_type": "markdown",
      "source": [
        "# **Контроль за именованными аргументами**"
      ],
      "metadata": {
        "id": "gpZtZfLe6J8h"
      }
    },
    {
      "cell_type": "code",
      "source": [
        "def foo(a, b, *, c, d, e):\n",
        "  print(a, b, c, d, e)"
      ],
      "metadata": {
        "id": "fvXgE1o7AGbF"
      },
      "execution_count": 50,
      "outputs": []
    },
    {
      "cell_type": "code",
      "source": [
        "foo(1, 2, c=3, d=4, e=5)"
      ],
      "metadata": {
        "colab": {
          "base_uri": "https://localhost:8080/"
        },
        "id": "SiesFd9MDhkQ",
        "outputId": "4b7e494b-9877-4368-eacd-8245d7f79b26"
      },
      "execution_count": 51,
      "outputs": [
        {
          "output_type": "stream",
          "name": "stdout",
          "text": [
            "1 2 3 4 5\n"
          ]
        }
      ]
    },
    {
      "cell_type": "markdown",
      "source": [
        "# **Импорт всего содержимого из модуля**"
      ],
      "metadata": {
        "id": "rEZiCEFa6PaH"
      }
    },
    {
      "cell_type": "code",
      "source": [
        "from math import *"
      ],
      "metadata": {
        "id": "WdyuCu2WAHYp"
      },
      "execution_count": 53,
      "outputs": []
    },
    {
      "cell_type": "code",
      "source": [
        "sin(1)"
      ],
      "metadata": {
        "colab": {
          "base_uri": "https://localhost:8080/"
        },
        "id": "mgoxPqOpDx-z",
        "outputId": "96408b42-5048-496a-b9bb-3d4a2bb4d1ac"
      },
      "execution_count": 54,
      "outputs": [
        {
          "output_type": "execute_result",
          "data": {
            "text/plain": [
              "0.8414709848078965"
            ]
          },
          "metadata": {},
          "execution_count": 54
        }
      ]
    }
  ]
}