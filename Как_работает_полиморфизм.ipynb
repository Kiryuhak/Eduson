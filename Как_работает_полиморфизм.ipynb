{
  "nbformat": 4,
  "nbformat_minor": 0,
  "metadata": {
    "colab": {
      "provenance": [],
      "toc_visible": true,
      "authorship_tag": "ABX9TyMr7CLDDuyODvCaMg7kh/Ca",
      "include_colab_link": true
    },
    "kernelspec": {
      "name": "python3",
      "display_name": "Python 3"
    },
    "language_info": {
      "name": "python"
    }
  },
  "cells": [
    {
      "cell_type": "markdown",
      "metadata": {
        "id": "view-in-github",
        "colab_type": "text"
      },
      "source": [
        "<a href=\"https://colab.research.google.com/github/Kiryuhak/Eduson/blob/main/%D0%9A%D0%B0%D0%BA_%D1%80%D0%B0%D0%B1%D0%BE%D1%82%D0%B0%D0%B5%D1%82_%D0%BF%D0%BE%D0%BB%D0%B8%D0%BC%D0%BE%D1%80%D1%84%D0%B8%D0%B7%D0%BC.ipynb\" target=\"_parent\"><img src=\"https://colab.research.google.com/assets/colab-badge.svg\" alt=\"Open In Colab\"/></a>"
      ]
    },
    {
      "cell_type": "markdown",
      "source": [
        "# **Полиморфизм**"
      ],
      "metadata": {
        "id": "lrnqmSkfzQaG"
      }
    },
    {
      "cell_type": "code",
      "source": [
        "def delete_imports(code, language):\n",
        "  if language == 'Python':\n",
        "    return code.replace('import ', '')\n",
        "  elif language == 'SQL':\n",
        "    return code\n",
        "  elif language == 'C++':\n",
        "    return code.replace('#inclode ', '')\n",
        "  else:\n",
        "    return code\n",
        "\n",
        "def delete_commands(code, language):\n",
        "  if language == 'Python':\n",
        "    return code.replace('eval', '').replace('exec', '')\n",
        "  elif language == 'SQL':\n",
        "    return code.replace('drop', '').replace('delete', '')\n",
        "  else:\n",
        "    return code\n",
        "\n",
        "def delete_comments(code, language):\n",
        "  if language == 'SQL':\n",
        "    return code.replace('--', '')\n",
        "  else:\n",
        "    return code"
      ],
      "metadata": {
        "id": "z1dW8xb2zT-K"
      },
      "execution_count": 9,
      "outputs": []
    },
    {
      "cell_type": "code",
      "source": [
        "mycode = \"\"\"\n",
        "import os, sys\n",
        "\n",
        "a = a\n",
        "eval(a)\n",
        "\"\"\"\n",
        "\n",
        "language = 'Python'\n",
        "\n",
        "mycode = delete_imports(mycode, language)\n",
        "mycode = delete_commands(mycode, language)\n",
        "mycode = delete_comments(mycode, language)"
      ],
      "metadata": {
        "id": "ylvgC7Xu1q-2"
      },
      "execution_count": 10,
      "outputs": []
    },
    {
      "cell_type": "code",
      "source": [
        "print(mycode)"
      ],
      "metadata": {
        "colab": {
          "base_uri": "https://localhost:8080/"
        },
        "id": "8cCTwe482D5v",
        "outputId": "f91c22ad-0085-4891-d57e-8ab73e16077f"
      },
      "execution_count": 19,
      "outputs": [
        {
          "output_type": "stream",
          "name": "stdout",
          "text": [
            "\n",
            "import os, sys\n",
            "\n",
            "--my comment \n",
            "a = 1\n",
            "eval(a)\n",
            "\n"
          ]
        }
      ]
    },
    {
      "cell_type": "code",
      "source": [
        "class Lexic:\n",
        "  def __init__(self, code):\n",
        "    self.code = code\n",
        "\n",
        "\n",
        "class SQLLexic(Lexic):\n",
        "  def delete_commands(self):\n",
        "    self.code = self.code.replace('drop', '').replace('delete', '')\n",
        "\n",
        "  def delete_imports(self):\n",
        "    ...\n",
        "\n",
        "  def delete_comments(self):\n",
        "    self.code = self.code.replace('--', '')\n",
        "\n",
        "  def process(self):\n",
        "    self.delete_commands()\n",
        "    self.delete_comments()\n",
        "\n",
        "class PythonLexic(Lexic):\n",
        "  def delete_commands(self):\n",
        "    self.code = self.code.replace('eval', '').replace('exec', '')\n",
        "\n",
        "  def delete_imports(self):\n",
        "    self.code = self.code.replace('import ', '')\n",
        "\n",
        "  def process(self):\n",
        "    self.delete_commands()\n",
        "    self.delete_imports()"
      ],
      "metadata": {
        "id": "60indcQJ4KhC"
      },
      "execution_count": 15,
      "outputs": []
    },
    {
      "cell_type": "code",
      "source": [
        "mycode = \"\"\"\n",
        "import os, sys\n",
        "\n",
        "--my comment\n",
        "a = 1\n",
        "eval(a)\n",
        "\"\"\"\n"
      ],
      "metadata": {
        "id": "uNVAGSk46J88"
      },
      "execution_count": 18,
      "outputs": []
    },
    {
      "cell_type": "code",
      "source": [
        "ex = PythonLexic(code=mycode)\n",
        "ex.process()\n",
        "\n",
        "print(ex.code)"
      ],
      "metadata": {
        "colab": {
          "base_uri": "https://localhost:8080/"
        },
        "id": "n2GFZ6e86M2-",
        "outputId": "27cc0aa0-c6f4-4589-918e-927ff52a21d3"
      },
      "execution_count": 21,
      "outputs": [
        {
          "output_type": "stream",
          "name": "stdout",
          "text": [
            "\n",
            "os, sys\n",
            "\n",
            "--my comment \n",
            "a = 1\n",
            "(a)\n",
            "\n"
          ]
        }
      ]
    },
    {
      "cell_type": "code",
      "source": [
        "d = {\n",
        "    'Python': PythonLexic,\n",
        "    'SQL': SQLLexic\n",
        "}\n",
        "\n",
        "def main(code, language):\n",
        "    ex = d[language](code)\n",
        "    ex.process()\n",
        "\n",
        "    return ex.code"
      ],
      "metadata": {
        "id": "NULqSH_m7e-I"
      },
      "execution_count": 23,
      "outputs": []
    },
    {
      "cell_type": "code",
      "source": [
        "main(mycode, 'Python')"
      ],
      "metadata": {
        "colab": {
          "base_uri": "https://localhost:8080/",
          "height": 36
        },
        "id": "jlAtjOgt7uh-",
        "outputId": "0e8c6ef9-944b-4976-fbfe-081c224d112c"
      },
      "execution_count": 24,
      "outputs": [
        {
          "output_type": "execute_result",
          "data": {
            "text/plain": [
              "'\\nos, sys\\n\\n--my comment \\na = 1\\n(a)\\n'"
            ],
            "application/vnd.google.colaboratory.intrinsic+json": {
              "type": "string"
            }
          },
          "metadata": {},
          "execution_count": 24
        }
      ]
    },
    {
      "cell_type": "code",
      "source": [],
      "metadata": {
        "id": "aXBM6rsA7zWP"
      },
      "execution_count": null,
      "outputs": []
    }
  ]
}