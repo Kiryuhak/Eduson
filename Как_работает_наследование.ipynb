{
  "nbformat": 4,
  "nbformat_minor": 0,
  "metadata": {
    "colab": {
      "provenance": [],
      "toc_visible": true,
      "authorship_tag": "ABX9TyMy1y1XiY+ptK11mUbMFP2T",
      "include_colab_link": true
    },
    "kernelspec": {
      "name": "python3",
      "display_name": "Python 3"
    },
    "language_info": {
      "name": "python"
    }
  },
  "cells": [
    {
      "cell_type": "markdown",
      "metadata": {
        "id": "view-in-github",
        "colab_type": "text"
      },
      "source": [
        "<a href=\"https://colab.research.google.com/github/Kiryuhak/Eduson/blob/main/%D0%9A%D0%B0%D0%BA_%D1%80%D0%B0%D0%B1%D0%BE%D1%82%D0%B0%D0%B5%D1%82_%D0%BD%D0%B0%D1%81%D0%BB%D0%B5%D0%B4%D0%BE%D0%B2%D0%B0%D0%BD%D0%B8%D0%B5.ipynb\" target=\"_parent\"><img src=\"https://colab.research.google.com/assets/colab-badge.svg\" alt=\"Open In Colab\"/></a>"
      ]
    },
    {
      "cell_type": "markdown",
      "source": [
        "# **Наследование**"
      ],
      "metadata": {
        "id": "F4YKRAQ7aHK4"
      }
    },
    {
      "cell_type": "code",
      "source": [
        "class Animal:\n",
        "  def move(self):\n",
        "    print('Я животное гордое, двигаюсь как хочу')\n",
        "\n",
        "  def say_about_me(self):\n",
        "    print('Я животное в широком смысле слова')\n",
        "\n",
        "class Cat(Animal):\n",
        "  def move(self):\n",
        "    print('Я тихая кошечка, двигаюсь аккуратно')\n",
        "\n",
        "  def talk(self):\n",
        "    print('Мяу-мяу')"
      ],
      "metadata": {
        "id": "Vv0Qu1pYaJ7m"
      },
      "execution_count": 1,
      "outputs": []
    },
    {
      "cell_type": "code",
      "source": [
        "c = Cat()"
      ],
      "metadata": {
        "id": "4Gl6QXRZbMXl"
      },
      "execution_count": 2,
      "outputs": []
    },
    {
      "cell_type": "code",
      "source": [
        "c.move()"
      ],
      "metadata": {
        "colab": {
          "base_uri": "https://localhost:8080/"
        },
        "id": "A49udZQxbUm4",
        "outputId": "9d06635d-6ca8-4c1b-ac4e-348efb564888"
      },
      "execution_count": 4,
      "outputs": [
        {
          "output_type": "stream",
          "name": "stdout",
          "text": [
            "Я тихая кошечка, двигаюсь аккуратно\n"
          ]
        }
      ]
    },
    {
      "cell_type": "code",
      "source": [
        "c.talk()"
      ],
      "metadata": {
        "colab": {
          "base_uri": "https://localhost:8080/"
        },
        "id": "fcSRJNnabXqg",
        "outputId": "95c67dca-e317-49f2-deed-a7d3aa3caaf8"
      },
      "execution_count": 5,
      "outputs": [
        {
          "output_type": "stream",
          "name": "stdout",
          "text": [
            "Мяу-мяу\n"
          ]
        }
      ]
    },
    {
      "cell_type": "code",
      "source": [
        "c.say_about_me()"
      ],
      "metadata": {
        "colab": {
          "base_uri": "https://localhost:8080/"
        },
        "id": "D3emvjEfbY67",
        "outputId": "652cb69f-2caf-443d-a3e3-148b58aff415"
      },
      "execution_count": 6,
      "outputs": [
        {
          "output_type": "stream",
          "name": "stdout",
          "text": [
            "Я животное в широком смысле слова\n"
          ]
        }
      ]
    },
    {
      "cell_type": "code",
      "source": [
        "class Counter:\n",
        "  def __init__(self, value):\n",
        "    self.value = value\n",
        "\n",
        "  def add_value(value):\n",
        "    self.value += value\n",
        "\n",
        "class SecondCounter(Counter):\n",
        "  def add_value(self, value):\n",
        "    self.value += 2*value"
      ],
      "metadata": {
        "id": "gR0dr1o7bdyr"
      },
      "execution_count": 9,
      "outputs": []
    },
    {
      "cell_type": "code",
      "source": [
        "sc = SecondCounter(5)"
      ],
      "metadata": {
        "id": "Pu3NQI_Kcbqg"
      },
      "execution_count": 10,
      "outputs": []
    },
    {
      "cell_type": "code",
      "source": [
        "sc.value"
      ],
      "metadata": {
        "colab": {
          "base_uri": "https://localhost:8080/"
        },
        "id": "R0DYMg67ce8U",
        "outputId": "2ed38c95-db64-4c05-a1c5-acd4dc38a92d"
      },
      "execution_count": 11,
      "outputs": [
        {
          "output_type": "execute_result",
          "data": {
            "text/plain": [
              "5"
            ]
          },
          "metadata": {},
          "execution_count": 11
        }
      ]
    },
    {
      "cell_type": "code",
      "source": [
        "sc.add_value(10)\n",
        "\n",
        "sc.value"
      ],
      "metadata": {
        "colab": {
          "base_uri": "https://localhost:8080/"
        },
        "id": "K8GTJYMFck1-",
        "outputId": "d67d2515-a538-45b3-e886-8b9fc3ecd31d"
      },
      "execution_count": 12,
      "outputs": [
        {
          "output_type": "execute_result",
          "data": {
            "text/plain": [
              "25"
            ]
          },
          "metadata": {},
          "execution_count": 12
        }
      ]
    },
    {
      "cell_type": "code",
      "source": [],
      "metadata": {
        "id": "SafU85w8cpWL"
      },
      "execution_count": null,
      "outputs": []
    }
  ]
}