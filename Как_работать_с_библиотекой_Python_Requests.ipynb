{
  "nbformat": 4,
  "nbformat_minor": 0,
  "metadata": {
    "colab": {
      "provenance": [],
      "authorship_tag": "ABX9TyNX5Ucnc9jIPJ6piKsnVF4C",
      "include_colab_link": true
    },
    "kernelspec": {
      "name": "python3",
      "display_name": "Python 3"
    },
    "language_info": {
      "name": "python"
    }
  },
  "cells": [
    {
      "cell_type": "markdown",
      "metadata": {
        "id": "view-in-github",
        "colab_type": "text"
      },
      "source": [
        "<a href=\"https://colab.research.google.com/github/Kiryuhak/Eduson/blob/main/%D0%9A%D0%B0%D0%BA_%D1%80%D0%B0%D0%B1%D0%BE%D1%82%D0%B0%D1%82%D1%8C_%D1%81_%D0%B1%D0%B8%D0%B1%D0%BB%D0%B8%D0%BE%D1%82%D0%B5%D0%BA%D0%BE%D0%B9_Python_Requests.ipynb\" target=\"_parent\"><img src=\"https://colab.research.google.com/assets/colab-badge.svg\" alt=\"Open In Colab\"/></a>"
      ]
    },
    {
      "cell_type": "markdown",
      "source": [
        "# **Работа с модулем requests**"
      ],
      "metadata": {
        "id": "sS-QR3T-nDcv"
      }
    },
    {
      "cell_type": "markdown",
      "source": [
        "# **Установка модуля**"
      ],
      "metadata": {
        "id": "fF1Ne1UfnH-y"
      }
    },
    {
      "cell_type": "code",
      "source": [
        "!pip install requests"
      ],
      "metadata": {
        "colab": {
          "base_uri": "https://localhost:8080/"
        },
        "id": "RgqkOsfznHpF",
        "outputId": "8a353ec0-8c8a-4d63-bff4-4c9d23d27615"
      },
      "execution_count": 12,
      "outputs": [
        {
          "output_type": "stream",
          "name": "stdout",
          "text": [
            "Requirement already satisfied: requests in /usr/local/lib/python3.10/dist-packages (2.31.0)\n",
            "Requirement already satisfied: charset-normalizer<4,>=2 in /usr/local/lib/python3.10/dist-packages (from requests) (3.3.2)\n",
            "Requirement already satisfied: idna<4,>=2.5 in /usr/local/lib/python3.10/dist-packages (from requests) (3.6)\n",
            "Requirement already satisfied: urllib3<3,>=1.21.1 in /usr/local/lib/python3.10/dist-packages (from requests) (2.0.7)\n",
            "Requirement already satisfied: certifi>=2017.4.17 in /usr/local/lib/python3.10/dist-packages (from requests) (2024.2.2)\n"
          ]
        }
      ]
    },
    {
      "cell_type": "code",
      "source": [
        "import requests"
      ],
      "metadata": {
        "id": "KEd3zwDerac4"
      },
      "execution_count": 14,
      "outputs": []
    },
    {
      "cell_type": "markdown",
      "source": [
        "# **Какие запросы мы будем отправлять?**"
      ],
      "metadata": {
        "id": "bv4TNP--nugx"
      }
    },
    {
      "cell_type": "code",
      "source": [
        "requests.post(...)\n",
        "requests.get(...)"
      ],
      "metadata": {
        "id": "TgKjHvB5nuTO"
      },
      "execution_count": null,
      "outputs": []
    },
    {
      "cell_type": "code",
      "source": [
        "r = requests.get('https://itresume.ru')"
      ],
      "metadata": {
        "id": "FqATlKLoqB_l"
      },
      "execution_count": 15,
      "outputs": []
    },
    {
      "cell_type": "code",
      "source": [
        "r.status_code"
      ],
      "metadata": {
        "colab": {
          "base_uri": "https://localhost:8080/"
        },
        "id": "msBau-GNreLn",
        "outputId": "bb7bf9c7-9c47-428a-d694-b3bfbc218778"
      },
      "execution_count": 16,
      "outputs": [
        {
          "output_type": "execute_result",
          "data": {
            "text/plain": [
              "200"
            ]
          },
          "metadata": {},
          "execution_count": 16
        }
      ]
    },
    {
      "cell_type": "markdown",
      "source": [
        "# **Посмотрим содержимое ответа**"
      ],
      "metadata": {
        "id": "0-a12ZlZrgqp"
      }
    },
    {
      "cell_type": "code",
      "source": [
        "r.text"
      ],
      "metadata": {
        "colab": {
          "base_uri": "https://localhost:8080/",
          "height": 123
        },
        "id": "U2d2FWyXrf5K",
        "outputId": "6b6e3a62-fd78-4298-bfce-80bb2987a2a1"
      },
      "execution_count": 17,
      "outputs": [
        {
          "output_type": "execute_result",
          "data": {
            "text/plain": [
              "'<!DOCTYPE html>\\n<html lang=\"ru\">\\n  <head>\\n    <meta charset=\"UTF-8\" />\\n    <meta http-equiv=\"X-UA-Compatible\" content=\"IE=edge\" />\\n    <meta name=\"viewport\" content=\"width=device-width, initial-scale=1.0, maximum-scale=1.0, user-scalable=0\" />\\n    <meta name=\"format-detection\" content=\"telephone=no\" />\\n    <meta property=\"og:site_name\" content=\"IT Resume\" />\\n    <meta property=\"og:type\" content=\"website\" />\\n    <meta property=\"og:image\" content=\"https://itresume.ru/og-image.jpg\" />\\n    <meta property=\"og:image:secure_url\" content=\"https://itresume.ru/og-image.jpg\" />\\n    <meta name=\"twitter:image\" content=\"https://itresume.ru/og-image.jpg\" />\\n    <meta name=\"twitter:card\" content=\"summary\" />\\n    <link rel=\"icon\" href=\"/favicon.ico\" sizes=\"any\" />\\n    <link rel=\"icon\" href=\"/icon.svg\" type=\"image/svg+xml\" />\\n    <link rel=\"apple-touch-icon\" href=\"/apple-touch-icon.png\" />\\n    <link rel=\"preconnect\" href=\"https://fonts.googleapis.com\" />\\n    <link rel=\"preconnect\" href=\"https://fonts.gstatic.com\" crossorigin />\\n    <link\\n      href=\"https://fonts.googleapis.com/css2?family=Fira+Code:wght@400;500;600;700&family=Fira+Sans:ital,wght@0,400;0,500;0,600;0,700;1,400;1,700&family=Source+Code+Pro:wght@200;300;400;500;600;700&display=swap\"\\n      rel=\"stylesheet\"\\n    />\\n  <meta name=\"facebook-domain-verification\" content=\"apl6pbpi54a43i8hvw7ml9tj699u1o\" />\\n<!-- Yandex.Metrika -->\\n<script type=\"text/javascript\">(function (m, e, t, r, i, k, a) { m[i] = m[i] || function () { (m[i].a = m[i].a || []).push(arguments); }; m[i].l = 1 * new Date(); (k = e.createElement(t)), (a = e.getElementsByTagName(t)[0]), (k.async = 1), (k.src = r), a.parentNode.insertBefore(k, a); })(window, document, \"script\", \"https://mc.yandex.ru/metrika/tag.js\", \"ym\"); ym(86328787, \"init\", { defer: true, clickmap: true, trackLinks: true, accurateTrackBounce: true, webvisor: true });</script>\\n<!-- GTag -->\\n<script async src=\"https://www.googletagmanager.com/gtag/js?id=G-LYRZM3ZX8C\"></script>\\n<script>window.dataLayer = window.dataLayer || []; function gtag() { dataLayer.push(arguments); } gtag(\\'js\\', new Date()); gtag(\\'config\\', \\'G-LYRZM3ZX8C\\');</script>\\n<!-- Facebook Pixel -->\\n<script>!(function (f, b, e, v, n, t, s) { if (f.fbq) return; n = f.fbq = function () { n.callMethod ? n.callMethod.apply(n, arguments) : n.queue.push(arguments); }; if (!f._fbq) f._fbq = n; n.push = n; n.loaded = !0; n.version = \\'2.0\\'; n.queue = []; t = b.createElement(e); t.async = !0; t.src = v; s = b.getElementsByTagName(e)[0]; s.parentNode.insertBefore(t, s); })(window, document, \\'script\\', \\'https://connect.facebook.net/en_US/fbevents.js\\'); fbq(\\'init\\', \\'2649441131866128\\'); fbq(\\'track\\', \\'PageView\\');</script>\\n<!-- Vk Pixel -->\\n<script type=\"text/javascript\">!(function () { var t = document.createElement(\\'script\\'); (t.type = \\'text/javascript\\'), (t.async = !0), (t.src = \\'https://vk.com/js/api/openapi.js?169\\'), (t.onload = function () { VK.Retargeting.Init(\\'VK-RTRG-1228393-gLdf0\\'), VK.Retargeting.Hit(); }), document.head.appendChild(t); })();</script>\\n<!-- Google Tag Manager -->\\n<script>(function (w, d, s, l, i) { w[l] = w[l] || []; w[l].push({ \\'gtm.start\\': new Date().getTime(), event: \\'gtm.js\\' }); var f = d.getElementsByTagName(s)[0], j = d.createElement(s), dl = l != \\'dataLayer\\' ? \\'&l=\\' + l : \\'\\'; j.async = true; j.src = \\'https://www.googletagmanager.com/gtm.js?id=\\' + i + dl; f.parentNode.insertBefore(j, f); })(window, document, \\'script\\', \\'dataLayer\\', \\'GTM-M5M32QX\\');</script>\\n<link rel=\"preload\" href=\"/css/chunk-vendors.9743cf15.css\" as=\"style\"><link rel=\"preload\" href=\"/js/chunk-vendors.4f86a1e8.js\" as=\"script\"><link rel=\"preload\" href=\"/css/app.d1eadc3c.css\" as=\"style\"><link rel=\"preload\" href=\"/js/app.51ce674e.js\" as=\"script\"><link rel=\"preload\" href=\"/js/9240.8b3842ea.js\" as=\"script\"><link rel=\"preload\" href=\"/js/5560.20cf0ecb.js\" as=\"script\"><link rel=\"preload\" href=\"/css/5177.3b0f0c0c.css\" as=\"style\"><link rel=\"preload\" href=\"/js/5177.56face91.js\" as=\"script\"><link rel=\"preload\" href=\"/js/5062.34265b47.js\" as=\"script\"><link rel=\"preload\" href=\"/css/227.39b1fb0c.css\" as=\"style\"><link rel=\"preload\" href=\"/js/227.d2fd02a1.js\" as=\"script\"><link rel=\"prefetch\" href=\"/js/4718.dae11108.js\"><link rel=\"prefetch\" href=\"/js/1206.c05ec8f0.js\"><link rel=\"prefetch\" href=\"/js/4787.b999e95e.js\"><link rel=\"prefetch\" href=\"/js/912.0535f44d.js\"><link rel=\"prefetch\" href=\"/js/4808.b92811bf.js\"><link rel=\"prefetch\" href=\"/js/4875.7ce206af.js\"><link rel=\"prefetch\" href=\"/js/1215.1066b9da.js\"><link rel=\"prefetch\" href=\"/js/9791.9af6adb5.js\"><link rel=\"prefetch\" href=\"/js/1809.a3207b8d.js\"><link rel=\"prefetch\" href=\"/js/2239.802a1794.js\"><link rel=\"prefetch\" href=\"/js/178.d6e2367d.js\"><link rel=\"prefetch\" href=\"/js/4745.001d193d.js\"><link rel=\"prefetch\" href=\"/js/9091.dc0a2c3c.js\"><link rel=\"prefetch\" href=\"/js/6511.0eaec430.js\"><link rel=\"prefetch\" href=\"/css/4808.4b36194d.css\"><link rel=\"prefetch\" href=\"/js/4291.7e1ad820.js\"><link rel=\"prefetch\" href=\"/js/9712.596e5091.js\"><link rel=\"prefetch\" href=\"/js/2871.f7db2f83.js\"><link rel=\"prefetch\" href=\"/js/7475.f54ea26d.js\"><link rel=\"prefetch\" href=\"/js/6167.c853abb2.js\"><link rel=\"prefetch\" href=\"/js/3071.589e786a.js\"><link rel=\"prefetch\" href=\"/js/2900.1dc7cd51.js\"><link rel=\"prefetch\" href=\"/js/2953.41d4acf5.js\"><link rel=\"prefetch\" href=\"/js/6095.4a3d8eea.js\"><link rel=\"prefetch\" href=\"/js/2512.00734184.js\"><link rel=\"prefetch\" href=\"/js/4149.e40d1177.js\"><link rel=\"prefetch\" href=\"/js/2133.c2cb10fb.js\"><link rel=\"prefetch\" href=\"/js/5105.b3e7cb88.js\"><link rel=\"prefetch\" href=\"/js/8390.de84e7d9.js\"><link rel=\"prefetch\" href=\"/js/5504.116470dd.js\"><link rel=\"prefetch\" href=\"/js/5971.458ad938.js\"><link rel=\"prefetch\" href=\"/js/6609.5f807390.js\"><link rel=\"prefetch\" href=\"/js/1051.b0d8433f.js\"><link rel=\"prefetch\" href=\"/js/6067.7f12ee17.js\"><link rel=\"prefetch\" href=\"/js/7061.dc8768fd.js\"><link rel=\"prefetch\" href=\"/js/9095.7c57530d.js\"><link rel=\"prefetch\" href=\"/js/1568.3df6eed7.js\"><link rel=\"prefetch\" href=\"/js/1488.12647615.js\"><link rel=\"prefetch\" href=\"/css/4149.1cdd6b64.css\"><link rel=\"prefetch\" href=\"/js/1169.4358a9c0.js\"><link rel=\"prefetch\" href=\"/js/2725.bd630478.js\"><link rel=\"prefetch\" href=\"/js/1875.47ee1c6f.js\"><link rel=\"prefetch\" href=\"/js/7669.bb29f59b.js\"><link rel=\"prefetch\" href=\"/js/1858.6bf1d630.js\"><link rel=\"prefetch\" href=\"/css/9091.2395fa1b.css\"><link rel=\"prefetch\" href=\"/js/1853.d9a275f2.js\"><link rel=\"prefetch\" href=\"/js/738.6103161b.js\"><link rel=\"prefetch\" href=\"/js/584.b0715c5f.js\"><link rel=\"prefetch\" href=\"/js/6113.4d052405.js\"><link rel=\"prefetch\" href=\"/js/7663.9a03f7bd.js\"><link rel=\"prefetch\" href=\"/css/178.2b28b977.css\"><link rel=\"prefetch\" href=\"/css/4718.75f9eeda.css\"><link rel=\"prefetch\" href=\"/js/2260.7698367e.js\"><link rel=\"prefetch\" href=\"/js/3981.2e620bc9.js\"><link rel=\"prefetch\" href=\"/js/5407.aba4353b.js\"><link rel=\"prefetch\" href=\"/js/8612.528b23f8.js\"><link rel=\"prefetch\" href=\"/js/5078.56fb83f7.js\"><link rel=\"prefetch\" href=\"/css/3071.0f6d2a83.css\"><link rel=\"prefetch\" href=\"/js/5448.2fad7a78.js\"><link rel=\"prefetch\" href=\"/js/72.b0de3e26.js\"><link rel=\"prefetch\" href=\"/js/6777.4feca5f3.js\"><link rel=\"prefetch\" href=\"/js/7630.e40d3953.js\"><link rel=\"prefetch\" href=\"/js/4982.32e1c096.js\"><link rel=\"prefetch\" href=\"/js/7353.42fadf6b.js\"><link rel=\"prefetch\" href=\"/js/3231.90a0b5a8.js\"><link rel=\"prefetch\" href=\"/js/3959.6726431b.js\"><link rel=\"prefetch\" href=\"/js/5823.22aef403.js\"><link rel=\"prefetch\" href=\"/css/2260.727664ee.css\"><link rel=\"prefetch\" href=\"/js/8044.02ee06b4.js\"><link rel=\"prefetch\" href=\"/js/7000.9609646f.js\"><link rel=\"prefetch\" href=\"/js/7293.25c4cf20.js\"><link rel=\"prefetch\" href=\"/js/407.2c99da5f.js\"><link rel=\"prefetch\" href=\"/js/6720.2b7f9bdc.js\"><link rel=\"prefetch\" href=\"/js/5067.fc42f6e1.js\"><link rel=\"prefetch\" href=\"/js/6133.e724ac27.js\"><link rel=\"prefetch\" href=\"/js/9529.5f647a87.js\"><link rel=\"prefetch\" href=\"/css/2239.67d9bc69.css\"><link rel=\"prefetch\" href=\"/js/5213.fcefbf18.js\"><link rel=\"prefetch\" href=\"/css/1568.98b9e57f.css\"><link rel=\"prefetch\" href=\"/js/2951.97ce77f4.js\"><link rel=\"prefetch\" href=\"/js/7018.bacc1d27.js\"><link rel=\"prefetch\" href=\"/js/8556.645a842d.js\"><link rel=\"prefetch\" href=\"/css/5105.9339cdb6.css\"><link rel=\"prefetch\" href=\"/css/6777.747a2183.css\"><link rel=\"prefetch\" href=\"/css/6609.77970827.css\"><link rel=\"prefetch\" href=\"/css/2953.ba75c010.css\"><link rel=\"prefetch\" href=\"/css/3959.50c40155.css\"><link rel=\"prefetch\" href=\"/css/5504.ecdc4eeb.css\"><link rel=\"prefetch\" href=\"/css/3231.bee9a36a.css\"><link rel=\"prefetch\" href=\"/css/1853.a73b301e.css\"><link rel=\"prefetch\" href=\"/css/8044.80523f07.css\"><link rel=\"prefetch\" href=\"/css/7353.9943603e.css\"><link rel=\"prefetch\" href=\"/css/4982.4a3da582.css\"><link rel=\"prefetch\" href=\"/css/7061.8b08b553.css\"><link rel=\"prefetch\" href=\"/css/7000.1dcff0cb.css\"><link rel=\"prefetch\" href=\"/css/6113.70381a2e.css\"><link rel=\"prefetch\" href=\"/css/7630.4fe21079.css\"><link rel=\"prefetch\" href=\"/css/1169.9e7f79b8.css\"><link rel=\"prefetch\" href=\"/css/407.8c5a6300.css\"><link rel=\"prefetch\" href=\"/css/7669.2465eb22.css\"><link rel=\"stylesheet\" href=\"/css/chunk-vendors.9743cf15.css\"><link rel=\"stylesheet\" href=\"/css/app.d1eadc3c.css\"><link rel=\"stylesheet\" href=\"/css/5177.3b0f0c0c.css\"><link rel=\"stylesheet\" href=\"/css/227.39b1fb0c.css\"><title>IT Resume - Платформа для развития навыков программирования</title><meta data-vue-meta=\"ssr\" data-vmid=\"og:title\" property=\"og:title\" content=\"IT Resume - Платформа для развития навыков программирования\"><meta data-vue-meta=\"ssr\" data-vmid=\"twitter:title\" name=\"twitter:title\" content=\"IT Resume - Платформа для развития навыков программирования\"><meta data-vue-meta=\"ssr\" data-vmid=\"og:image:alt\" property=\"og:image:alt\" content=\"IT Resume - Платформа для развития навыков программирования\"><meta data-vue-meta=\"ssr\" data-vmid=\"twitter:image:alt\" name=\"twitter:image:alt\" content=\"IT Resume - Платформа для развития навыков программирования\"><meta data-vue-meta=\"ssr\" data-vmid=\"og:url\" property=\"og:url\" content=\"https://itresume.ru/\"><meta data-vue-meta=\"ssr\" data-vmid=\"keywords\" name=\"keywords\" content=\"hayesstrosin\"></head>\\n  <body class=\"no-scroll\">\\n    <noscript\\n      >Для полной функциональности этого сайта нужно включить JavaScript. Вот\\n      <a href=\"https://www.enablejavascript.io/\" target=\"_blank\">инструкции, как включить JavaScript в вашем браузере</a\\n      >.</noscript\\n    >\\n  <!-- Yandex.Metrika -->\\n<noscript><div><img src=\"https://mc.yandex.ru/watch/86328787\" style=\"position: absolute; left: -9999px\" alt=\"\" /></div></noscript>\\n<!-- Facebook Pixel -->\\n<noscript><img height=\"1\" width=\"1\" style=\"display:none\" src=\"https://www.facebook.com/tr?id=2649441131866128&ev=PageView&noscript=1\" /></noscript>\\n<!-- Vk Pixel -->\\n<noscript><img src=\"https://vk.com/rtrg?p=VK-RTRG-1228393-gLdf0\" style=\"position:fixed; left:-999px;\" alt=\"\"/></noscript>\\n<!-- Google Tag Manager -->\\n<noscript><iframe src=\"https://www.googletagmanager.com/ns.html?id=GTM-M5M32QX\" height=\"0\" width=\"0\" style=\"display:none;visibility:hidden\"></iframe></noscript>\\n<script>window.__STORE_STATE__={\"device\":{\"info\":null,\"fingerprint\":null,\"imagePrimary\":null,\"imageSecondary\":null,\"isCookieAccepted\":false},\"filters\":{\"tests\":{\"complexities\":[],\"tags\":[],\"search\":\"\",\"status\":null},\"problems\":{\"complexities\":[],\"tags\":[],\"search\":\"\",\"status\":null,\"sort\":{\"key\":null,\"dir\":null}}},\"params\":{\"value\":null},\"scrollbar\":{\"shouldUpdate\":false,\"timeout\":null,\"scrolls\":[]},\"token\":{\"hasRefresh\":false,\"access\":null},\"user\":{\"id\":null,\"firstName\":null,\"lastName\":null,\"username\":null,\"email\":null,\"phone\":null,\"avatar\":null,\"balance\":0,\"company\":null,\"cvList\":null,\"promo\":null,\"promoShow\":false,\"companyRefetch\":false},\"coupon\":{\"company\":null,\"id\":null}};(function(){var s;(s=document.currentScript||document.scripts[document.scripts.length-1]).parentNode.removeChild(s);}());</script><script>window.__APOLLO_STATE__={\"defaultClient\":{\"PageType:1\":{\"id\":\"1\",\"title\":\"IT Resume - Платформа для развития навыков программирования\",\"description\":\"\",\"keywords\":\"hayesstrosin\",\"isPrivatePage\":false,\"__typename\":\"PageType\"},\"ROOT_QUERY\":{\"page({\\\\\"path\\\\\":\\\\\"\\\\u002F\\\\\"})\":{\"type\":\"id\",\"generated\":false,\"id\":\"PageType:1\",\"typename\":\"PageType\"}}}};(function(){var s;(s=document.currentScript||document.scripts[document.scripts.length-1]).parentNode.removeChild(s);}());</script><div id=\"root\" data-server-rendered=\"true\"><div class=\"loadscreen\"><img src=\"/img/it.f3a68e57.svg\" alt=\"Загрузка...\" class=\"loadscreen__image\"></div> <div class=\"layout\"><div class=\"navigation\"><header class=\"header\"><div class=\"container container--full-width header__container\"><a href=\"/\" aria-current=\"page\" aria-label=\"На главную\" class=\"logo header__logo router-link-exact-active router-link-active\"><img src=\"/img/dark.bd607b01.svg\" alt=\"Логотип IT Resume\" class=\"logo__image\"></a> <nav class=\"header__navigation\"><ul role=\"menu\"><li role=\"none\"><a href=\"/problems\" role=\"menuitem\" class=\"header__link\">Задачи</a></li><li role=\"none\"><a href=\"/tests\" role=\"menuitem\" class=\"header__link\">Тесты</a></li><li role=\"none\"><a href=\"/blog\" role=\"menuitem\" class=\"header__link\">Блог</a></li><li role=\"none\"><a href=\"/materials\" role=\"menuitem\" class=\"header__link\">Полезное</a></li> <li role=\"none\"><a role=\"menuitem\" href=\"https://hr.itresume.ru/vacancy\" target=\"_blank\" class=\"header__link\">\\n              Вакансии\\n            </a></li> <li role=\"none\" class=\"header__login\"><a href=\"/account/login\" role=\"menuitem\" class=\"button button--blue\">Войти</a></li></ul></nav> <button aria-label=\"Открыть меню\" aria-haspopup=\"true\" class=\"header__menu-button\"><svg class=\"icon\"><use xlink:href=\"/img/icons.f512e299.svg#menu\"></use></svg></button></div> <!----></header> <!----></div> <main class=\"content home\"><article class=\"home-main container\"><div class=\"home-main__text\"><h1 class=\"title title--main\">Стань\\xa0лучшим, просто решая\\xa0задачи</h1> <div class=\"home-main__description\">\\n        Платформа для развития навыков и\\xa0подготовки к\\xa0техническим интервью\\n      </div></div> <div class=\"terminal home-main__terminal\"><div class=\"terminal__line terminal__input terminal__carriage terminal__toggle\"></div>  <div class=\"terminal__line terminal__loading\">\\xa0</div> <div class=\"terminal__line terminal__hidden\">Алгоритмы и структуры данных</div><div class=\"terminal__line terminal__hidden\">Синтаксис языков программирования</div><div class=\"terminal__line terminal__hidden\">Задачи с собеседований</div><div class=\"terminal__line terminal__hidden\">Стань лучшим</div></div> <a href=\"/problems\" class=\"button button--tall button--blue home__button\">Решать бесплатно</a></article> <article class=\"article container\"><h2 class=\"title\">Строите карьеру в IT? Наверняка что-то из этого Вам знакомо:</h2> <div class=\"swiper home__swiper\"><div class=\"swiper-wrapper\"><div class=\"card swiper-slide background--yellow-light\"><svg class=\"icon card__icon icon--yellow-dark\"><use xlink:href=\"/img/icons.d5b0b514.svg#question\"></use></svg> <div class=\"card__text\">Все эти алгоритмы и структуры данных сводят с ума</div></div> <div class=\"card swiper-slide background--pink-light\"><svg class=\"icon card__icon icon--pink\"><use xlink:href=\"/img/icons.d5b0b514.svg#apple\"></use></svg> <div class=\"card__text\">Сложность алгоритмов и оптимизация кода вводят в ступор</div></div> <div class=\"card swiper-slide background--blue-light\"><svg class=\"icon card__icon icon--blue\"><use xlink:href=\"/img/icons.d5b0b514.svg#meeting\"></use></svg> <div class=\"card__text\">Вопросы на технических интервью заставляют вздрогнуть</div></div></div> <div class=\"swiper-pagination\"></div></div></article> <article class=\"article home-cta\"><div class=\"container home-cta__container\"><h2 class=\"title home-cta__title\">Уверены, что пройдете любое техническое интервью?</h2> <div class=\"home-cta__block\"><div class=\"home-cta__text\">Попробуйте решить всего одну задачу с реального собеседования и проверьте!</div> <a href=\"/problems/fizz-buzz-test\" class=\"button button--tall button--blue home__button\">Перейти к задаче</a></div></div></article> <article class=\"article container home-theses\"><h2 class=\"title\">Решение есть! Для этого мы и создали платформу IT Resume</h2> <div class=\"swiper home-theses__swiper home__swiper\"><div class=\"swiper-wrapper\"><div class=\"swiper-slide\"><img src=\"/img/first.cfa2fb99.svg\" alt=\"100+ задач\" class=\"home-theses__image\"> <h3 class=\"home-theses__title\">100+ задач</h3> <p class=\"home-theses__text\">\\n          Решайте более 100 задач по алгоритмам, структурам данных, программированию и Data Science.\\n        </p> <p class=\"home-theses__text\"><strong>Это позволит Вам прокачать навыки и подготовиться к любому техническому интервью.</strong></p></div> <div class=\"swiper-slide\"><img src=\"/img/second.7ea6ab4d.svg\" alt=\"Соревнования\" class=\"home-theses__image\"> <h3 class=\"home-theses__title\">Соревнования</h3> <p class=\"home-theses__text\">\\n          Участвуйте в соревнованиях, побеждайте и становитесь лучшим среди конкурентов.\\n        </p> <p class=\"home-theses__text\"><strong>Это позволит Вам постоянно развиваться и быть на голову выше коллег.</strong></p></div> <div class=\"swiper-slide\"><img src=\"/img/third.85c57e33.svg\" alt=\"Дополнительные возможности\" class=\"home-theses__image\"> <h3 class=\"home-theses__title\">Дополнительные возможности</h3> <p class=\"home-theses__text\">\\n          Решайте кейсы, проходите тесты, разбирайте теоретические вопросы, изучайте курсы и проходите тренировочные\\n          собеседования.\\n        </p> <p class=\"home-theses__text\"><strong>Это позволит Вам укрепить знания и повысить свой скилл.</strong></p></div> <div class=\"swiper-slide\"><img src=\"/img/fourth.96f37442.svg\" alt=\"Офферы от компаний-партнеров\" class=\"home-theses__image\"> <h3 class=\"home-theses__title\">Офферы от компаний-партнеров</h3> <p class=\"home-theses__text\">\\n          Решайте подборки задач от компаний-партнеров и привлекайте внимание хедхантеров.\\n        </p> <p class=\"home-theses__text\"><strong>Это позволит Вам получить оффер и устроиться в крупную компанию.</strong></p></div></div> <div class=\"swiper-pagination\"></div></div></article> <article class=\"article home-problems\"><div class=\"container home-problems__container\"><h2 class=\"title home-problems__title\">Начните решать задачи</h2> <a href=\"/problems\" class=\"button button--tall button--blue home__button home-problems__button\">Начать бесплатно</a></div></article> <article class=\"article container home-structure\"><h2 class=\"title title--margin-bottom\">Но зачем нужна целая платформа? Можно же просто загуглить?</h2> <div class=\"home-structure__description\">IT Resume - это платформа, где все удобно собрано в одном месте:</div> <div class=\"spoiler home-structure__spoiler\"><button class=\"button spoiler__button\"><span class=\"spoiler__title\">Более 100 задач с собеседований</span><svg class=\"spoiler__icon\"><use xlink:href=\"/img/ui.8728e999.svg#expand\"></use></svg></button><div class=\"spoiler__content\"><ul><li>Алгоритмы</li> <li>Структуры данных</li> <li>Синтаксические особенности</li> <li>Математика</li> <li>Data Science</li></ul></div></div> <div class=\"spoiler home-structure__spoiler\"><button class=\"button spoiler__button\"><span class=\"spoiler__title\">Подробный разбор каждой задачи</span><svg class=\"spoiler__icon\"><use xlink:href=\"/img/ui.8728e999.svg#expand\"></use></svg></button><div class=\"spoiler__content\"><ul><li>Подсказки</li> <li>Решения</li> <li>Анализ сложности алгоритма</li> <li>Оценка производительности Вашего решения</li></ul></div></div> <div class=\"spoiler home-structure__spoiler\"><button class=\"button spoiler__button\"><span class=\"spoiler__title\">Полный набор материалов для подготовки</span><svg class=\"spoiler__icon\"><use xlink:href=\"/img/ui.8728e999.svg#expand\"></use></svg></button><div class=\"spoiler__content\"><ul><li>Теоретические вопросы</li> <li>Кейсы</li> <li>Логические и market size задачи</li> <li>Тесты</li></ul></div></div> <div class=\"spoiler home-structure__spoiler\"><button class=\"button spoiler__button\"><span class=\"spoiler__title\">Материалы от компаний-партнеров</span><svg class=\"spoiler__icon\"><use xlink:href=\"/img/ui.8728e999.svg#expand\"></use></svg></button><div class=\"spoiler__content\"><ul><li>Эксклюзивные задания</li> <li>Соревнования</li> <li>Возможность получить оффер</li></ul></div></div> <div class=\"spoiler home-structure__spoiler\"><button class=\"button spoiler__button\"><span class=\"spoiler__title\">Дополнительные фичи</span><svg class=\"spoiler__icon\"><use xlink:href=\"/img/ui.8728e999.svg#expand\"></use></svg></button><div class=\"spoiler__content\"><ul><li>Тренировочные собеседования</li> <li>Сертификация</li> <li>Составление резюме</li></ul></div></div> <div class=\"home-info\"><svg class=\"icon home-info__icon\"><use xlink:href=\"/img/icons.d5b0b514.svg#book\"></use></svg> <span class=\"home-info__text\">Так зачем же гуглить - мы уже собрали для Вас все необходимое на нашей платформе.</span></div></article> <article class=\"article container home-terminal\"><div><h2 class=\"title title--margin-bottom\">Скоро мы будем общаться на 15 языках!</h2> <span><strong>Задача:</strong> вывести <strong>все языки</strong>, на которых можно будет решать задачи на платформе\\n        IT\\xa0Resume\\n      </span></div> <div><div class=\"terminal\"><div class=\"terminal__line\"><span class=\"text--pink\">SELECT</span> itr.languages</div> <div class=\"terminal__line\"><span class=\"text--pink\">FROM</span> itresume itr</div> <div class=\"terminal__line\"><span class=\"text--pink\">WHERE</span> itr.is_available is <span class=\"text--pink\">TRUE</span></div> <div class=\"terminal__buttons\"><button disabled=\"disabled\" class=\"button terminal__reset\"><img src=\"/img/reset.1794b40b.svg\" alt=\"Сбросить\" class=\"icon\"></button> <button class=\"button button--blue terminal__run\">Run</button></div></div> <div class=\"terminal\"><div class=\"terminal__line\"><span class=\"text--green-dark\"></span> <span class=\"terminal__hidden\">Python, Java, SQL, C++, C, PHP, JS, Kotlin, C#, Go, Swift, R, TypeScript, Ruby, Julia</span></div></div></div></article> <article class=\"article container\"><h2 class=\"title\">Что Вы получите, решая задачи?</h2> <div class=\"swiper home__swiper\"><div class=\"swiper-wrapper\"><div class=\"card swiper-slide card--no-padding\"><svg class=\"icon card__icon icon--blue\"><use xlink:href=\"/img/icons.d5b0b514.svg#star\"></use></svg> <h3 class=\"card__title\">Полезные навыки</h3> <div class=\"card__text\">Решение практических задач - самый хороший способ развить свои hard skills.</div></div> <div class=\"card swiper-slide card--no-padding\"><svg class=\"icon card__icon icon--blue\"><use xlink:href=\"/img/icons.d5b0b514.svg#certificate\"></use></svg> <h3 class=\"card__title\">Работу</h3> <div class=\"card__text\">\\n          Вы сможете пройти любое техническое интервью и получить работу мечты. Кроме того, компании активно хантят на\\n          нашей платформе.\\n        </div></div> <div class=\"card swiper-slide card--no-padding\"><svg class=\"icon card__icon icon--blue\"><use xlink:href=\"/img/icons.d5b0b514.svg#flash\"></use></svg> <h3 class=\"card__title\">Удовольствие</h3> <div class=\"card__text\">\\n          Решение задач и участие в соревнованиях приносят моральное удовлетворение и гордость. Всегда приятно видеть\\n          свой прогресс.\\n        </div></div></div> <div class=\"swiper-pagination\"></div></div></article> <article class=\"article home-start\"><div class=\"container home-start__container\"><div><h2 class=\"title title--margin-bottom\">Вы готовы стать лучшим среди конкурентов?</h2> <a href=\"/problems\" class=\"button button--tall button--white home__button home-start__button\">Начать бесплатно</a></div> <div class=\"home-start__image\"><img src=\"/img/start.9ed51938.svg\" alt=\"Вы готовы стать лучшим среди конкурентов?\"></div></div></article> <article class=\"home-statistics\"><div class=\"container\"><h2 class=\"title home-statistics__title\">Немного статистики</h2> <div class=\"swiper home__swiper\"><div class=\"swiper-wrapper\"><div class=\"card swiper-slide background--white home-statistics__card\"><img src=\"/img/first.372ff569.svg\" alt=\"Статистика по соискателям\" class=\"home-statistics__image\"> <div class=\"card__text\">\\n            На собеседовании из\\n            <strong class=\"text--pink\">100</strong> соискателей только\\n            <strong class=\"text--yellow-dark\">10</strong> решают задачи правильно и только\\n            <strong class=\"text--blue\">3</strong> предлагают идеальное решение.\\n          </div></div> <div class=\"card swiper-slide background--white home-statistics__card\"><img src=\"/img/second.b420107a.svg\" alt=\"Статистика по собеседованиям\" class=\"home-statistics__image\"> <div class=\"card__text\">\\n            На собеседовании из 10 задач\\n            <strong class=\"text--pink\">5</strong> будет на знание конкретного языка,\\n            <strong class=\"text--blue\">3</strong> на алгоритмы и <strong class=\"text--yellow-dark\">2</strong> на\\n            структуры данных.\\n          </div></div> <div class=\"card swiper-slide background--white home-statistics__card\"><img src=\"/img/third.0613505e.svg\" alt=\"Статистика по навыку решения задач\" class=\"home-statistics__image\"> <div class=\"card__text\">\\n            Навык решения задач для\\xa0<strong class=\"text--blue\">75%</strong>\\xa0компаний\\xa0- необходимое\\n            условие, для\\xa0<strong class=\"text--yellow-dark\">20%</strong>\\xa0- дополнительное требование\\n            и\\xa0лишь для\\xa0<strong class=\"text--pink\">5%</strong>\\xa0- необязательный фактор.\\n          </div></div></div> <div class=\"swiper-pagination\"></div></div></div></article> <article class=\"article container home-faq\"><h2 class=\"title home-faq__title\">Частые вопросы</h2> <div class=\"spoiler home-faq__spoiler\"><button class=\"button spoiler__button\"><span class=\"spoiler__title\">Я хочу устроиться на работу. Ваша платформа мне поможет?</span><svg class=\"spoiler__icon\"><use xlink:href=\"/img/ui.8728e999.svg#expand\"></use></svg></button><div class=\"spoiler__content\">Да, HR-специалисты крупных компаний активно хантят на нашей платформе. Будьте активны и наверняка вы получите\\n      оффер!</div></div> <div class=\"spoiler home-faq__spoiler\"><button class=\"button spoiler__button\"><span class=\"spoiler__title\">Я уже работаю в IT. У вас есть интересные материалы для меня?</span><svg class=\"spoiler__icon\"><use xlink:href=\"/img/ui.8728e999.svg#expand\"></use></svg></button><div class=\"spoiler__content\">Конечно! На платформе представлены задачи как для начинающих, так и для продвинутых специалистов.</div></div> <div class=\"spoiler home-faq__spoiler\"><button class=\"button spoiler__button\"><span class=\"spoiler__title\">Что я могу делать на вашей платформе?</span><svg class=\"spoiler__icon\"><use xlink:href=\"/img/ui.8728e999.svg#expand\"></use></svg></button><div class=\"spoiler__content\">Вы можете решать 200+ задач с реальных собеседований и проходить тесты. Все проверяется автоматически и вы\\n      моментально видите результат своего решения.</div></div> <div class=\"spoiler home-faq__spoiler\"><button class=\"button spoiler__button\"><span class=\"spoiler__title\">Что мне даст решение задач на вашей платформе?</span><svg class=\"spoiler__icon\"><use xlink:href=\"/img/ui.8728e999.svg#expand\"></use></svg></button><div class=\"spoiler__content\">Во-первых, мы собрали огромную базу задач - вы можете прокачать свои hard skills и подготовиться к техническому\\n      собеседованию. Во-вторых, с нами сотрудничают HR-ы крупных компаний - вы запросто можете получить\\n      оффер.</div></div></article> <article class=\"article home-join\"><div class=\"container home-join__container\"><h2 class=\"title\">Пока Вы читаете этот текст, кто-то <strong>успешно решает задачи</strong> code интервью</h2> <div class=\"home-join__block\"><div class=\"home-join__text\">Начните решать задачи <strong>бесплатно</strong> прямо сейчас!</div> <a href=\"/problems\" class=\"button button--tall button--blue home__button\">Начать бесплатно</a></div> <img src=\"/img/join.01eb94b0.svg\" alt=\"Начните решать задачи бесплатно прямо сейчас!\" class=\"home-join__image\"></div></article></main> <footer class=\"footer\"><div class=\"container container--full-width footer__container\"><a href=\"/\" aria-current=\"page\" aria-label=\"На главную\" class=\"logo footer__logo router-link-exact-active router-link-active\"><img src=\"/img/light.c2053bb6.svg\" alt=\"Логотип IT Resume\" class=\"logo__image\"></a> <ul role=\"menu\" aria-label=\"Социальные сети\" class=\"footer__socials\"><li role=\"none\"><a href=\"https://vk.com/itresume\" target=\"_blank\" aria-label=\"Vkontakte\" role=\"menuitem\"><svg class=\"icon\"><use xlink:href=\"/img/socials.5355b973.svg#vk\"></use></svg></a></li> <li role=\"none\"><a href=\"https://instagram.com/itresume.ru\" target=\"_blank\" aria-label=\"Instagram\" role=\"menuitem\"><svg class=\"icon\"><use xlink:href=\"/img/socials.5355b973.svg#instagram\"></use></svg></a></li> <li role=\"none\"><a href=\"https://t.me/it_resume\" target=\"_blank\" aria-label=\"Telegram\" role=\"menuitem\"><svg class=\"icon\"><use xlink:href=\"/img/socials.5355b973.svg#telegram\"></use></svg></a></li> <li role=\"none\"><a href=\"https://youtube.com/channel/UC-zg6iS4RrIWJRcne9afmlw\" target=\"_blank\" aria-label=\"YouTube\" role=\"menuitem\"><svg class=\"icon\"><use xlink:href=\"/img/socials.5355b973.svg#youtube\"></use></svg></a></li></ul> <div class=\"footer__links\"><ul role=\"menu\" aria-label=\"Разделы сайта\"><li role=\"none\"><a href=\"/problems\" role=\"menuitem\">Задачи</a></li><li role=\"none\"><a href=\"/tests\" role=\"menuitem\">Тесты</a></li><li role=\"none\"><a href=\"/blog\" role=\"menuitem\">Блог</a></li><li role=\"none\"><a href=\"/materials\" role=\"menuitem\">Полезное</a></li> <li><a href=\"https://hr.itresume.ru/vacancy\" target=\"_blank\" role=\"menuitem\">Вакансии</a></li> <li role=\"none\"><a href=\"/materials\" role=\"menuitem\">Полезные материалы</a></li></ul> <ul role=\"menu\" aria-label=\"Информация\"><li role=\"none\"><a href=\"/legal/privacy\" role=\"menuitem\">Политика конфиденциальности</a></li> <li role=\"none\"><a href=\"/legal/cookie\" role=\"menuitem\">Файлы cookie</a></li> <li role=\"none\"><a href=\"/legal/offer\" role=\"menuitem\">Договор-оферта</a></li></ul> <address class=\"footer__address\"><a href=\"mailto:clients@itresume.ru\">clients@itresume.ru</a> <a href=\"https://t.me/itresume_chat\" target=\"_blank\" class=\"footer__chat\">Чат в Telegram</a></address></div></div></footer></div> <div class=\"cookie\"><div>Мы используем файлы cookie. Используя наш сайт, Вы даете согласие на использование файлов cookie.</div> <div class=\"cookie__bottom\"><button class=\"button button--blue cookie__button\">OK</button> <a href=\"/legal/cookie\" class=\"button button--blue button--void cookie__button\">Подробнее</a></div></div></div><script src=\"/js/chunk-vendors.4f86a1e8.js\" defer></script><script src=\"/js/9240.8b3842ea.js\" defer></script><script src=\"/js/5560.20cf0ecb.js\" defer></script><script src=\"/js/5177.56face91.js\" defer></script><script src=\"/js/5062.34265b47.js\" defer></script><script src=\"/js/227.d2fd02a1.js\" defer></script><script src=\"/js/app.51ce674e.js\" defer></script></body>\\n</html>\\n'"
            ],
            "application/vnd.google.colaboratory.intrinsic+json": {
              "type": "string"
            }
          },
          "metadata": {},
          "execution_count": 17
        }
      ]
    },
    {
      "cell_type": "markdown",
      "source": [
        "# **Посмотрим кодировку ответа**"
      ],
      "metadata": {
        "id": "Gaxxxz6Nru9e"
      }
    },
    {
      "cell_type": "code",
      "source": [
        "r.encoding"
      ],
      "metadata": {
        "colab": {
          "base_uri": "https://localhost:8080/",
          "height": 36
        },
        "id": "5SgQtcxXrrr0",
        "outputId": "3b8ad96f-b8c4-43ab-d8ca-e3bedbf2a3a4"
      },
      "execution_count": 18,
      "outputs": [
        {
          "output_type": "execute_result",
          "data": {
            "text/plain": [
              "'utf-8'"
            ],
            "application/vnd.google.colaboratory.intrinsic+json": {
              "type": "string"
            }
          },
          "metadata": {},
          "execution_count": 18
        }
      ]
    },
    {
      "cell_type": "markdown",
      "source": [
        "# **Посмотрим \"нерасшифрованный\" ответ**"
      ],
      "metadata": {
        "id": "7V0nLUK8ry_a"
      }
    },
    {
      "cell_type": "code",
      "source": [
        "r.content"
      ],
      "metadata": {
        "id": "rR3BPQuJrmlL"
      },
      "execution_count": null,
      "outputs": []
    },
    {
      "cell_type": "markdown",
      "source": [
        "Отправим запрос с параметрами"
      ],
      "metadata": {
        "id": "yGPxlWVhr4qP"
      }
    },
    {
      "cell_type": "code",
      "source": [
        "https://itresume.ru?key1=value1&key2..."
      ],
      "metadata": {
        "id": "LEH7Zgs3r7yD"
      },
      "execution_count": null,
      "outputs": []
    },
    {
      "cell_type": "code",
      "source": [
        "value1 = 1\n",
        "value2 = 2\n",
        "\n",
        "r = requests.get(f'https://itresume.ru?key1={value1}&key2={value2}')"
      ],
      "metadata": {
        "id": "WU3cFM0CtMDX"
      },
      "execution_count": 23,
      "outputs": []
    },
    {
      "cell_type": "code",
      "source": [
        "r.status_code"
      ],
      "metadata": {
        "colab": {
          "base_uri": "https://localhost:8080/"
        },
        "id": "OCwpp7xltlbO",
        "outputId": "5988c375-f60c-477b-e4d7-1107dfa030d9"
      },
      "execution_count": 22,
      "outputs": [
        {
          "output_type": "execute_result",
          "data": {
            "text/plain": [
              "200"
            ]
          },
          "metadata": {},
          "execution_count": 22
        }
      ]
    },
    {
      "cell_type": "code",
      "source": [
        "URL = \"https://itresume.ru\""
      ],
      "metadata": {
        "id": "Ae_nQZADt_ZM"
      },
      "execution_count": 24,
      "outputs": []
    },
    {
      "cell_type": "code",
      "source": [
        "params = {\n",
        "    'utm_source': 'colab',\n",
        "    'utm_content': 'lesson'\n",
        "}\n",
        "\n",
        "r = requests .get(URL, params=params)"
      ],
      "metadata": {
        "id": "c5X2Hf9YtoFQ"
      },
      "execution_count": 25,
      "outputs": []
    },
    {
      "cell_type": "code",
      "source": [
        "r.status_code"
      ],
      "metadata": {
        "colab": {
          "base_uri": "https://localhost:8080/"
        },
        "id": "DIjCqhzbuLHy",
        "outputId": "0e1b973f-cec1-4dca-9ebf-01212dc370f8"
      },
      "execution_count": 27,
      "outputs": [
        {
          "output_type": "execute_result",
          "data": {
            "text/plain": [
              "200"
            ]
          },
          "metadata": {},
          "execution_count": 27
        }
      ]
    },
    {
      "cell_type": "code",
      "source": [
        "r.url"
      ],
      "metadata": {
        "colab": {
          "base_uri": "https://localhost:8080/",
          "height": 36
        },
        "id": "EmR3UXnbuMdX",
        "outputId": "a142a3b3-e54c-4e30-d435-9eb45c4ee6d4"
      },
      "execution_count": 28,
      "outputs": [
        {
          "output_type": "execute_result",
          "data": {
            "text/plain": [
              "'https://itresume.ru/?utm_source=colab&utm_content=lesson'"
            ],
            "application/vnd.google.colaboratory.intrinsic+json": {
              "type": "string"
            }
          },
          "metadata": {},
          "execution_count": 28
        }
      ]
    },
    {
      "cell_type": "markdown",
      "source": [
        "# **Работаем с REST API**"
      ],
      "metadata": {
        "id": "9DUzowiLr-Ii"
      }
    },
    {
      "cell_type": "code",
      "source": [],
      "metadata": {
        "id": "S85hdxm1sGfa"
      },
      "execution_count": null,
      "outputs": []
    }
  ]
}