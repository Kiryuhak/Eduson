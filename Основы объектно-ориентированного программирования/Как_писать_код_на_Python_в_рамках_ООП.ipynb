{
  "cells": [
    {
      "cell_type": "markdown",
      "metadata": {
        "id": "view-in-github",
        "colab_type": "text"
      },
      "source": [
        "<a href=\"https://colab.research.google.com/github/Kiryuhak/Eduson/blob/main/%D0%9A%D0%B0%D0%BA_%D0%BF%D0%B8%D1%81%D0%B0%D1%82%D1%8C_%D0%BA%D0%BE%D0%B4_%D0%BD%D0%B0_Python_%D0%B2_%D1%80%D0%B0%D0%BC%D0%BA%D0%B0%D1%85_%D0%9E%D0%9E%D0%9F.ipynb\" target=\"_parent\"><img src=\"https://colab.research.google.com/assets/colab-badge.svg\" alt=\"Open In Colab\"/></a>"
      ]
    },
    {
      "cell_type": "markdown",
      "metadata": {
        "id": "Z6ttKRYtVi-V"
      },
      "source": [
        "# **Полезные приемы**"
      ]
    },
    {
      "cell_type": "markdown",
      "metadata": {
        "id": "jnDPiiDfVmtK"
      },
      "source": [
        "# Статические методы"
      ]
    },
    {
      "cell_type": "code",
      "execution_count": null,
      "metadata": {
        "id": "DbgTV3bwV6E_"
      },
      "outputs": [],
      "source": [
        "class A:\n",
        "  def __init__(self, x, y):\n",
        "    self.x = x\n",
        "    self.y = y\n",
        "\n",
        "  def mul(self):\n",
        "    return self.x * self.y\n",
        "\n",
        "  @staticmethod\n",
        "  def mul_any(x, y):\n",
        "    return x*y"
      ]
    },
    {
      "cell_type": "code",
      "execution_count": null,
      "metadata": {
        "colab": {
          "base_uri": "https://localhost:8080/"
        },
        "id": "2AqqZp7YWNZb",
        "outputId": "6cae66ea-e1a1-4160-9eeb-6c611766c70a"
      },
      "outputs": [
        {
          "data": {
            "text/plain": [
              "150"
            ]
          },
          "execution_count": 5,
          "metadata": {},
          "output_type": "execute_result"
        }
      ],
      "source": [
        "a = A(10, 15)\n",
        "a.mul()"
      ]
    },
    {
      "cell_type": "code",
      "execution_count": null,
      "metadata": {
        "colab": {
          "base_uri": "https://localhost:8080/"
        },
        "id": "EXdTNLpVWSi4",
        "outputId": "4df58a3f-6310-4948-adfc-265f3b0c4c43"
      },
      "outputs": [
        {
          "data": {
            "text/plain": [
              "150"
            ]
          },
          "execution_count": 6,
          "metadata": {},
          "output_type": "execute_result"
        }
      ],
      "source": [
        "a = A(10, 15)\n",
        "a.mul_any(10, 15)"
      ]
    },
    {
      "cell_type": "code",
      "execution_count": null,
      "metadata": {
        "colab": {
          "base_uri": "https://localhost:8080/",
          "height": 141
        },
        "id": "vf39GakPWWEV",
        "outputId": "2b3d5d19-084d-43b4-a68b-f40e221f1aea"
      },
      "outputs": [
        {
          "ename": "TypeError",
          "evalue": "A.mul() missing 1 required positional argument: 'self'",
          "output_type": "error",
          "traceback": [
            "\u001b[0;31m---------------------------------------------------------------------------\u001b[0m",
            "\u001b[0;31mTypeError\u001b[0m                                 Traceback (most recent call last)",
            "\u001b[0;32m<ipython-input-8-eef7fbf25747>\u001b[0m in \u001b[0;36m<cell line: 1>\u001b[0;34m()\u001b[0m\n\u001b[0;32m----> 1\u001b[0;31m \u001b[0mA\u001b[0m\u001b[0;34m.\u001b[0m\u001b[0mmul\u001b[0m\u001b[0;34m(\u001b[0m\u001b[0;34m)\u001b[0m\u001b[0;34m\u001b[0m\u001b[0;34m\u001b[0m\u001b[0m\n\u001b[0m",
            "\u001b[0;31mTypeError\u001b[0m: A.mul() missing 1 required positional argument: 'self'"
          ]
        }
      ],
      "source": [
        "A.mul()"
      ]
    },
    {
      "cell_type": "code",
      "execution_count": null,
      "metadata": {
        "colab": {
          "base_uri": "https://localhost:8080/"
        },
        "id": "DYJnPfCJWhj6",
        "outputId": "ff280e03-113d-462d-ef57-4ae07343d590"
      },
      "outputs": [
        {
          "data": {
            "text/plain": [
              "150"
            ]
          },
          "execution_count": 9,
          "metadata": {},
          "output_type": "execute_result"
        }
      ],
      "source": [
        "A.mul_any(10, 15)"
      ]
    },
    {
      "cell_type": "code",
      "execution_count": null,
      "metadata": {
        "id": "ZFcjInJNWkWz"
      },
      "outputs": [],
      "source": [
        "def mul_any(x, y):\n",
        "  return x*y\n",
        "\n",
        "class A:\n",
        "  def __init__(self, x, y):\n",
        "    self.x = x\n",
        "    self.y = y\n",
        "\n",
        "  def mul(self):\n",
        "    return self.x * self.y"
      ]
    },
    {
      "cell_type": "markdown",
      "metadata": {
        "id": "_e1ybk8tVqHT"
      },
      "source": [
        "# Классовые методы"
      ]
    },
    {
      "cell_type": "code",
      "execution_count": null,
      "metadata": {
        "id": "TD7_elSFdciM"
      },
      "outputs": [],
      "source": [
        "class A:\n",
        "  age = 15\n",
        "\n",
        "  def __init__(self, age):\n",
        "    self.age = age\n",
        "\n",
        "  @classmethod\n",
        "  def show(cls):\n",
        "    return cls.age"
      ]
    },
    {
      "cell_type": "code",
      "execution_count": null,
      "metadata": {
        "colab": {
          "base_uri": "https://localhost:8080/"
        },
        "id": "UFdhbNA6dtmt",
        "outputId": "ae0183fe-4941-4205-e8b7-fad8049635d7"
      },
      "outputs": [
        {
          "data": {
            "text/plain": [
              "15"
            ]
          },
          "execution_count": 18,
          "metadata": {},
          "output_type": "execute_result"
        }
      ],
      "source": [
        "A.show()"
      ]
    },
    {
      "cell_type": "code",
      "execution_count": null,
      "metadata": {
        "colab": {
          "base_uri": "https://localhost:8080/"
        },
        "id": "xHKLBbb_dzgq",
        "outputId": "351045a1-0b57-4bbc-dc09-071753cc8803"
      },
      "outputs": [
        {
          "data": {
            "text/plain": [
              "(15, 25)"
            ]
          },
          "execution_count": 27,
          "metadata": {},
          "output_type": "execute_result"
        }
      ],
      "source": [
        "a = A(25)\n",
        "\n",
        "a.show(), a.age"
      ]
    },
    {
      "cell_type": "code",
      "execution_count": null,
      "metadata": {
        "id": "MwVpaaoLf-nW"
      },
      "outputs": [],
      "source": [
        "class Person:\n",
        "  cnt = 0\n",
        "\n",
        "  @classmethod\n",
        "  def born(cls):\n",
        "    cls.cnt += 1"
      ]
    },
    {
      "cell_type": "code",
      "execution_count": null,
      "metadata": {
        "colab": {
          "base_uri": "https://localhost:8080/"
        },
        "id": "XynAH191gHzC",
        "outputId": "20fed480-a9c5-4e63-89f8-bef71ee44f44"
      },
      "outputs": [
        {
          "name": "stdout",
          "output_type": "stream",
          "text": [
            "1\n",
            "2\n",
            "3\n"
          ]
        }
      ],
      "source": [
        "Person.born()\n",
        "print(Person.cnt)\n",
        "Person.born()\n",
        "print(Person.cnt)\n",
        "Person.born()\n",
        "print(Person.cnt)"
      ]
    },
    {
      "cell_type": "markdown",
      "metadata": {
        "id": "zMDFI_-uVsV6"
      },
      "source": [
        "# Геттеры-сеттеры"
      ]
    },
    {
      "cell_type": "code",
      "execution_count": null,
      "metadata": {
        "id": "U39BB96yh2rF"
      },
      "outputs": [],
      "source": [
        "class Person:\n",
        "  def __init__(self, age):\n",
        "    self.__age = age\n",
        "\n",
        "  def get_age(self):\n",
        "    return self.__age\n",
        "\n",
        "  def set_age(self, age):\n",
        "   self.__age = age"
      ]
    },
    {
      "cell_type": "code",
      "execution_count": null,
      "metadata": {
        "colab": {
          "base_uri": "https://localhost:8080/",
          "height": 158
        },
        "id": "p5vbhGDkh8hq",
        "outputId": "e52596dd-a758-45cf-ddd9-f4417eff492f"
      },
      "outputs": [
        {
          "ename": "AttributeError",
          "evalue": "'Person' object has no attribute '__age'",
          "output_type": "error",
          "traceback": [
            "\u001b[0;31m---------------------------------------------------------------------------\u001b[0m",
            "\u001b[0;31mAttributeError\u001b[0m                            Traceback (most recent call last)",
            "\u001b[0;32m<ipython-input-33-723447e10d01>\u001b[0m in \u001b[0;36m<cell line: 2>\u001b[0;34m()\u001b[0m\n\u001b[1;32m      1\u001b[0m \u001b[0mp\u001b[0m \u001b[0;34m=\u001b[0m \u001b[0mPerson\u001b[0m\u001b[0;34m(\u001b[0m\u001b[0;36m15\u001b[0m\u001b[0;34m)\u001b[0m\u001b[0;34m\u001b[0m\u001b[0;34m\u001b[0m\u001b[0m\n\u001b[0;32m----> 2\u001b[0;31m \u001b[0mp\u001b[0m\u001b[0;34m.\u001b[0m\u001b[0m__age\u001b[0m\u001b[0;34m\u001b[0m\u001b[0;34m\u001b[0m\u001b[0m\n\u001b[0m",
            "\u001b[0;31mAttributeError\u001b[0m: 'Person' object has no attribute '__age'"
          ]
        }
      ],
      "source": [
        "p = Person(15)\n",
        "p.__age"
      ]
    },
    {
      "cell_type": "code",
      "execution_count": null,
      "metadata": {
        "colab": {
          "base_uri": "https://localhost:8080/"
        },
        "id": "FKxWISzniUCw",
        "outputId": "186ddc65-2166-49f7-c524-ea472f9b0338"
      },
      "outputs": [
        {
          "data": {
            "text/plain": [
              "15"
            ]
          },
          "execution_count": 35,
          "metadata": {},
          "output_type": "execute_result"
        }
      ],
      "source": [
        "p.get_age()"
      ]
    },
    {
      "cell_type": "code",
      "execution_count": null,
      "metadata": {
        "colab": {
          "base_uri": "https://localhost:8080/"
        },
        "id": "h2fJYRGjiXY8",
        "outputId": "cc8dc65b-00d8-4f4a-f7da-908a1333642d"
      },
      "outputs": [
        {
          "data": {
            "text/plain": [
              "25"
            ]
          },
          "execution_count": 36,
          "metadata": {},
          "output_type": "execute_result"
        }
      ],
      "source": [
        "p.set_age(25)\n",
        "p.get_age()"
      ]
    },
    {
      "cell_type": "markdown",
      "metadata": {
        "id": "hj1FdmeyVvpN"
      },
      "source": [
        "# Свойства"
      ]
    },
    {
      "cell_type": "code",
      "execution_count": null,
      "metadata": {
        "id": "wHWF5xCSVcRi"
      },
      "outputs": [],
      "source": [
        "class Person:\n",
        "  def __init__(self, age):\n",
        "    self.__age = age\n",
        "\n",
        "  @property\n",
        "  def age(self):\n",
        "    return self.__age\n",
        "\n",
        "  def set_age(self, age):\n",
        "   self.__age = age"
      ]
    },
    {
      "cell_type": "code",
      "execution_count": null,
      "metadata": {
        "colab": {
          "base_uri": "https://localhost:8080/"
        },
        "id": "PZNRLT1di0Wi",
        "outputId": "b965dd88-3a69-41ae-cede-cc2533f4bbb0"
      },
      "outputs": [
        {
          "data": {
            "text/plain": [
              "15"
            ]
          },
          "execution_count": 40,
          "metadata": {},
          "output_type": "execute_result"
        }
      ],
      "source": [
        "p = Person(15)\n",
        "p.age"
      ]
    },
    {
      "cell_type": "markdown",
      "metadata": {
        "id": "fEuyLu7Hkt-v"
      },
      "source": [
        "# **Как использовать магические методы**"
      ]
    },
    {
      "cell_type": "markdown",
      "metadata": {
        "id": "8UoJ9-OJkvoq"
      },
      "source": [
        "# Магические методы"
      ]
    },
    {
      "cell_type": "code",
      "execution_count": null,
      "metadata": {
        "colab": {
          "background_save": true
        },
        "id": "9WIpbiFt7MNd"
      },
      "outputs": [],
      "source": [
        "class TwoDiv:\n",
        "  def __init__(self, value):\n",
        "    self.value = value\n",
        "\n",
        "  def __str__(self):\n",
        "    return str(self.value)\n",
        "\n",
        "  def __add__(self, other):\n",
        "    return TwoDiv(self.value + other.value)\n",
        "\n",
        "a = TwoDiv(256)\n",
        "b = TwoDiv(450)"
      ]
    },
    {
      "cell_type": "code",
      "execution_count": null,
      "metadata": {
        "colab": {
          "base_uri": "https://localhost:8080/"
        },
        "id": "CQP74Pon7m2b",
        "outputId": "03fc624f-56cd-4432-b754-56226c2415f8"
      },
      "outputs": [
        {
          "name": "stdout",
          "output_type": "stream",
          "text": [
            "256\n"
          ]
        }
      ],
      "source": [
        "print(a)"
      ]
    },
    {
      "cell_type": "code",
      "execution_count": null,
      "metadata": {
        "colab": {
          "base_uri": "https://localhost:8080/"
        },
        "id": "c257TGbI7n0d",
        "outputId": "6d0bd323-9463-4d9a-e984-48139d909b46"
      },
      "outputs": [
        {
          "output_type": "execute_result",
          "data": {
            "text/plain": [
              "<__main__.TwoDiv at 0x7b3ea316ffa0>"
            ]
          },
          "metadata": {},
          "execution_count": 20
        }
      ],
      "source": [
        "a + b"
      ]
    },
    {
      "cell_type": "code",
      "execution_count": null,
      "metadata": {
        "id": "LdO9PxHP8TWe",
        "outputId": "c656ab93-ff00-46a8-b012-63d483e069c2",
        "colab": {
          "base_uri": "https://localhost:8080/"
        }
      },
      "outputs": [
        {
          "output_type": "stream",
          "name": "stdout",
          "text": [
            "256\n"
          ]
        }
      ],
      "source": [
        "print(b)"
      ]
    },
    {
      "cell_type": "markdown",
      "source": [
        "# **Создаем шаблон Синглтон**"
      ],
      "metadata": {
        "id": "uspmFklHReyp"
      }
    },
    {
      "cell_type": "code",
      "source": [
        "class FileReader:\n",
        "  def __init__(self, path):\n",
        "    self.path = path"
      ],
      "metadata": {
        "id": "WKvoD4qeRiwk"
      },
      "execution_count": 22,
      "outputs": []
    },
    {
      "cell_type": "code",
      "source": [
        "a = FileReader('1.txt')\n",
        "b = FileReader('2.txt')"
      ],
      "metadata": {
        "id": "Ak2_81wqVCPc"
      },
      "execution_count": 23,
      "outputs": []
    },
    {
      "cell_type": "code",
      "source": [
        "a is b"
      ],
      "metadata": {
        "colab": {
          "base_uri": "https://localhost:8080/"
        },
        "id": "PzDe6CDuVIEs",
        "outputId": "a7b1730a-989e-45e3-c1fc-44d8d8f7cf9f"
      },
      "execution_count": 24,
      "outputs": [
        {
          "output_type": "execute_result",
          "data": {
            "text/plain": [
              "False"
            ]
          },
          "metadata": {},
          "execution_count": 24
        }
      ]
    },
    {
      "cell_type": "code",
      "source": [
        "class FileReader:\n",
        "  def __new__(cls, *args, **kwargs):\n",
        "    if not hasattr(cls, 'instance'):\n",
        "      #если объекта еще нет\n",
        "      cls.instance = super().__new__(cls)\n",
        "      return cls.instance\n",
        "    return cls.instance # если объект уже есть\n",
        "\n",
        "  def __init__(self, path):\n",
        "    self.path = path"
      ],
      "metadata": {
        "id": "HLnj_ResVIlj"
      },
      "execution_count": 28,
      "outputs": []
    },
    {
      "cell_type": "code",
      "source": [
        "a = FileReader('1.txt')\n",
        "b = FileReader('2.txt')"
      ],
      "metadata": {
        "id": "z07VXcleWQd5"
      },
      "execution_count": 29,
      "outputs": []
    },
    {
      "cell_type": "code",
      "source": [
        "a is b"
      ],
      "metadata": {
        "colab": {
          "base_uri": "https://localhost:8080/"
        },
        "id": "GVOJUwp0WQxF",
        "outputId": "89d5d4c0-3483-43aa-ab7e-cd2806e2a198"
      },
      "execution_count": 30,
      "outputs": [
        {
          "output_type": "execute_result",
          "data": {
            "text/plain": [
              "True"
            ]
          },
          "metadata": {},
          "execution_count": 30
        }
      ]
    }
  ],
  "metadata": {
    "colab": {
      "toc_visible": true,
      "provenance": [],
      "authorship_tag": "ABX9TyOb/7z7+Xry5dj0CI3+9lZ9",
      "include_colab_link": true
    },
    "kernelspec": {
      "display_name": "Python 3",
      "name": "python3"
    },
    "language_info": {
      "name": "python"
    }
  },
  "nbformat": 4,
  "nbformat_minor": 0
}