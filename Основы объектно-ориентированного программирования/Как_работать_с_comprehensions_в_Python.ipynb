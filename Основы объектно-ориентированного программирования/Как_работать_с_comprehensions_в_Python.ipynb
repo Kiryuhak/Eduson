{
  "nbformat": 4,
  "nbformat_minor": 0,
  "metadata": {
    "colab": {
      "provenance": [],
      "toc_visible": true,
      "authorship_tag": "ABX9TyOwV8aMH4vWm8sLWG+g1iWq",
      "include_colab_link": true
    },
    "kernelspec": {
      "name": "python3",
      "display_name": "Python 3"
    },
    "language_info": {
      "name": "python"
    }
  },
  "cells": [
    {
      "cell_type": "markdown",
      "metadata": {
        "id": "view-in-github",
        "colab_type": "text"
      },
      "source": [
        "<a href=\"https://colab.research.google.com/github/Kiryuhak/Eduson/blob/main/%D0%9A%D0%B0%D0%BA_%D1%80%D0%B0%D0%B1%D0%BE%D1%82%D0%B0%D1%82%D1%8C_%D1%81_comprehensions_%D0%B2_Python.ipynb\" target=\"_parent\"><img src=\"https://colab.research.google.com/assets/colab-badge.svg\" alt=\"Open In Colab\"/></a>"
      ]
    },
    {
      "cell_type": "markdown",
      "source": [
        "# **Базовый list comprehension**"
      ],
      "metadata": {
        "id": "LyqFZOg3qR9G"
      }
    },
    {
      "cell_type": "code",
      "execution_count": 1,
      "metadata": {
        "id": "8AaPnplNh1P1",
        "colab": {
          "base_uri": "https://localhost:8080/"
        },
        "outputId": "8a4b5064-131b-43a4-ec90-7e38da7bc4c7"
      },
      "outputs": [
        {
          "output_type": "stream",
          "name": "stdout",
          "text": [
            "[1, 4, 9, 16, 25, 36, 49, 64, 81]\n"
          ]
        }
      ],
      "source": [
        "lst = [1, 2, 3, 4, 5, 6, 7, 8, 9]\n",
        "\n",
        "result = []\n",
        "for el in lst:\n",
        "    result.append(el ** 2)\n",
        "\n",
        "print(result)\n"
      ]
    },
    {
      "cell_type": "code",
      "source": [
        "\n",
        "[el**2 for el in lst]"
      ],
      "metadata": {
        "id": "U2uIJ0qnl7yu",
        "colab": {
          "base_uri": "https://localhost:8080/"
        },
        "outputId": "ef1ee38d-42ec-4d27-9941-c7ac95faebec"
      },
      "execution_count": 2,
      "outputs": [
        {
          "output_type": "execute_result",
          "data": {
            "text/plain": [
              "[1, 4, 9, 16, 25, 36, 49, 64, 81]"
            ]
          },
          "metadata": {},
          "execution_count": 2
        }
      ]
    },
    {
      "cell_type": "code",
      "source": [
        "t = list(range(51))\n",
        "\n",
        "print(t)"
      ],
      "metadata": {
        "id": "y6bmu4aul8h-",
        "colab": {
          "base_uri": "https://localhost:8080/"
        },
        "outputId": "020e558e-413f-4897-c9d5-d5adc3b134d2"
      },
      "execution_count": 3,
      "outputs": [
        {
          "output_type": "stream",
          "name": "stdout",
          "text": [
            "[0, 1, 2, 3, 4, 5, 6, 7, 8, 9, 10, 11, 12, 13, 14, 15, 16, 17, 18, 19, 20, 21, 22, 23, 24, 25, 26, 27, 28, 29, 30, 31, 32, 33, 34, 35, 36, 37, 38, 39, 40, 41, 42, 43, 44, 45, 46, 47, 48, 49, 50]\n"
          ]
        }
      ]
    },
    {
      "cell_type": "code",
      "source": [
        "[sin(ti) for ti in t]"
      ],
      "metadata": {
        "id": "eoadRrJamXsD",
        "colab": {
          "base_uri": "https://localhost:8080/",
          "height": 227
        },
        "outputId": "71243d4e-9899-4d1a-be3f-014f67128178"
      },
      "execution_count": 4,
      "outputs": [
        {
          "output_type": "error",
          "ename": "NameError",
          "evalue": "name 'sin' is not defined",
          "traceback": [
            "\u001b[0;31m---------------------------------------------------------------------------\u001b[0m",
            "\u001b[0;31mNameError\u001b[0m                                 Traceback (most recent call last)",
            "\u001b[0;32m<ipython-input-4-42fc16419945>\u001b[0m in \u001b[0;36m<cell line: 1>\u001b[0;34m()\u001b[0m\n\u001b[0;32m----> 1\u001b[0;31m \u001b[0;34m[\u001b[0m\u001b[0msin\u001b[0m\u001b[0;34m(\u001b[0m\u001b[0mti\u001b[0m\u001b[0;34m)\u001b[0m \u001b[0;32mfor\u001b[0m \u001b[0mti\u001b[0m \u001b[0;32min\u001b[0m \u001b[0mt\u001b[0m\u001b[0;34m]\u001b[0m\u001b[0;34m\u001b[0m\u001b[0;34m\u001b[0m\u001b[0m\n\u001b[0m",
            "\u001b[0;32m<ipython-input-4-42fc16419945>\u001b[0m in \u001b[0;36m<listcomp>\u001b[0;34m(.0)\u001b[0m\n\u001b[0;32m----> 1\u001b[0;31m \u001b[0;34m[\u001b[0m\u001b[0msin\u001b[0m\u001b[0;34m(\u001b[0m\u001b[0mti\u001b[0m\u001b[0;34m)\u001b[0m \u001b[0;32mfor\u001b[0m \u001b[0mti\u001b[0m \u001b[0;32min\u001b[0m \u001b[0mt\u001b[0m\u001b[0;34m]\u001b[0m\u001b[0;34m\u001b[0m\u001b[0;34m\u001b[0m\u001b[0m\n\u001b[0m",
            "\u001b[0;31mNameError\u001b[0m: name 'sin' is not defined"
          ]
        }
      ]
    },
    {
      "cell_type": "code",
      "source": [
        "list(map(sin, t)) == [sin(ti) for ti in t]"
      ],
      "metadata": {
        "id": "Uy_6fAJQmaO3"
      },
      "execution_count": null,
      "outputs": []
    },
    {
      "cell_type": "code",
      "source": [
        "[5 for _ in t]"
      ],
      "metadata": {
        "id": "ImsYpizqmfuy"
      },
      "execution_count": null,
      "outputs": []
    },
    {
      "cell_type": "markdown",
      "source": [
        "# **Добавление условий**"
      ],
      "metadata": {
        "id": "tB38DRrerD-7"
      }
    },
    {
      "cell_type": "code",
      "source": [
        "lst = [1, [1, 2], [3, 4, 5], 10]"
      ],
      "metadata": {
        "id": "k6tLDJ0krLYn"
      },
      "execution_count": 18,
      "outputs": []
    },
    {
      "cell_type": "code",
      "source": [
        "[len(el) for el in lst]"
      ],
      "metadata": {
        "colab": {
          "base_uri": "https://localhost:8080/",
          "height": 227
        },
        "id": "ZUIXflIprYmE",
        "outputId": "62821349-cf39-4f38-fd32-544ef436e7e5"
      },
      "execution_count": 9,
      "outputs": [
        {
          "output_type": "error",
          "ename": "TypeError",
          "evalue": "object of type 'int' has no len()",
          "traceback": [
            "\u001b[0;31m---------------------------------------------------------------------------\u001b[0m",
            "\u001b[0;31mTypeError\u001b[0m                                 Traceback (most recent call last)",
            "\u001b[0;32m<ipython-input-9-86ed69141faf>\u001b[0m in \u001b[0;36m<cell line: 1>\u001b[0;34m()\u001b[0m\n\u001b[0;32m----> 1\u001b[0;31m \u001b[0;34m[\u001b[0m\u001b[0mlen\u001b[0m\u001b[0;34m(\u001b[0m\u001b[0mel\u001b[0m\u001b[0;34m)\u001b[0m \u001b[0;32mfor\u001b[0m \u001b[0mel\u001b[0m \u001b[0;32min\u001b[0m \u001b[0mlst\u001b[0m\u001b[0;34m]\u001b[0m\u001b[0;34m\u001b[0m\u001b[0;34m\u001b[0m\u001b[0m\n\u001b[0m",
            "\u001b[0;32m<ipython-input-9-86ed69141faf>\u001b[0m in \u001b[0;36m<listcomp>\u001b[0;34m(.0)\u001b[0m\n\u001b[0;32m----> 1\u001b[0;31m \u001b[0;34m[\u001b[0m\u001b[0mlen\u001b[0m\u001b[0;34m(\u001b[0m\u001b[0mel\u001b[0m\u001b[0;34m)\u001b[0m \u001b[0;32mfor\u001b[0m \u001b[0mel\u001b[0m \u001b[0;32min\u001b[0m \u001b[0mlst\u001b[0m\u001b[0;34m]\u001b[0m\u001b[0;34m\u001b[0m\u001b[0;34m\u001b[0m\u001b[0m\n\u001b[0m",
            "\u001b[0;31mTypeError\u001b[0m: object of type 'int' has no len()"
          ]
        }
      ]
    },
    {
      "cell_type": "code",
      "source": [
        "[len(el) for el in lst if isinstance(el, list)]"
      ],
      "metadata": {
        "colab": {
          "base_uri": "https://localhost:8080/"
        },
        "id": "ioPwNg79rcHQ",
        "outputId": "ebecc9d0-08b1-4929-8eb6-cb0d9a76f3c0"
      },
      "execution_count": 17,
      "outputs": [
        {
          "output_type": "execute_result",
          "data": {
            "text/plain": [
              "[2, 3]"
            ]
          },
          "metadata": {},
          "execution_count": 17
        }
      ]
    },
    {
      "cell_type": "code",
      "source": [
        "[len(el) if isinstance(el, list) else 1 for el in lst]"
      ],
      "metadata": {
        "colab": {
          "base_uri": "https://localhost:8080/"
        },
        "id": "-3EV5qCxrhn4",
        "outputId": "ecc60d92-badc-492e-df19-4d4e0d20757c"
      },
      "execution_count": 16,
      "outputs": [
        {
          "output_type": "execute_result",
          "data": {
            "text/plain": [
              "[1, 2, 3, 1]"
            ]
          },
          "metadata": {},
          "execution_count": 16
        }
      ]
    },
    {
      "cell_type": "code",
      "source": [
        "def check(x):\n",
        "  if isinstance(el, list):\n",
        "    return len(x)\n",
        "  return 1"
      ],
      "metadata": {
        "id": "qDiHoueCrvuu"
      },
      "execution_count": 14,
      "outputs": []
    },
    {
      "cell_type": "code",
      "source": [
        "[check(x) for x in lst]"
      ],
      "metadata": {
        "colab": {
          "base_uri": "https://localhost:8080/"
        },
        "id": "IHji1m7ctaPF",
        "outputId": "21192b69-176d-424c-ef10-a46a5b8bfd96"
      },
      "execution_count": 19,
      "outputs": [
        {
          "output_type": "execute_result",
          "data": {
            "text/plain": [
              "[1, 1, 1, 1]"
            ]
          },
          "metadata": {},
          "execution_count": 19
        }
      ]
    },
    {
      "cell_type": "code",
      "source": [],
      "metadata": {
        "id": "rlGqHNoHtddQ"
      },
      "execution_count": null,
      "outputs": []
    },
    {
      "cell_type": "markdown",
      "source": [
        "# **А если по нескольким спискам?**"
      ],
      "metadata": {
        "id": "neXv2lcZtvvl"
      }
    },
    {
      "cell_type": "code",
      "source": [
        "lst = [[1, 2, 3], [3, 4], [], [5, 6, 7, 8]]\n",
        "\n",
        "result = []\n",
        "for subarr in lst:\n",
        "  for el in subarr:\n",
        "    result.append(el)\n",
        "\n",
        "print(result)"
      ],
      "metadata": {
        "colab": {
          "base_uri": "https://localhost:8080/"
        },
        "id": "2c4xwcyWt2k6",
        "outputId": "c5641b89-5cb0-4e13-d78b-6b799f4a718b"
      },
      "execution_count": 21,
      "outputs": [
        {
          "output_type": "stream",
          "name": "stdout",
          "text": [
            "[1, 2, 3, 3, 4, 5, 6, 7, 8]\n"
          ]
        }
      ]
    },
    {
      "cell_type": "code",
      "source": [
        "[el for subarr in lst for el in subarr]"
      ],
      "metadata": {
        "colab": {
          "base_uri": "https://localhost:8080/"
        },
        "id": "9-GmU89euTpq",
        "outputId": "47c46c3f-9f73-4e85-9be6-93e648553fbf"
      },
      "execution_count": 24,
      "outputs": [
        {
          "output_type": "execute_result",
          "data": {
            "text/plain": [
              "[1, 2, 3, 3, 4, 5, 6, 7, 8]"
            ]
          },
          "metadata": {},
          "execution_count": 24
        }
      ]
    },
    {
      "cell_type": "code",
      "source": [
        "codes = [0, 1, 1, 2, 0]\n",
        "outputs = [[100, 200], 'Все ок', 'Все не ок', 'SyntaxError', 1000]\n",
        "\n",
        "codes_d = {\n",
        "    0: 'Тест пройден успешно',\n",
        "    1: 'Тест не пройден',\n",
        "    2: 'Ошибка при выполнении'\n",
        "}\n",
        "\n",
        "results = [f\"{codes_d[code_i]}\\n\\n{output_i}\" for code_i, output_i in zip(codes, outputs)]\n",
        "\n",
        "for res in results:\n",
        "  print(res)"
      ],
      "metadata": {
        "colab": {
          "base_uri": "https://localhost:8080/"
        },
        "id": "sSvXOZDOucKC",
        "outputId": "44877a22-4f90-4114-e1ea-ea43291e0871"
      },
      "execution_count": 31,
      "outputs": [
        {
          "output_type": "stream",
          "name": "stdout",
          "text": [
            "Тест пройден успешно\n",
            "\n",
            "[100, 200]\n",
            "Тест не пройден\n",
            "\n",
            "Все ок\n",
            "Тест не пройден\n",
            "\n",
            "Все не ок\n",
            "Ошибка при выполнении\n",
            "\n",
            "SyntaxError\n",
            "Тест пройден успешно\n",
            "\n",
            "1000\n"
          ]
        }
      ]
    },
    {
      "cell_type": "code",
      "source": [
        "[f\"Тест с номером {i}: статус - {codes_d[code_i]}\" for i, code_i in enumerate(codes)]"
      ],
      "metadata": {
        "colab": {
          "base_uri": "https://localhost:8080/"
        },
        "id": "w3l4Dn5sxq9q",
        "outputId": "39d75a05-3ff7-436a-e4dd-afccc9d05860"
      },
      "execution_count": 32,
      "outputs": [
        {
          "output_type": "execute_result",
          "data": {
            "text/plain": [
              "['Тест с номером 0: статус - Тест пройден успешно',\n",
              " 'Тест с номером 1: статус - Тест не пройден',\n",
              " 'Тест с номером 2: статус - Тест не пройден',\n",
              " 'Тест с номером 3: статус - Ошибка при выполнении',\n",
              " 'Тест с номером 4: статус - Тест пройден успешно']"
            ]
          },
          "metadata": {},
          "execution_count": 32
        }
      ]
    },
    {
      "cell_type": "code",
      "source": [
        "lst = [10, 20, 30]\n",
        "\n",
        "[[i for i in range(el)] for el in lst]"
      ],
      "metadata": {
        "id": "1WR0J1Ujy8Y0"
      },
      "execution_count": null,
      "outputs": []
    },
    {
      "cell_type": "markdown",
      "source": [
        "# **Генератор множеств**"
      ],
      "metadata": {
        "id": "vNVBxRS9yy65"
      }
    },
    {
      "cell_type": "code",
      "source": [
        "{el for el in lst}"
      ],
      "metadata": {
        "colab": {
          "base_uri": "https://localhost:8080/"
        },
        "id": "UNtleyyjxIpU",
        "outputId": "fe605caa-eeee-4293-b7bb-a9d65aa5ac84"
      },
      "execution_count": 35,
      "outputs": [
        {
          "output_type": "execute_result",
          "data": {
            "text/plain": [
              "{10, 20, 30}"
            ]
          },
          "metadata": {},
          "execution_count": 35
        }
      ]
    },
    {
      "cell_type": "code",
      "source": [
        "lst = [[1, 2, 3], [], [1, 5, 4, 18], [], [2, 3, 65, 2, 10]]\n",
        "\n",
        "result = []\n",
        "for subarr in lst:\n",
        "  for el in subarr:\n",
        "    if el%2 == 0 and el not in result:\n",
        "      result.append(el)\n",
        "\n",
        "print(result)"
      ],
      "metadata": {
        "colab": {
          "base_uri": "https://localhost:8080/"
        },
        "id": "x1XcPU4py5ls",
        "outputId": "0db63d3a-04ba-4fb0-956b-ce611acbc960"
      },
      "execution_count": 39,
      "outputs": [
        {
          "output_type": "stream",
          "name": "stdout",
          "text": [
            "[2, 4, 18, 10]\n"
          ]
        }
      ]
    },
    {
      "cell_type": "code",
      "source": [
        "{el for subarr in lst for el in subarr if el%2 == 0}"
      ],
      "metadata": {
        "colab": {
          "base_uri": "https://localhost:8080/"
        },
        "id": "ej-73tDhziYL",
        "outputId": "60227777-bf97-43b4-b9d1-721b4b550ac2"
      },
      "execution_count": 40,
      "outputs": [
        {
          "output_type": "execute_result",
          "data": {
            "text/plain": [
              "{2, 4, 10, 18}"
            ]
          },
          "metadata": {},
          "execution_count": 40
        }
      ]
    },
    {
      "cell_type": "markdown",
      "source": [
        "# **Генератор словарей**"
      ],
      "metadata": {
        "id": "VA3_o8EuzuoR"
      }
    },
    {
      "cell_type": "code",
      "source": [
        "{k: codes_d[v] for k, v in enumerate(codes)}"
      ],
      "metadata": {
        "colab": {
          "base_uri": "https://localhost:8080/"
        },
        "id": "ybmYxDG6zei_",
        "outputId": "0b62bf57-13ac-4cec-ffc0-e5524273d697"
      },
      "execution_count": 42,
      "outputs": [
        {
          "output_type": "execute_result",
          "data": {
            "text/plain": [
              "{0: 'Тест пройден успешно',\n",
              " 1: 'Тест не пройден',\n",
              " 2: 'Тест не пройден',\n",
              " 3: 'Ошибка при выполнении',\n",
              " 4: 'Тест пройден успешно'}"
            ]
          },
          "metadata": {},
          "execution_count": 42
        }
      ]
    },
    {
      "cell_type": "code",
      "source": [
        "nums = list(range(5))"
      ],
      "metadata": {
        "id": "c6PYT2tUzbDB"
      },
      "execution_count": 43,
      "outputs": []
    },
    {
      "cell_type": "code",
      "source": [
        "nums"
      ],
      "metadata": {
        "colab": {
          "base_uri": "https://localhost:8080/"
        },
        "id": "1P7x9xkP0MmL",
        "outputId": "e8d811a9-86c9-4207-b982-3accfc112619"
      },
      "execution_count": 44,
      "outputs": [
        {
          "output_type": "execute_result",
          "data": {
            "text/plain": [
              "[0, 1, 2, 3, 4]"
            ]
          },
          "metadata": {},
          "execution_count": 44
        }
      ]
    },
    {
      "cell_type": "code",
      "source": [
        "result = [codes_d[el] for el in codes]"
      ],
      "metadata": {
        "id": "DVtrbZyG0NFG"
      },
      "execution_count": 45,
      "outputs": []
    },
    {
      "cell_type": "code",
      "source": [
        "result"
      ],
      "metadata": {
        "colab": {
          "base_uri": "https://localhost:8080/"
        },
        "id": "oXPy-mxd0QwZ",
        "outputId": "1d97769b-f599-4ec7-ec03-f38fb96cb814"
      },
      "execution_count": 46,
      "outputs": [
        {
          "output_type": "execute_result",
          "data": {
            "text/plain": [
              "['Тест пройден успешно',\n",
              " 'Тест не пройден',\n",
              " 'Тест не пройден',\n",
              " 'Ошибка при выполнении',\n",
              " 'Тест пройден успешно']"
            ]
          },
          "metadata": {},
          "execution_count": 46
        }
      ]
    },
    {
      "cell_type": "code",
      "source": [
        "d= {k: v for k, v in zip(nums, result)}"
      ],
      "metadata": {
        "id": "pxTYbPf_0R2Y"
      },
      "execution_count": 48,
      "outputs": []
    },
    {
      "cell_type": "code",
      "source": [
        "d"
      ],
      "metadata": {
        "colab": {
          "base_uri": "https://localhost:8080/"
        },
        "id": "rZ58clp-0cc6",
        "outputId": "872178eb-3c13-4a95-b076-88cdc253506c"
      },
      "execution_count": 49,
      "outputs": [
        {
          "output_type": "execute_result",
          "data": {
            "text/plain": [
              "{0: 'Тест пройден успешно',\n",
              " 1: 'Тест не пройден',\n",
              " 2: 'Тест не пройден',\n",
              " 3: 'Ошибка при выполнении',\n",
              " 4: 'Тест пройден успешно'}"
            ]
          },
          "metadata": {},
          "execution_count": 49
        }
      ]
    },
    {
      "cell_type": "code",
      "source": [
        "nums = [1, 2, 3]\n",
        "nums2 = [1, 2, 3, 4]\n",
        "nums3 = [1, 2, 3, 4, 5]\n",
        "\n",
        "for x, y, z in zip(nums, nums2, nums3):\n",
        "  print(x, y, z)"
      ],
      "metadata": {
        "colab": {
          "base_uri": "https://localhost:8080/"
        },
        "id": "1WnB8O280dKO",
        "outputId": "372e113e-1d24-475a-e069-dee5aef9a227"
      },
      "execution_count": 50,
      "outputs": [
        {
          "output_type": "stream",
          "name": "stdout",
          "text": [
            "1 1 1\n",
            "2 2 2\n",
            "3 3 3\n"
          ]
        }
      ]
    },
    {
      "cell_type": "code",
      "source": [
        "from itertools import zip_longest"
      ],
      "metadata": {
        "id": "qXlz5p4x079C"
      },
      "execution_count": 51,
      "outputs": []
    },
    {
      "cell_type": "code",
      "source": [
        "for x, y, z in zip_longest(nums, nums2, nums3):\n",
        "  print(x, y, z)"
      ],
      "metadata": {
        "colab": {
          "base_uri": "https://localhost:8080/"
        },
        "id": "VhybIHRv1A_r",
        "outputId": "b04ccfbc-917e-49dd-be31-ed8364441225"
      },
      "execution_count": 52,
      "outputs": [
        {
          "output_type": "stream",
          "name": "stdout",
          "text": [
            "1 1 1\n",
            "2 2 2\n",
            "3 3 3\n",
            "None 4 4\n",
            "None None 5\n"
          ]
        }
      ]
    },
    {
      "cell_type": "code",
      "source": [
        "for x, y, z in zip_longest(nums, nums2, nums3, fillvalue=0):\n",
        "  print(x, y, z)"
      ],
      "metadata": {
        "colab": {
          "base_uri": "https://localhost:8080/"
        },
        "id": "lvBvuk1b1Hun",
        "outputId": "2ad5203d-e504-48d0-e976-957974a026de"
      },
      "execution_count": 53,
      "outputs": [
        {
          "output_type": "stream",
          "name": "stdout",
          "text": [
            "1 1 1\n",
            "2 2 2\n",
            "3 3 3\n",
            "0 4 4\n",
            "0 0 5\n"
          ]
        }
      ]
    },
    {
      "cell_type": "code",
      "source": [],
      "metadata": {
        "id": "7Y6u_HlH1NYB"
      },
      "execution_count": null,
      "outputs": []
    },
    {
      "cell_type": "code",
      "source": [],
      "metadata": {
        "id": "sgIJm9ps0ZxS"
      },
      "execution_count": null,
      "outputs": []
    }
  ]
}