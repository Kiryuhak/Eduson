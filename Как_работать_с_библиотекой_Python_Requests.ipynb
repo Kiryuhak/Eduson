{
  "nbformat": 4,
  "nbformat_minor": 0,
  "metadata": {
    "colab": {
      "provenance": [],
      "toc_visible": true,
      "authorship_tag": "ABX9TyMYoRkxF7zQW19gFjeDNzJM",
      "include_colab_link": true
    },
    "kernelspec": {
      "name": "python3",
      "display_name": "Python 3"
    },
    "language_info": {
      "name": "python"
    }
  },
  "cells": [
    {
      "cell_type": "markdown",
      "metadata": {
        "id": "view-in-github",
        "colab_type": "text"
      },
      "source": [
        "<a href=\"https://colab.research.google.com/github/Kiryuhak/Eduson/blob/main/%D0%9A%D0%B0%D0%BA_%D1%80%D0%B0%D0%B1%D0%BE%D1%82%D0%B0%D1%82%D1%8C_%D1%81_%D0%B1%D0%B8%D0%B1%D0%BB%D0%B8%D0%BE%D1%82%D0%B5%D0%BA%D0%BE%D0%B9_Python_Requests.ipynb\" target=\"_parent\"><img src=\"https://colab.research.google.com/assets/colab-badge.svg\" alt=\"Open In Colab\"/></a>"
      ]
    },
    {
      "cell_type": "markdown",
      "source": [
        "# **Работа с модулем requests**"
      ],
      "metadata": {
        "id": "sS-QR3T-nDcv"
      }
    },
    {
      "cell_type": "markdown",
      "source": [
        "# **Установка модуля**"
      ],
      "metadata": {
        "id": "fF1Ne1UfnH-y"
      }
    },
    {
      "cell_type": "code",
      "source": [
        "!pip install requests"
      ],
      "metadata": {
        "colab": {
          "base_uri": "https://localhost:8080/"
        },
        "id": "RgqkOsfznHpF",
        "outputId": "0b13299a-7571-4df1-fd12-c39c0625a2e2"
      },
      "execution_count": 1,
      "outputs": [
        {
          "output_type": "stream",
          "name": "stdout",
          "text": [
            "Requirement already satisfied: requests in /usr/local/lib/python3.10/dist-packages (2.31.0)\n",
            "Requirement already satisfied: charset-normalizer<4,>=2 in /usr/local/lib/python3.10/dist-packages (from requests) (3.3.2)\n",
            "Requirement already satisfied: idna<4,>=2.5 in /usr/local/lib/python3.10/dist-packages (from requests) (3.6)\n",
            "Requirement already satisfied: urllib3<3,>=1.21.1 in /usr/local/lib/python3.10/dist-packages (from requests) (2.0.7)\n",
            "Requirement already satisfied: certifi>=2017.4.17 in /usr/local/lib/python3.10/dist-packages (from requests) (2024.2.2)\n"
          ]
        }
      ]
    },
    {
      "cell_type": "code",
      "source": [
        "import requests"
      ],
      "metadata": {
        "id": "KEd3zwDerac4"
      },
      "execution_count": 2,
      "outputs": []
    },
    {
      "cell_type": "markdown",
      "source": [
        "# **Какие запросы мы будем отправлять?**"
      ],
      "metadata": {
        "id": "bv4TNP--nugx"
      }
    },
    {
      "cell_type": "code",
      "source": [
        "requests.post(...)\n",
        "requests.get(...)"
      ],
      "metadata": {
        "id": "TgKjHvB5nuTO"
      },
      "execution_count": null,
      "outputs": []
    },
    {
      "cell_type": "code",
      "source": [
        "r = requests.get('https://itresume.ru')"
      ],
      "metadata": {
        "id": "FqATlKLoqB_l"
      },
      "execution_count": 3,
      "outputs": []
    },
    {
      "cell_type": "code",
      "source": [
        "r.status_code"
      ],
      "metadata": {
        "colab": {
          "base_uri": "https://localhost:8080/"
        },
        "id": "msBau-GNreLn",
        "outputId": "4c096cb4-a2d1-4537-8c60-0cd371acd971"
      },
      "execution_count": 4,
      "outputs": [
        {
          "output_type": "execute_result",
          "data": {
            "text/plain": [
              "200"
            ]
          },
          "metadata": {},
          "execution_count": 4
        }
      ]
    },
    {
      "cell_type": "markdown",
      "source": [
        "# **Посмотрим содержимое ответа**"
      ],
      "metadata": {
        "id": "0-a12ZlZrgqp"
      }
    },
    {
      "cell_type": "code",
      "source": [
        "r.text"
      ],
      "metadata": {
        "colab": {
          "base_uri": "https://localhost:8080/",
          "height": 140
        },
        "id": "U2d2FWyXrf5K",
        "outputId": "86fcb06a-e58c-4374-bb48-6335cc2907dd"
      },
      "execution_count": 5,
      "outputs": [
        {
          "output_type": "execute_result",
          "data": {
            "text/plain": [
              "'<!DOCTYPE html>\\n<html lang=\"ru\">\\n  <head>\\n    <meta charset=\"UTF-8\" />\\n    <meta http-equiv=\"X-UA-Compatible\" content=\"IE=edge\" />\\n    <meta name=\"viewport\" content=\"width=device-width, initial-scale=1.0, maximum-scale=1.0, user-scalable=0\" />\\n    <meta name=\"format-detection\" content=\"telephone=no\" />\\n    <meta property=\"og:site_name\" content=\"IT Resume\" />\\n    <meta property=\"og:type\" content=\"website\" />\\n    <meta property=\"og:image\" content=\"https://itresume.ru/og-image.jpg\" />\\n    <meta property=\"og:image:secure_url\" content=\"https://itresume.ru/og-image.jpg\" />\\n    <meta name=\"twitter:image\" content=\"https://itresume.ru/og-image.jpg\" />\\n    <meta name=\"twitter:card\" content=\"summary\" />\\n    <link rel=\"icon\" href=\"/favicon.ico\" sizes=\"any\" />\\n    <link rel=\"icon\" href=\"/icon.svg\" type=\"image/svg+xml\" />\\n    <link rel=\"apple-touch-icon\" href=\"/apple-touch-icon.png\" />\\n    <link rel=\"preconnect\" href=\"https://fonts.googleapis.com\" />\\n    <link rel=\"preconnect\" href=\"https://fonts.gstatic.com\" crossorigin />\\n    <link\\n      href=\"https://fonts.googleapis.com/css2?family=Fira+Code:wght@400;500;600;700&family=Fira+Sans:ital,wght@0,400;0,500;0,600;0,700;1,400;1,700&family=Source+Code+Pro:wght@200;300;400;500;600;700&display=swap\"\\n      rel=\"stylesheet\"\\n    />\\n  <meta name=\"facebook-domain-verification\" content=\"apl6pbpi54a43i8hvw7ml9tj699u1o\" />\\n<!-- Yandex.Metrika -->\\n<script type=\"text/javascript\">(function (m, e, t, r, i, k, a) { m[i] = m[i] || function () { (m[i].a = m[i].a || []).push(arguments); }; m[i].l = 1 * new Date(); (k = e.createElement(t)), (a = e.getElementsByTagName(t)[0]), (k.async = 1), (k.src = r), a.parentNode.insertBefore(k, a); })(window, document, \"script\", \"https://mc.yandex.ru/metrika/tag.js\", \"ym\"); ym(86328787, \"init\", { defer: true, clickmap: true, trackLinks: true, accurateTrackBounce: true, webvisor: true });</script>\\n<!-- GTag -->\\n<script async src=\"https://www.googletagmanager.com/gtag/js?id=G-LYRZM3ZX8C\"></script>\\n<script>window.dataLayer = window.dataLayer || []; function gtag() { dataLayer.push(arguments); } gtag(\\'js\\', new Date()); gtag(\\'config\\', \\'G-LYRZM3ZX8C\\');</script>\\n<!-- Facebook Pixel -->\\n<script>!(function (f, b, e, v, n, t, s) { if (f.fbq) return; n = f.fbq = function () { n.callMethod ? n.callMethod.apply(n, arguments) : n.queue.push(arguments); }; if (!f._fbq) f._fbq = n; n.push = n; n.loaded = !0; n.version = \\'2.0\\'; n.queue = []; t = b.createElement(e); t.async = !0; t.src = v; s = b.getElementsByTagName(e)[0]; s.parentNode.insertBefore(t, s); })(window, document, \\'script\\', \\'https://connect.facebook.net/en_US/fbevents.js\\'); fbq(\\'init\\', \\'2649441131866128\\'); fbq(\\'track\\', \\'PageView\\');</script>\\n<!-- Vk Pixel -->\\n<script type=\"text/javascript\">!(function () { var t = document.createElement(\\'script\\'); (t.type = \\'text/javascript\\'), (t.async = !0), (t.src = \\'https://vk.com/js/api/openapi.js?169\\'), (t.onload = function () { VK.Retargeting.Init(\\'VK-RTRG-1228393-gLdf0\\'), VK.Retargeting.Hit(); }), document.head.appendChild(t); })();</script>\\n<!-- Google Tag Manager -->\\n<script>(function (w, d, s, l, i) { w[l] = w[l] || []; w[l].push({ \\'gtm.start\\': new Date().getTime(), event: \\'gtm.js\\' }); var f = d.getElementsByTagName(s)[0], j = d.createElement(s), dl = l != \\'dataLayer\\' ? \\'&l=\\' + l : \\'\\'; j.async = true; j.src = \\'https://www.googletagmanager.com/gtm.js?id=\\' + i + dl; f.parentNode.insertBefore(j, f); })(window, document, \\'script\\', \\'dataLayer\\', \\'GTM-M5M32QX\\');</script>\\n<link rel=\"preload\" href=\"/css/chunk-vendors.9743cf15.css\" as=\"style\"><link rel=\"preload\" href=\"/js/chunk-vendors.4f86a1e8.js\" as=\"script\"><link rel=\"preload\" href=\"/css/app.d1eadc3c.css\" as=\"style\"><link rel=\"preload\" href=\"/js/app.51ce674e.js\" as=\"script\"><link rel=\"preload\" href=\"/js/9240.8b3842ea.js\" as=\"script\"><link rel=\"preload\" href=\"/js/5560.20cf0ecb.js\" as=\"script\"><link rel=\"preload\" href=\"/css/5177.3b0f0c0c.css\" as=\"style\"><link rel=\"preload\" href=\"/js/5177.56face91.js\" as=\"script\"><link rel=\"preload\" href=\"/js/5062.34265b47.js\" as=\"script\"><link rel=\"preload\" href=\"/css/227.39b1fb0c.css\" as=\"style\"><link rel=\"preload\" href=\"/js/227.d2fd02a1.js\" as=\"script\"><link rel=\"prefetch\" href=\"/js/4718.dae11108.js\"><link rel=\"prefetch\" href=\"/js/1206.c05ec8f0.js\"><link rel=\"prefetch\" href=\"/js/4787.b999e95e.js\"><link rel=\"prefetch\" href=\"/js/912.0535f44d.js\"><link rel=\"prefetch\" href=\"/js/4808.b92811bf.js\"><link rel=\"prefetch\" href=\"/js/4875.7ce206af.js\"><link rel=\"prefetch\" href=\"/js/1215.1066b9da.js\"><link rel=\"prefetch\" href=\"/js/9791.9af6adb5.js\"><link rel=\"prefetch\" href=\"/js/1809.a3207b8d.js\"><link rel=\"prefetch\" href=\"/js/2239.802a1794.js\"><link rel=\"prefetch\" href=\"/js/178.d6e2367d.js\"><link rel=\"prefetch\" href=\"/js/4745.001d193d.js\"><link rel=\"prefetch\" href=\"/js/9091.dc0a2c3c.js\"><link rel=\"prefetch\" href=\"/js/6511.0eaec430.js\"><link rel=\"prefetch\" href=\"/css/4808.4b36194d.css\"><link rel=\"prefetch\" href=\"/js/4291.7e1ad820.js\"><link rel=\"prefetch\" href=\"/js/9712.596e5091.js\"><link rel=\"prefetch\" href=\"/js/2871.f7db2f83.js\"><link rel=\"prefetch\" href=\"/js/7475.f54ea26d.js\"><link rel=\"prefetch\" href=\"/js/6167.c853abb2.js\"><link rel=\"prefetch\" href=\"/js/3071.589e786a.js\"><link rel=\"prefetch\" href=\"/js/2900.1dc7cd51.js\"><link rel=\"prefetch\" href=\"/js/2953.41d4acf5.js\"><link rel=\"prefetch\" href=\"/js/6095.4a3d8eea.js\"><link rel=\"prefetch\" href=\"/js/2512.00734184.js\"><link rel=\"prefetch\" href=\"/js/4149.e40d1177.js\"><link rel=\"prefetch\" href=\"/js/2133.c2cb10fb.js\"><link rel=\"prefetch\" href=\"/js/5105.b3e7cb88.js\"><link rel=\"prefetch\" href=\"/js/8390.de84e7d9.js\"><link rel=\"prefetch\" href=\"/js/5504.116470dd.js\"><link rel=\"prefetch\" href=\"/js/5971.458ad938.js\"><link rel=\"prefetch\" href=\"/js/6609.5f807390.js\"><link rel=\"prefetch\" href=\"/js/1051.b0d8433f.js\"><link rel=\"prefetch\" href=\"/js/6067.7f12ee17.js\"><link rel=\"prefetch\" href=\"/js/7061.dc8768fd.js\"><link rel=\"prefetch\" href=\"/js/9095.7c57530d.js\"><link rel=\"prefetch\" href=\"/js/1568.3df6eed7.js\"><link rel=\"prefetch\" href=\"/js/1488.12647615.js\"><link rel=\"prefetch\" href=\"/css/4149.1cdd6b64.css\"><link rel=\"prefetch\" href=\"/js/1169.4358a9c0.js\"><link rel=\"prefetch\" href=\"/js/2725.bd630478.js\"><link rel=\"prefetch\" href=\"/js/1875.47ee1c6f.js\"><link rel=\"prefetch\" href=\"/js/7669.bb29f59b.js\"><link rel=\"prefetch\" href=\"/js/1858.6bf1d630.js\"><link rel=\"prefetch\" href=\"/css/9091.2395fa1b.css\"><link rel=\"prefetch\" href=\"/js/1853.d9a275f2.js\"><link rel=\"prefetch\" href=\"/js/738.6103161b.js\"><link rel=\"prefetch\" href=\"/js/584.b0715c5f.js\"><link rel=\"prefetch\" href=\"/js/6113.4d052405.js\"><link rel=\"prefetch\" href=\"/js/7663.9a03f7bd.js\"><link rel=\"prefetch\" href=\"/css/178.2b28b977.css\"><link rel=\"prefetch\" href=\"/css/4718.75f9eeda.css\"><link rel=\"prefetch\" href=\"/js/2260.7698367e.js\"><link rel=\"prefetch\" href=\"/js/3981.2e620bc9.js\"><link rel=\"prefetch\" href=\"/js/5407.aba4353b.js\"><link rel=\"prefetch\" href=\"/js/8612.528b23f8.js\"><link rel=\"prefetch\" href=\"/js/5078.56fb83f7.js\"><link rel=\"prefetch\" href=\"/css/3071.0f6d2a83.css\"><link rel=\"prefetch\" href=\"/js/5448.2fad7a78.js\"><link rel=\"prefetch\" href=\"/js/72.b0de3e26.js\"><link rel=\"prefetch\" href=\"/js/6777.4feca5f3.js\"><link rel=\"prefetch\" href=\"/js/7630.e40d3953.js\"><link rel=\"prefetch\" href=\"/js/4982.32e1c096.js\"><link rel=\"prefetch\" href=\"/js/7353.42fadf6b.js\"><link rel=\"prefetch\" href=\"/js/3231.90a0b5a8.js\"><link rel=\"prefetch\" href=\"/js/3959.6726431b.js\"><link rel=\"prefetch\" href=\"/js/5823.22aef403.js\"><link rel=\"prefetch\" href=\"/css/2260.727664ee.css\"><link rel=\"prefetch\" href=\"/js/8044.02ee06b4.js\"><link rel=\"prefetch\" href=\"/js/7000.9609646f.js\"><link rel=\"prefetch\" href=\"/js/7293.25c4cf20.js\"><link rel=\"prefetch\" href=\"/js/407.2c99da5f.js\"><link rel=\"prefetch\" href=\"/js/6720.2b7f9bdc.js\"><link rel=\"prefetch\" href=\"/js/5067.fc42f6e1.js\"><link rel=\"prefetch\" href=\"/js/6133.e724ac27.js\"><link rel=\"prefetch\" href=\"/js/9529.5f647a87.js\"><link rel=\"prefetch\" href=\"/css/2239.67d9bc69.css\"><link rel=\"prefetch\" href=\"/js/5213.fcefbf18.js\"><link rel=\"prefetch\" href=\"/css/1568.98b9e57f.css\"><link rel=\"prefetch\" href=\"/js/2951.97ce77f4.js\"><link rel=\"prefetch\" href=\"/js/7018.bacc1d27.js\"><link rel=\"prefetch\" href=\"/js/8556.645a842d.js\"><link rel=\"prefetch\" href=\"/css/5105.9339cdb6.css\"><link rel=\"prefetch\" href=\"/css/6777.747a2183.css\"><link rel=\"prefetch\" href=\"/css/6609.77970827.css\"><link rel=\"prefetch\" href=\"/css/2953.ba75c010.css\"><link rel=\"prefetch\" href=\"/css/3959.50c40155.css\"><link rel=\"prefetch\" href=\"/css/5504.ecdc4eeb.css\"><link rel=\"prefetch\" href=\"/css/3231.bee9a36a.css\"><link rel=\"prefetch\" href=\"/css/1853.a73b301e.css\"><link rel=\"prefetch\" href=\"/css/8044.80523f07.css\"><link rel=\"prefetch\" href=\"/css/7353.9943603e.css\"><link rel=\"prefetch\" href=\"/css/4982.4a3da582.css\"><link rel=\"prefetch\" href=\"/css/7061.8b08b553.css\"><link rel=\"prefetch\" href=\"/css/7000.1dcff0cb.css\"><link rel=\"prefetch\" href=\"/css/6113.70381a2e.css\"><link rel=\"prefetch\" href=\"/css/7630.4fe21079.css\"><link rel=\"prefetch\" href=\"/css/1169.9e7f79b8.css\"><link rel=\"prefetch\" href=\"/css/407.8c5a6300.css\"><link rel=\"prefetch\" href=\"/css/7669.2465eb22.css\"><link rel=\"stylesheet\" href=\"/css/chunk-vendors.9743cf15.css\"><link rel=\"stylesheet\" href=\"/css/app.d1eadc3c.css\"><link rel=\"stylesheet\" href=\"/css/5177.3b0f0c0c.css\"><link rel=\"stylesheet\" href=\"/css/227.39b1fb0c.css\"><title>IT Resume - Платформа для развития навыков программирования</title><meta data-vue-meta=\"ssr\" data-vmid=\"og:title\" property=\"og:title\" content=\"IT Resume - Платформа для развития навыков программирования\"><meta data-vue-meta=\"ssr\" data-vmid=\"twitter:title\" name=\"twitter:title\" content=\"IT Resume - Платформа для развития навыков программирования\"><meta data-vue-meta=\"ssr\" data-vmid=\"og:image:alt\" property=\"og:image:alt\" content=\"IT Resume - Платформа для развития навыков программирования\"><meta data-vue-meta=\"ssr\" data-vmid=\"twitter:image:alt\" name=\"twitter:image:alt\" content=\"IT Resume - Платформа для развития навыков программирования\"><meta data-vue-meta=\"ssr\" data-vmid=\"og:url\" property=\"og:url\" content=\"https://itresume.ru/\"><meta data-vue-meta=\"ssr\" data-vmid=\"keywords\" name=\"keywords\" content=\"hayesstrosin\"></head>\\n  <body class=\"no-scroll\">\\n    <noscript\\n      >Для полной функциональности этого сайта нужно включить JavaScript. Вот\\n      <a href=\"https://www.enablejavascript.io/\" target=\"_blank\">инструкции, как включить JavaScript в вашем браузере</a\\n      >.</noscript\\n    >\\n  <!-- Yandex.Metrika -->\\n<noscript><div><img src=\"https://mc.yandex.ru/watch/86328787\" style=\"position: absolute; left: -9999px\" alt=\"\" /></div></noscript>\\n<!-- Facebook Pixel -->\\n<noscript><img height=\"1\" width=\"1\" style=\"display:none\" src=\"https://www.facebook.com/tr?id=2649441131866128&ev=PageView&noscript=1\" /></noscript>\\n<!-- Vk Pixel -->\\n<noscript><img src=\"https://vk.com/rtrg?p=VK-RTRG-1228393-gLdf0\" style=\"position:fixed; left:-999px;\" alt=\"\"/></noscript>\\n<!-- Google Tag Manager -->\\n<noscript><iframe src=\"https://www.googletagmanager.com/ns.html?id=GTM-M5M32QX\" height=\"0\" width=\"0\" style=\"display:none;visibility:hidden\"></iframe></noscript>\\n<script>window.__STORE_STATE__={\"device\":{\"info\":null,\"fingerprint\":null,\"imagePrimary\":null,\"imageSecondary\":null,\"isCookieAccepted\":false},\"filters\":{\"tests\":{\"complexities\":[],\"tags\":[],\"search\":\"\",\"status\":null},\"problems\":{\"complexities\":[],\"tags\":[],\"search\":\"\",\"status\":null,\"sort\":{\"key\":null,\"dir\":null}}},\"params\":{\"value\":null},\"scrollbar\":{\"shouldUpdate\":false,\"timeout\":null,\"scrolls\":[]},\"token\":{\"hasRefresh\":false,\"access\":null},\"user\":{\"id\":null,\"firstName\":null,\"lastName\":null,\"username\":null,\"email\":null,\"phone\":null,\"avatar\":null,\"balance\":0,\"company\":null,\"cvList\":null,\"promo\":null,\"promoShow\":false,\"companyRefetch\":false},\"coupon\":{\"company\":null,\"id\":null}};(function(){var s;(s=document.currentScript||document.scripts[document.scripts.length-1]).parentNode.removeChild(s);}());</script><script>window.__APOLLO_STATE__={\"defaultClient\":{\"PageType:1\":{\"id\":\"1\",\"title\":\"IT Resume - Платформа для развития навыков программирования\",\"description\":\"\",\"keywords\":\"hayesstrosin\",\"isPrivatePage\":false,\"__typename\":\"PageType\"},\"ROOT_QUERY\":{\"page({\\\\\"path\\\\\":\\\\\"\\\\u002F\\\\\"})\":{\"type\":\"id\",\"generated\":false,\"id\":\"PageType:1\",\"typename\":\"PageType\"}}}};(function(){var s;(s=document.currentScript||document.scripts[document.scripts.length-1]).parentNode.removeChild(s);}());</script><div id=\"root\" data-server-rendered=\"true\"><div class=\"loadscreen\"><img src=\"/img/it.f3a68e57.svg\" alt=\"Загрузка...\" class=\"loadscreen__image\"></div> <div class=\"layout\"><div class=\"navigation\"><header class=\"header\"><div class=\"container container--full-width header__container\"><a href=\"/\" aria-current=\"page\" aria-label=\"На главную\" class=\"logo header__logo router-link-exact-active router-link-active\"><img src=\"/img/dark.bd607b01.svg\" alt=\"Логотип IT Resume\" class=\"logo__image\"></a> <nav class=\"header__navigation\"><ul role=\"menu\"><li role=\"none\"><a href=\"/problems\" role=\"menuitem\" class=\"header__link\">Задачи</a></li><li role=\"none\"><a href=\"/tests\" role=\"menuitem\" class=\"header__link\">Тесты</a></li><li role=\"none\"><a href=\"/blog\" role=\"menuitem\" class=\"header__link\">Блог</a></li><li role=\"none\"><a href=\"/materials\" role=\"menuitem\" class=\"header__link\">Полезное</a></li> <li role=\"none\"><a role=\"menuitem\" href=\"https://hr.itresume.ru/vacancy\" target=\"_blank\" class=\"header__link\">\\n              Вакансии\\n            </a></li> <li role=\"none\" class=\"header__login\"><a href=\"/account/login\" role=\"menuitem\" class=\"button button--blue\">Войти</a></li></ul></nav> <button aria-label=\"Открыть меню\" aria-haspopup=\"true\" class=\"header__menu-button\"><svg class=\"icon\"><use xlink:href=\"/img/icons.f512e299.svg#menu\"></use></svg></button></div> <!----></header> <!----></div> <main class=\"content home\"><article class=\"home-main container\"><div class=\"home-main__text\"><h1 class=\"title title--main\">Стань\\xa0лучшим, просто решая\\xa0задачи</h1> <div class=\"home-main__description\">\\n        Платформа для развития навыков и\\xa0подготовки к\\xa0техническим интервью\\n      </div></div> <div class=\"terminal home-main__terminal\"><div class=\"terminal__line terminal__input terminal__carriage terminal__toggle\"></div>  <div class=\"terminal__line terminal__loading\">\\xa0</div> <div class=\"terminal__line terminal__hidden\">Алгоритмы и структуры данных</div><div class=\"terminal__line terminal__hidden\">Синтаксис языков программирования</div><div class=\"terminal__line terminal__hidden\">Задачи с собеседований</div><div class=\"terminal__line terminal__hidden\">Стань лучшим</div></div> <a href=\"/problems\" class=\"button button--tall button--blue home__button\">Решать бесплатно</a></article> <article class=\"article container\"><h2 class=\"title\">Строите карьеру в IT? Наверняка что-то из этого Вам знакомо:</h2> <div class=\"swiper home__swiper\"><div class=\"swiper-wrapper\"><div class=\"card swiper-slide background--yellow-light\"><svg class=\"icon card__icon icon--yellow-dark\"><use xlink:href=\"/img/icons.d5b0b514.svg#question\"></use></svg> <div class=\"card__text\">Все эти алгоритмы и структуры данных сводят с ума</div></div> <div class=\"card swiper-slide background--pink-light\"><svg class=\"icon card__icon icon--pink\"><use xlink:href=\"/img/icons.d5b0b514.svg#apple\"></use></svg> <div class=\"card__text\">Сложность алгоритмов и оптимизация кода вводят в ступор</div></div> <div class=\"card swiper-slide background--blue-light\"><svg class=\"icon card__icon icon--blue\"><use xlink:href=\"/img/icons.d5b0b514.svg#meeting\"></use></svg> <div class=\"card__text\">Вопросы на технических интервью заставляют вздрогнуть</div></div></div> <div class=\"swiper-pagination\"></div></div></article> <article class=\"article home-cta\"><div class=\"container home-cta__container\"><h2 class=\"title home-cta__title\">Уверены, что пройдете любое техническое интервью?</h2> <div class=\"home-cta__block\"><div class=\"home-cta__text\">Попробуйте решить всего одну задачу с реального собеседования и проверьте!</div> <a href=\"/problems/fizz-buzz-test\" class=\"button button--tall button--blue home__button\">Перейти к задаче</a></div></div></article> <article class=\"article container home-theses\"><h2 class=\"title\">Решение есть! Для этого мы и создали платформу IT Resume</h2> <div class=\"swiper home-theses__swiper home__swiper\"><div class=\"swiper-wrapper\"><div class=\"swiper-slide\"><img src=\"/img/first.cfa2fb99.svg\" alt=\"100+ задач\" class=\"home-theses__image\"> <h3 class=\"home-theses__title\">100+ задач</h3> <p class=\"home-theses__text\">\\n          Решайте более 100 задач по алгоритмам, структурам данных, программированию и Data Science.\\n        </p> <p class=\"home-theses__text\"><strong>Это позволит Вам прокачать навыки и подготовиться к любому техническому интервью.</strong></p></div> <div class=\"swiper-slide\"><img src=\"/img/second.7ea6ab4d.svg\" alt=\"Соревнования\" class=\"home-theses__image\"> <h3 class=\"home-theses__title\">Соревнования</h3> <p class=\"home-theses__text\">\\n          Участвуйте в соревнованиях, побеждайте и становитесь лучшим среди конкурентов.\\n        </p> <p class=\"home-theses__text\"><strong>Это позволит Вам постоянно развиваться и быть на голову выше коллег.</strong></p></div> <div class=\"swiper-slide\"><img src=\"/img/third.85c57e33.svg\" alt=\"Дополнительные возможности\" class=\"home-theses__image\"> <h3 class=\"home-theses__title\">Дополнительные возможности</h3> <p class=\"home-theses__text\">\\n          Решайте кейсы, проходите тесты, разбирайте теоретические вопросы, изучайте курсы и проходите тренировочные\\n          собеседования.\\n        </p> <p class=\"home-theses__text\"><strong>Это позволит Вам укрепить знания и повысить свой скилл.</strong></p></div> <div class=\"swiper-slide\"><img src=\"/img/fourth.96f37442.svg\" alt=\"Офферы от компаний-партнеров\" class=\"home-theses__image\"> <h3 class=\"home-theses__title\">Офферы от компаний-партнеров</h3> <p class=\"home-theses__text\">\\n          Решайте подборки задач от компаний-партнеров и привлекайте внимание хедхантеров.\\n        </p> <p class=\"home-theses__text\"><strong>Это позволит Вам получить оффер и устроиться в крупную компанию.</strong></p></div></div> <div class=\"swiper-pagination\"></div></div></article> <article class=\"article home-problems\"><div class=\"container home-problems__container\"><h2 class=\"title home-problems__title\">Начните решать задачи</h2> <a href=\"/problems\" class=\"button button--tall button--blue home__button home-problems__button\">Начать бесплатно</a></div></article> <article class=\"article container home-structure\"><h2 class=\"title title--margin-bottom\">Но зачем нужна целая платформа? Можно же просто загуглить?</h2> <div class=\"home-structure__description\">IT Resume - это платформа, где все удобно собрано в одном месте:</div> <div class=\"spoiler home-structure__spoiler\"><button class=\"button spoiler__button\"><span class=\"spoiler__title\">Более 100 задач с собеседований</span><svg class=\"spoiler__icon\"><use xlink:href=\"/img/ui.8728e999.svg#expand\"></use></svg></button><div class=\"spoiler__content\"><ul><li>Алгоритмы</li> <li>Структуры данных</li> <li>Синтаксические особенности</li> <li>Математика</li> <li>Data Science</li></ul></div></div> <div class=\"spoiler home-structure__spoiler\"><button class=\"button spoiler__button\"><span class=\"spoiler__title\">Подробный разбор каждой задачи</span><svg class=\"spoiler__icon\"><use xlink:href=\"/img/ui.8728e999.svg#expand\"></use></svg></button><div class=\"spoiler__content\"><ul><li>Подсказки</li> <li>Решения</li> <li>Анализ сложности алгоритма</li> <li>Оценка производительности Вашего решения</li></ul></div></div> <div class=\"spoiler home-structure__spoiler\"><button class=\"button spoiler__button\"><span class=\"spoiler__title\">Полный набор материалов для подготовки</span><svg class=\"spoiler__icon\"><use xlink:href=\"/img/ui.8728e999.svg#expand\"></use></svg></button><div class=\"spoiler__content\"><ul><li>Теоретические вопросы</li> <li>Кейсы</li> <li>Логические и market size задачи</li> <li>Тесты</li></ul></div></div> <div class=\"spoiler home-structure__spoiler\"><button class=\"button spoiler__button\"><span class=\"spoiler__title\">Материалы от компаний-партнеров</span><svg class=\"spoiler__icon\"><use xlink:href=\"/img/ui.8728e999.svg#expand\"></use></svg></button><div class=\"spoiler__content\"><ul><li>Эксклюзивные задания</li> <li>Соревнования</li> <li>Возможность получить оффер</li></ul></div></div> <div class=\"spoiler home-structure__spoiler\"><button class=\"button spoiler__button\"><span class=\"spoiler__title\">Дополнительные фичи</span><svg class=\"spoiler__icon\"><use xlink:href=\"/img/ui.8728e999.svg#expand\"></use></svg></button><div class=\"spoiler__content\"><ul><li>Тренировочные собеседования</li> <li>Сертификация</li> <li>Составление резюме</li></ul></div></div> <div class=\"home-info\"><svg class=\"icon home-info__icon\"><use xlink:href=\"/img/icons.d5b0b514.svg#book\"></use></svg> <span class=\"home-info__text\">Так зачем же гуглить - мы уже собрали для Вас все необходимое на нашей платформе.</span></div></article> <article class=\"article container home-terminal\"><div><h2 class=\"title title--margin-bottom\">Скоро мы будем общаться на 15 языках!</h2> <span><strong>Задача:</strong> вывести <strong>все языки</strong>, на которых можно будет решать задачи на платформе\\n        IT\\xa0Resume\\n      </span></div> <div><div class=\"terminal\"><div class=\"terminal__line\"><span class=\"text--pink\">SELECT</span> itr.languages</div> <div class=\"terminal__line\"><span class=\"text--pink\">FROM</span> itresume itr</div> <div class=\"terminal__line\"><span class=\"text--pink\">WHERE</span> itr.is_available is <span class=\"text--pink\">TRUE</span></div> <div class=\"terminal__buttons\"><button disabled=\"disabled\" class=\"button terminal__reset\"><img src=\"/img/reset.1794b40b.svg\" alt=\"Сбросить\" class=\"icon\"></button> <button class=\"button button--blue terminal__run\">Run</button></div></div> <div class=\"terminal\"><div class=\"terminal__line\"><span class=\"text--green-dark\"></span> <span class=\"terminal__hidden\">Python, Java, SQL, C++, C, PHP, JS, Kotlin, C#, Go, Swift, R, TypeScript, Ruby, Julia</span></div></div></div></article> <article class=\"article container\"><h2 class=\"title\">Что Вы получите, решая задачи?</h2> <div class=\"swiper home__swiper\"><div class=\"swiper-wrapper\"><div class=\"card swiper-slide card--no-padding\"><svg class=\"icon card__icon icon--blue\"><use xlink:href=\"/img/icons.d5b0b514.svg#star\"></use></svg> <h3 class=\"card__title\">Полезные навыки</h3> <div class=\"card__text\">Решение практических задач - самый хороший способ развить свои hard skills.</div></div> <div class=\"card swiper-slide card--no-padding\"><svg class=\"icon card__icon icon--blue\"><use xlink:href=\"/img/icons.d5b0b514.svg#certificate\"></use></svg> <h3 class=\"card__title\">Работу</h3> <div class=\"card__text\">\\n          Вы сможете пройти любое техническое интервью и получить работу мечты. Кроме того, компании активно хантят на\\n          нашей платформе.\\n        </div></div> <div class=\"card swiper-slide card--no-padding\"><svg class=\"icon card__icon icon--blue\"><use xlink:href=\"/img/icons.d5b0b514.svg#flash\"></use></svg> <h3 class=\"card__title\">Удовольствие</h3> <div class=\"card__text\">\\n          Решение задач и участие в соревнованиях приносят моральное удовлетворение и гордость. Всегда приятно видеть\\n          свой прогресс.\\n        </div></div></div> <div class=\"swiper-pagination\"></div></div></article> <article class=\"article home-start\"><div class=\"container home-start__container\"><div><h2 class=\"title title--margin-bottom\">Вы готовы стать лучшим среди конкурентов?</h2> <a href=\"/problems\" class=\"button button--tall button--white home__button home-start__button\">Начать бесплатно</a></div> <div class=\"home-start__image\"><img src=\"/img/start.9ed51938.svg\" alt=\"Вы готовы стать лучшим среди конкурентов?\"></div></div></article> <article class=\"home-statistics\"><div class=\"container\"><h2 class=\"title home-statistics__title\">Немного статистики</h2> <div class=\"swiper home__swiper\"><div class=\"swiper-wrapper\"><div class=\"card swiper-slide background--white home-statistics__card\"><img src=\"/img/first.372ff569.svg\" alt=\"Статистика по соискателям\" class=\"home-statistics__image\"> <div class=\"card__text\">\\n            На собеседовании из\\n            <strong class=\"text--pink\">100</strong> соискателей только\\n            <strong class=\"text--yellow-dark\">10</strong> решают задачи правильно и только\\n            <strong class=\"text--blue\">3</strong> предлагают идеальное решение.\\n          </div></div> <div class=\"card swiper-slide background--white home-statistics__card\"><img src=\"/img/second.b420107a.svg\" alt=\"Статистика по собеседованиям\" class=\"home-statistics__image\"> <div class=\"card__text\">\\n            На собеседовании из 10 задач\\n            <strong class=\"text--pink\">5</strong> будет на знание конкретного языка,\\n            <strong class=\"text--blue\">3</strong> на алгоритмы и <strong class=\"text--yellow-dark\">2</strong> на\\n            структуры данных.\\n          </div></div> <div class=\"card swiper-slide background--white home-statistics__card\"><img src=\"/img/third.0613505e.svg\" alt=\"Статистика по навыку решения задач\" class=\"home-statistics__image\"> <div class=\"card__text\">\\n            Навык решения задач для\\xa0<strong class=\"text--blue\">75%</strong>\\xa0компаний\\xa0- необходимое\\n            условие, для\\xa0<strong class=\"text--yellow-dark\">20%</strong>\\xa0- дополнительное требование\\n            и\\xa0лишь для\\xa0<strong class=\"text--pink\">5%</strong>\\xa0- необязательный фактор.\\n          </div></div></div> <div class=\"swiper-pagination\"></div></div></div></article> <article class=\"article container home-faq\"><h2 class=\"title home-faq__title\">Частые вопросы</h2> <div class=\"spoiler home-faq__spoiler\"><button class=\"button spoiler__button\"><span class=\"spoiler__title\">Я хочу устроиться на работу. Ваша платформа мне поможет?</span><svg class=\"spoiler__icon\"><use xlink:href=\"/img/ui.8728e999.svg#expand\"></use></svg></button><div class=\"spoiler__content\">Да, HR-специалисты крупных компаний активно хантят на нашей платформе. Будьте активны и наверняка вы получите\\n      оффер!</div></div> <div class=\"spoiler home-faq__spoiler\"><button class=\"button spoiler__button\"><span class=\"spoiler__title\">Я уже работаю в IT. У вас есть интересные материалы для меня?</span><svg class=\"spoiler__icon\"><use xlink:href=\"/img/ui.8728e999.svg#expand\"></use></svg></button><div class=\"spoiler__content\">Конечно! На платформе представлены задачи как для начинающих, так и для продвинутых специалистов.</div></div> <div class=\"spoiler home-faq__spoiler\"><button class=\"button spoiler__button\"><span class=\"spoiler__title\">Что я могу делать на вашей платформе?</span><svg class=\"spoiler__icon\"><use xlink:href=\"/img/ui.8728e999.svg#expand\"></use></svg></button><div class=\"spoiler__content\">Вы можете решать 200+ задач с реальных собеседований и проходить тесты. Все проверяется автоматически и вы\\n      моментально видите результат своего решения.</div></div> <div class=\"spoiler home-faq__spoiler\"><button class=\"button spoiler__button\"><span class=\"spoiler__title\">Что мне даст решение задач на вашей платформе?</span><svg class=\"spoiler__icon\"><use xlink:href=\"/img/ui.8728e999.svg#expand\"></use></svg></button><div class=\"spoiler__content\">Во-первых, мы собрали огромную базу задач - вы можете прокачать свои hard skills и подготовиться к техническому\\n      собеседованию. Во-вторых, с нами сотрудничают HR-ы крупных компаний - вы запросто можете получить\\n      оффер.</div></div></article> <article class=\"article home-join\"><div class=\"container home-join__container\"><h2 class=\"title\">Пока Вы читаете этот текст, кто-то <strong>успешно решает задачи</strong> code интервью</h2> <div class=\"home-join__block\"><div class=\"home-join__text\">Начните решать задачи <strong>бесплатно</strong> прямо сейчас!</div> <a href=\"/problems\" class=\"button button--tall button--blue home__button\">Начать бесплатно</a></div> <img src=\"/img/join.01eb94b0.svg\" alt=\"Начните решать задачи бесплатно прямо сейчас!\" class=\"home-join__image\"></div></article></main> <footer class=\"footer\"><div class=\"container container--full-width footer__container\"><a href=\"/\" aria-current=\"page\" aria-label=\"На главную\" class=\"logo footer__logo router-link-exact-active router-link-active\"><img src=\"/img/light.c2053bb6.svg\" alt=\"Логотип IT Resume\" class=\"logo__image\"></a> <ul role=\"menu\" aria-label=\"Социальные сети\" class=\"footer__socials\"><li role=\"none\"><a href=\"https://vk.com/itresume\" target=\"_blank\" aria-label=\"Vkontakte\" role=\"menuitem\"><svg class=\"icon\"><use xlink:href=\"/img/socials.5355b973.svg#vk\"></use></svg></a></li> <li role=\"none\"><a href=\"https://instagram.com/itresume.ru\" target=\"_blank\" aria-label=\"Instagram\" role=\"menuitem\"><svg class=\"icon\"><use xlink:href=\"/img/socials.5355b973.svg#instagram\"></use></svg></a></li> <li role=\"none\"><a href=\"https://t.me/it_resume\" target=\"_blank\" aria-label=\"Telegram\" role=\"menuitem\"><svg class=\"icon\"><use xlink:href=\"/img/socials.5355b973.svg#telegram\"></use></svg></a></li> <li role=\"none\"><a href=\"https://youtube.com/channel/UC-zg6iS4RrIWJRcne9afmlw\" target=\"_blank\" aria-label=\"YouTube\" role=\"menuitem\"><svg class=\"icon\"><use xlink:href=\"/img/socials.5355b973.svg#youtube\"></use></svg></a></li></ul> <div class=\"footer__links\"><ul role=\"menu\" aria-label=\"Разделы сайта\"><li role=\"none\"><a href=\"/problems\" role=\"menuitem\">Задачи</a></li><li role=\"none\"><a href=\"/tests\" role=\"menuitem\">Тесты</a></li><li role=\"none\"><a href=\"/blog\" role=\"menuitem\">Блог</a></li><li role=\"none\"><a href=\"/materials\" role=\"menuitem\">Полезное</a></li> <li><a href=\"https://hr.itresume.ru/vacancy\" target=\"_blank\" role=\"menuitem\">Вакансии</a></li> <li role=\"none\"><a href=\"/materials\" role=\"menuitem\">Полезные материалы</a></li></ul> <ul role=\"menu\" aria-label=\"Информация\"><li role=\"none\"><a href=\"/legal/privacy\" role=\"menuitem\">Политика конфиденциальности</a></li> <li role=\"none\"><a href=\"/legal/cookie\" role=\"menuitem\">Файлы cookie</a></li> <li role=\"none\"><a href=\"/legal/offer\" role=\"menuitem\">Договор-оферта</a></li></ul> <address class=\"footer__address\"><a href=\"mailto:clients@itresume.ru\">clients@itresume.ru</a> <a href=\"https://t.me/itresume_chat\" target=\"_blank\" class=\"footer__chat\">Чат в Telegram</a></address></div></div></footer></div> <div class=\"cookie\"><div>Мы используем файлы cookie. Используя наш сайт, Вы даете согласие на использование файлов cookie.</div> <div class=\"cookie__bottom\"><button class=\"button button--blue cookie__button\">OK</button> <a href=\"/legal/cookie\" class=\"button button--blue button--void cookie__button\">Подробнее</a></div></div></div><script src=\"/js/chunk-vendors.4f86a1e8.js\" defer></script><script src=\"/js/9240.8b3842ea.js\" defer></script><script src=\"/js/5560.20cf0ecb.js\" defer></script><script src=\"/js/5177.56face91.js\" defer></script><script src=\"/js/5062.34265b47.js\" defer></script><script src=\"/js/227.d2fd02a1.js\" defer></script><script src=\"/js/app.51ce674e.js\" defer></script></body>\\n</html>\\n'"
            ],
            "application/vnd.google.colaboratory.intrinsic+json": {
              "type": "string"
            }
          },
          "metadata": {},
          "execution_count": 5
        }
      ]
    },
    {
      "cell_type": "markdown",
      "source": [
        "# **Посмотрим кодировку ответа**"
      ],
      "metadata": {
        "id": "Gaxxxz6Nru9e"
      }
    },
    {
      "cell_type": "code",
      "source": [
        "r.encoding"
      ],
      "metadata": {
        "colab": {
          "base_uri": "https://localhost:8080/",
          "height": 36
        },
        "id": "5SgQtcxXrrr0",
        "outputId": "aed041e9-fc49-4e6c-f8d6-23409cc15002"
      },
      "execution_count": 6,
      "outputs": [
        {
          "output_type": "execute_result",
          "data": {
            "text/plain": [
              "'utf-8'"
            ],
            "application/vnd.google.colaboratory.intrinsic+json": {
              "type": "string"
            }
          },
          "metadata": {},
          "execution_count": 6
        }
      ]
    },
    {
      "cell_type": "markdown",
      "source": [
        "# **Посмотрим \"нерасшифрованный\" ответ**"
      ],
      "metadata": {
        "id": "7V0nLUK8ry_a"
      }
    },
    {
      "cell_type": "code",
      "source": [
        "r.content"
      ],
      "metadata": {
        "id": "rR3BPQuJrmlL"
      },
      "execution_count": null,
      "outputs": []
    },
    {
      "cell_type": "markdown",
      "source": [
        "Отправим запрос с параметрами"
      ],
      "metadata": {
        "id": "yGPxlWVhr4qP"
      }
    },
    {
      "cell_type": "code",
      "source": [
        "https://itresume.ru?key1=value1&key2..."
      ],
      "metadata": {
        "id": "LEH7Zgs3r7yD"
      },
      "execution_count": null,
      "outputs": []
    },
    {
      "cell_type": "code",
      "source": [
        "value1 = 1\n",
        "value2 = 2\n",
        "\n",
        "r = requests.get(f'https://itresume.ru?key1={value1}&key2={value2}')"
      ],
      "metadata": {
        "id": "WU3cFM0CtMDX"
      },
      "execution_count": 7,
      "outputs": []
    },
    {
      "cell_type": "code",
      "source": [
        "r.status_code"
      ],
      "metadata": {
        "colab": {
          "base_uri": "https://localhost:8080/"
        },
        "id": "OCwpp7xltlbO",
        "outputId": "37808af5-0b02-4244-86cf-144b3fc6b9fc"
      },
      "execution_count": 8,
      "outputs": [
        {
          "output_type": "execute_result",
          "data": {
            "text/plain": [
              "200"
            ]
          },
          "metadata": {},
          "execution_count": 8
        }
      ]
    },
    {
      "cell_type": "code",
      "source": [
        "URL = \"https://itresume.ru\""
      ],
      "metadata": {
        "id": "Ae_nQZADt_ZM"
      },
      "execution_count": 9,
      "outputs": []
    },
    {
      "cell_type": "code",
      "source": [
        "params = {\n",
        "    'utm_source': 'colab',\n",
        "    'utm_content': 'lesson'\n",
        "}\n",
        "\n",
        "r = requests .get(URL, params=params)"
      ],
      "metadata": {
        "id": "c5X2Hf9YtoFQ"
      },
      "execution_count": 10,
      "outputs": []
    },
    {
      "cell_type": "code",
      "source": [
        "r.status_code"
      ],
      "metadata": {
        "colab": {
          "base_uri": "https://localhost:8080/"
        },
        "id": "DIjCqhzbuLHy",
        "outputId": "617e73bb-db3e-4d61-c317-b8eeab3f6293"
      },
      "execution_count": 11,
      "outputs": [
        {
          "output_type": "execute_result",
          "data": {
            "text/plain": [
              "200"
            ]
          },
          "metadata": {},
          "execution_count": 11
        }
      ]
    },
    {
      "cell_type": "code",
      "source": [
        "r.url"
      ],
      "metadata": {
        "colab": {
          "base_uri": "https://localhost:8080/",
          "height": 36
        },
        "id": "EmR3UXnbuMdX",
        "outputId": "84c70197-b91a-42ae-c37b-a73013b96762"
      },
      "execution_count": 12,
      "outputs": [
        {
          "output_type": "execute_result",
          "data": {
            "text/plain": [
              "'https://itresume.ru/?utm_source=colab&utm_content=lesson'"
            ],
            "application/vnd.google.colaboratory.intrinsic+json": {
              "type": "string"
            }
          },
          "metadata": {},
          "execution_count": 12
        }
      ]
    },
    {
      "cell_type": "markdown",
      "source": [
        "# **Работаем с REST API**"
      ],
      "metadata": {
        "id": "9DUzowiLr-Ii"
      }
    },
    {
      "cell_type": "code",
      "source": [
        "r = requests.get('https://jsonplaceholder.typicode.com/posts')"
      ],
      "metadata": {
        "id": "S85hdxm1sGfa"
      },
      "execution_count": 13,
      "outputs": []
    },
    {
      "cell_type": "code",
      "source": [
        "r.status_code"
      ],
      "metadata": {
        "colab": {
          "base_uri": "https://localhost:8080/"
        },
        "id": "YB629MzhyrFu",
        "outputId": "12f161e1-4cc4-48c8-f1b1-15feb0f4ecb2"
      },
      "execution_count": 14,
      "outputs": [
        {
          "output_type": "execute_result",
          "data": {
            "text/plain": [
              "200"
            ]
          },
          "metadata": {},
          "execution_count": 14
        }
      ]
    },
    {
      "cell_type": "code",
      "source": [
        "r.text"
      ],
      "metadata": {
        "colab": {
          "base_uri": "https://localhost:8080/",
          "height": 140
        },
        "id": "GPbUmvLkysJM",
        "outputId": "bd44f72f-8bf3-40fa-d62d-38473d8a8bb3"
      },
      "execution_count": 15,
      "outputs": [
        {
          "output_type": "execute_result",
          "data": {
            "text/plain": [
              "'[\\n  {\\n    \"userId\": 1,\\n    \"id\": 1,\\n    \"title\": \"sunt aut facere repellat provident occaecati excepturi optio reprehenderit\",\\n    \"body\": \"quia et suscipit\\\\nsuscipit recusandae consequuntur expedita et cum\\\\nreprehenderit molestiae ut ut quas totam\\\\nnostrum rerum est autem sunt rem eveniet architecto\"\\n  },\\n  {\\n    \"userId\": 1,\\n    \"id\": 2,\\n    \"title\": \"qui est esse\",\\n    \"body\": \"est rerum tempore vitae\\\\nsequi sint nihil reprehenderit dolor beatae ea dolores neque\\\\nfugiat blanditiis voluptate porro vel nihil molestiae ut reiciendis\\\\nqui aperiam non debitis possimus qui neque nisi nulla\"\\n  },\\n  {\\n    \"userId\": 1,\\n    \"id\": 3,\\n    \"title\": \"ea molestias quasi exercitationem repellat qui ipsa sit aut\",\\n    \"body\": \"et iusto sed quo iure\\\\nvoluptatem occaecati omnis eligendi aut ad\\\\nvoluptatem doloribus vel accusantium quis pariatur\\\\nmolestiae porro eius odio et labore et velit aut\"\\n  },\\n  {\\n    \"userId\": 1,\\n    \"id\": 4,\\n    \"title\": \"eum et est occaecati\",\\n    \"body\": \"ullam et saepe reiciendis voluptatem adipisci\\\\nsit amet autem assumenda provident rerum culpa\\\\nquis hic commodi nesciunt rem tenetur doloremque ipsam iure\\\\nquis sunt voluptatem rerum illo velit\"\\n  },\\n  {\\n    \"userId\": 1,\\n    \"id\": 5,\\n    \"title\": \"nesciunt quas odio\",\\n    \"body\": \"repudiandae veniam quaerat sunt sed\\\\nalias aut fugiat sit autem sed est\\\\nvoluptatem omnis possimus esse voluptatibus quis\\\\nest aut tenetur dolor neque\"\\n  },\\n  {\\n    \"userId\": 1,\\n    \"id\": 6,\\n    \"title\": \"dolorem eum magni eos aperiam quia\",\\n    \"body\": \"ut aspernatur corporis harum nihil quis provident sequi\\\\nmollitia nobis aliquid molestiae\\\\nperspiciatis et ea nemo ab reprehenderit accusantium quas\\\\nvoluptate dolores velit et doloremque molestiae\"\\n  },\\n  {\\n    \"userId\": 1,\\n    \"id\": 7,\\n    \"title\": \"magnam facilis autem\",\\n    \"body\": \"dolore placeat quibusdam ea quo vitae\\\\nmagni quis enim qui quis quo nemo aut saepe\\\\nquidem repellat excepturi ut quia\\\\nsunt ut sequi eos ea sed quas\"\\n  },\\n  {\\n    \"userId\": 1,\\n    \"id\": 8,\\n    \"title\": \"dolorem dolore est ipsam\",\\n    \"body\": \"dignissimos aperiam dolorem qui eum\\\\nfacilis quibusdam animi sint suscipit qui sint possimus cum\\\\nquaerat magni maiores excepturi\\\\nipsam ut commodi dolor voluptatum modi aut vitae\"\\n  },\\n  {\\n    \"userId\": 1,\\n    \"id\": 9,\\n    \"title\": \"nesciunt iure omnis dolorem tempora et accusantium\",\\n    \"body\": \"consectetur animi nesciunt iure dolore\\\\nenim quia ad\\\\nveniam autem ut quam aut nobis\\\\net est aut quod aut provident voluptas autem voluptas\"\\n  },\\n  {\\n    \"userId\": 1,\\n    \"id\": 10,\\n    \"title\": \"optio molestias id quia eum\",\\n    \"body\": \"quo et expedita modi cum officia vel magni\\\\ndoloribus qui repudiandae\\\\nvero nisi sit\\\\nquos veniam quod sed accusamus veritatis error\"\\n  },\\n  {\\n    \"userId\": 2,\\n    \"id\": 11,\\n    \"title\": \"et ea vero quia laudantium autem\",\\n    \"body\": \"delectus reiciendis molestiae occaecati non minima eveniet qui voluptatibus\\\\naccusamus in eum beatae sit\\\\nvel qui neque voluptates ut commodi qui incidunt\\\\nut animi commodi\"\\n  },\\n  {\\n    \"userId\": 2,\\n    \"id\": 12,\\n    \"title\": \"in quibusdam tempore odit est dolorem\",\\n    \"body\": \"itaque id aut magnam\\\\npraesentium quia et ea odit et ea voluptas et\\\\nsapiente quia nihil amet occaecati quia id voluptatem\\\\nincidunt ea est distinctio odio\"\\n  },\\n  {\\n    \"userId\": 2,\\n    \"id\": 13,\\n    \"title\": \"dolorum ut in voluptas mollitia et saepe quo animi\",\\n    \"body\": \"aut dicta possimus sint mollitia voluptas commodi quo doloremque\\\\niste corrupti reiciendis voluptatem eius rerum\\\\nsit cumque quod eligendi laborum minima\\\\nperferendis recusandae assumenda consectetur porro architecto ipsum ipsam\"\\n  },\\n  {\\n    \"userId\": 2,\\n    \"id\": 14,\\n    \"title\": \"voluptatem eligendi optio\",\\n    \"body\": \"fuga et accusamus dolorum perferendis illo voluptas\\\\nnon doloremque neque facere\\\\nad qui dolorum molestiae beatae\\\\nsed aut voluptas totam sit illum\"\\n  },\\n  {\\n    \"userId\": 2,\\n    \"id\": 15,\\n    \"title\": \"eveniet quod temporibus\",\\n    \"body\": \"reprehenderit quos placeat\\\\nvelit minima officia dolores impedit repudiandae molestiae nam\\\\nvoluptas recusandae quis delectus\\\\nofficiis harum fugiat vitae\"\\n  },\\n  {\\n    \"userId\": 2,\\n    \"id\": 16,\\n    \"title\": \"sint suscipit perspiciatis velit dolorum rerum ipsa laboriosam odio\",\\n    \"body\": \"suscipit nam nisi quo aperiam aut\\\\nasperiores eos fugit maiores voluptatibus quia\\\\nvoluptatem quis ullam qui in alias quia est\\\\nconsequatur magni mollitia accusamus ea nisi voluptate dicta\"\\n  },\\n  {\\n    \"userId\": 2,\\n    \"id\": 17,\\n    \"title\": \"fugit voluptas sed molestias voluptatem provident\",\\n    \"body\": \"eos voluptas et aut odit natus earum\\\\naspernatur fuga molestiae ullam\\\\ndeserunt ratione qui eos\\\\nqui nihil ratione nemo velit ut aut id quo\"\\n  },\\n  {\\n    \"userId\": 2,\\n    \"id\": 18,\\n    \"title\": \"voluptate et itaque vero tempora molestiae\",\\n    \"body\": \"eveniet quo quis\\\\nlaborum totam consequatur non dolor\\\\nut et est repudiandae\\\\nest voluptatem vel debitis et magnam\"\\n  },\\n  {\\n    \"userId\": 2,\\n    \"id\": 19,\\n    \"title\": \"adipisci placeat illum aut reiciendis qui\",\\n    \"body\": \"illum quis cupiditate provident sit magnam\\\\nea sed aut omnis\\\\nveniam maiores ullam consequatur atque\\\\nadipisci quo iste expedita sit quos voluptas\"\\n  },\\n  {\\n    \"userId\": 2,\\n    \"id\": 20,\\n    \"title\": \"doloribus ad provident suscipit at\",\\n    \"body\": \"qui consequuntur ducimus possimus quisquam amet similique\\\\nsuscipit porro ipsam amet\\\\neos veritatis officiis exercitationem vel fugit aut necessitatibus totam\\\\nomnis rerum consequatur expedita quidem cumque explicabo\"\\n  },\\n  {\\n    \"userId\": 3,\\n    \"id\": 21,\\n    \"title\": \"asperiores ea ipsam voluptatibus modi minima quia sint\",\\n    \"body\": \"repellat aliquid praesentium dolorem quo\\\\nsed totam minus non itaque\\\\nnihil labore molestiae sunt dolor eveniet hic recusandae veniam\\\\ntempora et tenetur expedita sunt\"\\n  },\\n  {\\n    \"userId\": 3,\\n    \"id\": 22,\\n    \"title\": \"dolor sint quo a velit explicabo quia nam\",\\n    \"body\": \"eos qui et ipsum ipsam suscipit aut\\\\nsed omnis non odio\\\\nexpedita earum mollitia molestiae aut atque rem suscipit\\\\nnam impedit esse\"\\n  },\\n  {\\n    \"userId\": 3,\\n    \"id\": 23,\\n    \"title\": \"maxime id vitae nihil numquam\",\\n    \"body\": \"veritatis unde neque eligendi\\\\nquae quod architecto quo neque vitae\\\\nest illo sit tempora doloremque fugit quod\\\\net et vel beatae sequi ullam sed tenetur perspiciatis\"\\n  },\\n  {\\n    \"userId\": 3,\\n    \"id\": 24,\\n    \"title\": \"autem hic labore sunt dolores incidunt\",\\n    \"body\": \"enim et ex nulla\\\\nomnis voluptas quia qui\\\\nvoluptatem consequatur numquam aliquam sunt\\\\ntotam recusandae id dignissimos aut sed asperiores deserunt\"\\n  },\\n  {\\n    \"userId\": 3,\\n    \"id\": 25,\\n    \"title\": \"rem alias distinctio quo quis\",\\n    \"body\": \"ullam consequatur ut\\\\nomnis quis sit vel consequuntur\\\\nipsa eligendi ipsum molestiae et omnis error nostrum\\\\nmolestiae illo tempore quia et distinctio\"\\n  },\\n  {\\n    \"userId\": 3,\\n    \"id\": 26,\\n    \"title\": \"est et quae odit qui non\",\\n    \"body\": \"similique esse doloribus nihil accusamus\\\\nomnis dolorem fuga consequuntur reprehenderit fugit recusandae temporibus\\\\nperspiciatis cum ut laudantium\\\\nomnis aut molestiae vel vero\"\\n  },\\n  {\\n    \"userId\": 3,\\n    \"id\": 27,\\n    \"title\": \"quasi id et eos tenetur aut quo autem\",\\n    \"body\": \"eum sed dolores ipsam sint possimus debitis occaecati\\\\ndebitis qui qui et\\\\nut placeat enim earum aut odit facilis\\\\nconsequatur suscipit necessitatibus rerum sed inventore temporibus consequatur\"\\n  },\\n  {\\n    \"userId\": 3,\\n    \"id\": 28,\\n    \"title\": \"delectus ullam et corporis nulla voluptas sequi\",\\n    \"body\": \"non et quaerat ex quae ad maiores\\\\nmaiores recusandae totam aut blanditiis mollitia quas illo\\\\nut voluptatibus voluptatem\\\\nsimilique nostrum eum\"\\n  },\\n  {\\n    \"userId\": 3,\\n    \"id\": 29,\\n    \"title\": \"iusto eius quod necessitatibus culpa ea\",\\n    \"body\": \"odit magnam ut saepe sed non qui\\\\ntempora atque nihil\\\\naccusamus illum doloribus illo dolor\\\\neligendi repudiandae odit magni similique sed cum maiores\"\\n  },\\n  {\\n    \"userId\": 3,\\n    \"id\": 30,\\n    \"title\": \"a quo magni similique perferendis\",\\n    \"body\": \"alias dolor cumque\\\\nimpedit blanditiis non eveniet odio maxime\\\\nblanditiis amet eius quis tempora quia autem rem\\\\na provident perspiciatis quia\"\\n  },\\n  {\\n    \"userId\": 4,\\n    \"id\": 31,\\n    \"title\": \"ullam ut quidem id aut vel consequuntur\",\\n    \"body\": \"debitis eius sed quibusdam non quis consectetur vitae\\\\nimpedit ut qui consequatur sed aut in\\\\nquidem sit nostrum et maiores adipisci atque\\\\nquaerat voluptatem adipisci repudiandae\"\\n  },\\n  {\\n    \"userId\": 4,\\n    \"id\": 32,\\n    \"title\": \"doloremque illum aliquid sunt\",\\n    \"body\": \"deserunt eos nobis asperiores et hic\\\\nest debitis repellat molestiae optio\\\\nnihil ratione ut eos beatae quibusdam distinctio maiores\\\\nearum voluptates et aut adipisci ea maiores voluptas maxime\"\\n  },\\n  {\\n    \"userId\": 4,\\n    \"id\": 33,\\n    \"title\": \"qui explicabo molestiae dolorem\",\\n    \"body\": \"rerum ut et numquam laborum odit est sit\\\\nid qui sint in\\\\nquasi tenetur tempore aperiam et quaerat qui in\\\\nrerum officiis sequi cumque quod\"\\n  },\\n  {\\n    \"userId\": 4,\\n    \"id\": 34,\\n    \"title\": \"magnam ut rerum iure\",\\n    \"body\": \"ea velit perferendis earum ut voluptatem voluptate itaque iusto\\\\ntotam pariatur in\\\\nnemo voluptatem voluptatem autem magni tempora minima in\\\\nest distinctio qui assumenda accusamus dignissimos officia nesciunt nobis\"\\n  },\\n  {\\n    \"userId\": 4,\\n    \"id\": 35,\\n    \"title\": \"id nihil consequatur molestias animi provident\",\\n    \"body\": \"nisi error delectus possimus ut eligendi vitae\\\\nplaceat eos harum cupiditate facilis reprehenderit voluptatem beatae\\\\nmodi ducimus quo illum voluptas eligendi\\\\net nobis quia fugit\"\\n  },\\n  {\\n    \"userId\": 4,\\n    \"id\": 36,\\n    \"title\": \"fuga nam accusamus voluptas reiciendis itaque\",\\n    \"body\": \"ad mollitia et omnis minus architecto odit\\\\nvoluptas doloremque maxime aut non ipsa qui alias veniam\\\\nblanditiis culpa aut quia nihil cumque facere et occaecati\\\\nqui aspernatur quia eaque ut aperiam inventore\"\\n  },\\n  {\\n    \"userId\": 4,\\n    \"id\": 37,\\n    \"title\": \"provident vel ut sit ratione est\",\\n    \"body\": \"debitis et eaque non officia sed nesciunt pariatur vel\\\\nvoluptatem iste vero et ea\\\\nnumquam aut expedita ipsum nulla in\\\\nvoluptates omnis consequatur aut enim officiis in quam qui\"\\n  },\\n  {\\n    \"userId\": 4,\\n    \"id\": 38,\\n    \"title\": \"explicabo et eos deleniti nostrum ab id repellendus\",\\n    \"body\": \"animi esse sit aut sit nesciunt assumenda eum voluptas\\\\nquia voluptatibus provident quia necessitatibus ea\\\\nrerum repudiandae quia voluptatem delectus fugit aut id quia\\\\nratione optio eos iusto veniam iure\"\\n  },\\n  {\\n    \"userId\": 4,\\n    \"id\": 39,\\n    \"title\": \"eos dolorem iste accusantium est eaque quam\",\\n    \"body\": \"corporis rerum ducimus vel eum accusantium\\\\nmaxime aspernatur a porro possimus iste omnis\\\\nest in deleniti asperiores fuga aut\\\\nvoluptas sapiente vel dolore minus voluptatem incidunt ex\"\\n  },\\n  {\\n    \"userId\": 4,\\n    \"id\": 40,\\n    \"title\": \"enim quo cumque\",\\n    \"body\": \"ut voluptatum aliquid illo tenetur nemo sequi quo facilis\\\\nipsum rem optio mollitia quas\\\\nvoluptatem eum voluptas qui\\\\nunde omnis voluptatem iure quasi maxime voluptas nam\"\\n  },\\n  {\\n    \"userId\": 5,\\n    \"id\": 41,\\n    \"title\": \"non est facere\",\\n    \"body\": \"molestias id nostrum\\\\nexcepturi molestiae dolore omnis repellendus quaerat saepe\\\\nconsectetur iste quaerat tenetur asperiores accusamus ex ut\\\\nnam quidem est ducimus sunt debitis saepe\"\\n  },\\n  {\\n    \"userId\": 5,\\n    \"id\": 42,\\n    \"title\": \"commodi ullam sint et excepturi error explicabo praesentium voluptas\",\\n    \"body\": \"odio fugit voluptatum ducimus earum autem est incidunt voluptatem\\\\nodit reiciendis aliquam sunt sequi nulla dolorem\\\\nnon facere repellendus voluptates quia\\\\nratione harum vitae ut\"\\n  },\\n  {\\n    \"userId\": 5,\\n    \"id\": 43,\\n    \"title\": \"eligendi iste nostrum consequuntur adipisci praesentium sit beatae perferendis\",\\n    \"body\": \"similique fugit est\\\\nillum et dolorum harum et voluptate eaque quidem\\\\nexercitationem quos nam commodi possimus cum odio nihil nulla\\\\ndolorum exercitationem magnam ex et a et distinctio debitis\"\\n  },\\n  {\\n    \"userId\": 5,\\n    \"id\": 44,\\n    \"title\": \"optio dolor molestias sit\",\\n    \"body\": \"temporibus est consectetur dolore\\\\net libero debitis vel velit laboriosam quia\\\\nipsum quibusdam qui itaque fuga rem aut\\\\nea et iure quam sed maxime ut distinctio quae\"\\n  },\\n  {\\n    \"userId\": 5,\\n    \"id\": 45,\\n    \"title\": \"ut numquam possimus omnis eius suscipit laudantium iure\",\\n    \"body\": \"est natus reiciendis nihil possimus aut provident\\\\nex et dolor\\\\nrepellat pariatur est\\\\nnobis rerum repellendus dolorem autem\"\\n  },\\n  {\\n    \"userId\": 5,\\n    \"id\": 46,\\n    \"title\": \"aut quo modi neque nostrum ducimus\",\\n    \"body\": \"voluptatem quisquam iste\\\\nvoluptatibus natus officiis facilis dolorem\\\\nquis quas ipsam\\\\nvel et voluptatum in aliquid\"\\n  },\\n  {\\n    \"userId\": 5,\\n    \"id\": 47,\\n    \"title\": \"quibusdam cumque rem aut deserunt\",\\n    \"body\": \"voluptatem assumenda ut qui ut cupiditate aut impedit veniam\\\\noccaecati nemo illum voluptatem laudantium\\\\nmolestiae beatae rerum ea iure soluta nostrum\\\\neligendi et voluptate\"\\n  },\\n  {\\n    \"userId\": 5,\\n    \"id\": 48,\\n    \"title\": \"ut voluptatem illum ea doloribus itaque eos\",\\n    \"body\": \"voluptates quo voluptatem facilis iure occaecati\\\\nvel assumenda rerum officia et\\\\nillum perspiciatis ab deleniti\\\\nlaudantium repellat ad ut et autem reprehenderit\"\\n  },\\n  {\\n    \"userId\": 5,\\n    \"id\": 49,\\n    \"title\": \"laborum non sunt aut ut assumenda perspiciatis voluptas\",\\n    \"body\": \"inventore ab sint\\\\nnatus fugit id nulla sequi architecto nihil quaerat\\\\neos tenetur in in eum veritatis non\\\\nquibusdam officiis aspernatur cumque aut commodi aut\"\\n  },\\n  {\\n    \"userId\": 5,\\n    \"id\": 50,\\n    \"title\": \"repellendus qui recusandae incidunt voluptates tenetur qui omnis exercitationem\",\\n    \"body\": \"error suscipit maxime adipisci consequuntur recusandae\\\\nvoluptas eligendi et est et voluptates\\\\nquia distinctio ab amet quaerat molestiae et vitae\\\\nadipisci impedit sequi nesciunt quis consectetur\"\\n  },\\n  {\\n    \"userId\": 6,\\n    \"id\": 51,\\n    \"title\": \"soluta aliquam aperiam consequatur illo quis voluptas\",\\n    \"body\": \"sunt dolores aut doloribus\\\\ndolore doloribus voluptates tempora et\\\\ndoloremque et quo\\\\ncum asperiores sit consectetur dolorem\"\\n  },\\n  {\\n    \"userId\": 6,\\n    \"id\": 52,\\n    \"title\": \"qui enim et consequuntur quia animi quis voluptate quibusdam\",\\n    \"body\": \"iusto est quibusdam fuga quas quaerat molestias\\\\na enim ut sit accusamus enim\\\\ntemporibus iusto accusantium provident architecto\\\\nsoluta esse reprehenderit qui laborum\"\\n  },\\n  {\\n    \"userId\": 6,\\n    \"id\": 53,\\n    \"title\": \"ut quo aut ducimus alias\",\\n    \"body\": \"minima harum praesentium eum rerum illo dolore\\\\nquasi exercitationem rerum nam\\\\nporro quis neque quo\\\\nconsequatur minus dolor quidem veritatis sunt non explicabo similique\"\\n  },\\n  {\\n    \"userId\": 6,\\n    \"id\": 54,\\n    \"title\": \"sit asperiores ipsam eveniet odio non quia\",\\n    \"body\": \"totam corporis dignissimos\\\\nvitae dolorem ut occaecati accusamus\\\\nex velit deserunt\\\\net exercitationem vero incidunt corrupti mollitia\"\\n  },\\n  {\\n    \"userId\": 6,\\n    \"id\": 55,\\n    \"title\": \"sit vel voluptatem et non libero\",\\n    \"body\": \"debitis excepturi ea perferendis harum libero optio\\\\neos accusamus cum fuga ut sapiente repudiandae\\\\net ut incidunt omnis molestiae\\\\nnihil ut eum odit\"\\n  },\\n  {\\n    \"userId\": 6,\\n    \"id\": 56,\\n    \"title\": \"qui et at rerum necessitatibus\",\\n    \"body\": \"aut est omnis dolores\\\\nneque rerum quod ea rerum velit pariatur beatae excepturi\\\\net provident voluptas corrupti\\\\ncorporis harum reprehenderit dolores eligendi\"\\n  },\\n  {\\n    \"userId\": 6,\\n    \"id\": 57,\\n    \"title\": \"sed ab est est\",\\n    \"body\": \"at pariatur consequuntur earum quidem\\\\nquo est laudantium soluta voluptatem\\\\nqui ullam et est\\\\net cum voluptas voluptatum repellat est\"\\n  },\\n  {\\n    \"userId\": 6,\\n    \"id\": 58,\\n    \"title\": \"voluptatum itaque dolores nisi et quasi\",\\n    \"body\": \"veniam voluptatum quae adipisci id\\\\net id quia eos ad et dolorem\\\\naliquam quo nisi sunt eos impedit error\\\\nad similique veniam\"\\n  },\\n  {\\n    \"userId\": 6,\\n    \"id\": 59,\\n    \"title\": \"qui commodi dolor at maiores et quis id accusantium\",\\n    \"body\": \"perspiciatis et quam ea autem temporibus non voluptatibus qui\\\\nbeatae a earum officia nesciunt dolores suscipit voluptas et\\\\nanimi doloribus cum rerum quas et magni\\\\net hic ut ut commodi expedita sunt\"\\n  },\\n  {\\n    \"userId\": 6,\\n    \"id\": 60,\\n    \"title\": \"consequatur placeat omnis quisquam quia reprehenderit fugit veritatis facere\",\\n    \"body\": \"asperiores sunt ab assumenda cumque modi velit\\\\nqui esse omnis\\\\nvoluptate et fuga perferendis voluptas\\\\nillo ratione amet aut et omnis\"\\n  },\\n  {\\n    \"userId\": 7,\\n    \"id\": 61,\\n    \"title\": \"voluptatem doloribus consectetur est ut ducimus\",\\n    \"body\": \"ab nemo optio odio\\\\ndelectus tenetur corporis similique nobis repellendus rerum omnis facilis\\\\nvero blanditiis debitis in nesciunt doloribus dicta dolores\\\\nmagnam minus velit\"\\n  },\\n  {\\n    \"userId\": 7,\\n    \"id\": 62,\\n    \"title\": \"beatae enim quia vel\",\\n    \"body\": \"enim aspernatur illo distinctio quae praesentium\\\\nbeatae alias amet delectus qui voluptate distinctio\\\\nodit sint accusantium autem omnis\\\\nquo molestiae omnis ea eveniet optio\"\\n  },\\n  {\\n    \"userId\": 7,\\n    \"id\": 63,\\n    \"title\": \"voluptas blanditiis repellendus animi ducimus error sapiente et suscipit\",\\n    \"body\": \"enim adipisci aspernatur nemo\\\\nnumquam omnis facere dolorem dolor ex quis temporibus incidunt\\\\nab delectus culpa quo reprehenderit blanditiis asperiores\\\\naccusantium ut quam in voluptatibus voluptas ipsam dicta\"\\n  },\\n  {\\n    \"userId\": 7,\\n    \"id\": 64,\\n    \"title\": \"et fugit quas eum in in aperiam quod\",\\n    \"body\": \"id velit blanditiis\\\\neum ea voluptatem\\\\nmolestiae sint occaecati est eos perspiciatis\\\\nincidunt a error provident eaque aut aut qui\"\\n  },\\n  {\\n    \"userId\": 7,\\n    \"id\": 65,\\n    \"title\": \"consequatur id enim sunt et et\",\\n    \"body\": \"voluptatibus ex esse\\\\nsint explicabo est aliquid cumque adipisci fuga repellat labore\\\\nmolestiae corrupti ex saepe at asperiores et perferendis\\\\nnatus id esse incidunt pariatur\"\\n  },\\n  {\\n    \"userId\": 7,\\n    \"id\": 66,\\n    \"title\": \"repudiandae ea animi iusto\",\\n    \"body\": \"officia veritatis tenetur vero qui itaque\\\\nsint non ratione\\\\nsed et ut asperiores iusto eos molestiae nostrum\\\\nveritatis quibusdam et nemo iusto saepe\"\\n  },\\n  {\\n    \"userId\": 7,\\n    \"id\": 67,\\n    \"title\": \"aliquid eos sed fuga est maxime repellendus\",\\n    \"body\": \"reprehenderit id nostrum\\\\nvoluptas doloremque pariatur sint et accusantium quia quod aspernatur\\\\net fugiat amet\\\\nnon sapiente et consequatur necessitatibus molestiae\"\\n  },\\n  {\\n    \"userId\": 7,\\n    \"id\": 68,\\n    \"title\": \"odio quis facere architecto reiciendis optio\",\\n    \"body\": \"magnam molestiae perferendis quisquam\\\\nqui cum reiciendis\\\\nquaerat animi amet hic inventore\\\\nea quia deleniti quidem saepe porro velit\"\\n  },\\n  {\\n    \"userId\": 7,\\n    \"id\": 69,\\n    \"title\": \"fugiat quod pariatur odit minima\",\\n    \"body\": \"officiis error culpa consequatur modi asperiores et\\\\ndolorum assumenda voluptas et vel qui aut vel rerum\\\\nvoluptatum quisquam perspiciatis quia rerum consequatur totam quas\\\\nsequi commodi repudiandae asperiores et saepe a\"\\n  },\\n  {\\n    \"userId\": 7,\\n    \"id\": 70,\\n    \"title\": \"voluptatem laborum magni\",\\n    \"body\": \"sunt repellendus quae\\\\nest asperiores aut deleniti esse accusamus repellendus quia aut\\\\nquia dolorem unde\\\\neum tempora esse dolore\"\\n  },\\n  {\\n    \"userId\": 8,\\n    \"id\": 71,\\n    \"title\": \"et iusto veniam et illum aut fuga\",\\n    \"body\": \"occaecati a doloribus\\\\niste saepe consectetur placeat eum voluptate dolorem et\\\\nqui quo quia voluptas\\\\nrerum ut id enim velit est perferendis\"\\n  },\\n  {\\n    \"userId\": 8,\\n    \"id\": 72,\\n    \"title\": \"sint hic doloribus consequatur eos non id\",\\n    \"body\": \"quam occaecati qui deleniti consectetur\\\\nconsequatur aut facere quas exercitationem aliquam hic voluptas\\\\nneque id sunt ut aut accusamus\\\\nsunt consectetur expedita inventore velit\"\\n  },\\n  {\\n    \"userId\": 8,\\n    \"id\": 73,\\n    \"title\": \"consequuntur deleniti eos quia temporibus ab aliquid at\",\\n    \"body\": \"voluptatem cumque tenetur consequatur expedita ipsum nemo quia explicabo\\\\naut eum minima consequatur\\\\ntempore cumque quae est et\\\\net in consequuntur voluptatem voluptates aut\"\\n  },\\n  {\\n    \"userId\": 8,\\n    \"id\": 74,\\n    \"title\": \"enim unde ratione doloribus quas enim ut sit sapiente\",\\n    \"body\": \"odit qui et et necessitatibus sint veniam\\\\nmollitia amet doloremque molestiae commodi similique magnam et quam\\\\nblanditiis est itaque\\\\nquo et tenetur ratione occaecati molestiae tempora\"\\n  },\\n  {\\n    \"userId\": 8,\\n    \"id\": 75,\\n    \"title\": \"dignissimos eum dolor ut enim et delectus in\",\\n    \"body\": \"commodi non non omnis et voluptas sit\\\\nautem aut nobis magnam et sapiente voluptatem\\\\net laborum repellat qui delectus facilis temporibus\\\\nrerum amet et nemo voluptate expedita adipisci error dolorem\"\\n  },\\n  {\\n    \"userId\": 8,\\n    \"id\": 76,\\n    \"title\": \"doloremque officiis ad et non perferendis\",\\n    \"body\": \"ut animi facere\\\\ntotam iusto tempore\\\\nmolestiae eum aut et dolorem aperiam\\\\nquaerat recusandae totam odio\"\\n  },\\n  {\\n    \"userId\": 8,\\n    \"id\": 77,\\n    \"title\": \"necessitatibus quasi exercitationem odio\",\\n    \"body\": \"modi ut in nulla repudiandae dolorum nostrum eos\\\\naut consequatur omnis\\\\nut incidunt est omnis iste et quam\\\\nvoluptates sapiente aliquam asperiores nobis amet corrupti repudiandae provident\"\\n  },\\n  {\\n    \"userId\": 8,\\n    \"id\": 78,\\n    \"title\": \"quam voluptatibus rerum veritatis\",\\n    \"body\": \"nobis facilis odit tempore cupiditate quia\\\\nassumenda doloribus rerum qui ea\\\\nillum et qui totam\\\\naut veniam repellendus\"\\n  },\\n  {\\n    \"userId\": 8,\\n    \"id\": 79,\\n    \"title\": \"pariatur consequatur quia magnam autem omnis non amet\",\\n    \"body\": \"libero accusantium et et facere incidunt sit dolorem\\\\nnon excepturi qui quia sed laudantium\\\\nquisquam molestiae ducimus est\\\\nofficiis esse molestiae iste et quos\"\\n  },\\n  {\\n    \"userId\": 8,\\n    \"id\": 80,\\n    \"title\": \"labore in ex et explicabo corporis aut quas\",\\n    \"body\": \"ex quod dolorem ea eum iure qui provident amet\\\\nquia qui facere excepturi et repudiandae\\\\nasperiores molestias provident\\\\nminus incidunt vero fugit rerum sint sunt excepturi provident\"\\n  },\\n  {\\n    \"userId\": 9,\\n    \"id\": 81,\\n    \"title\": \"tempora rem veritatis voluptas quo dolores vero\",\\n    \"body\": \"facere qui nesciunt est voluptatum voluptatem nisi\\\\nsequi eligendi necessitatibus ea at rerum itaque\\\\nharum non ratione velit laboriosam quis consequuntur\\\\nex officiis minima doloremque voluptas ut aut\"\\n  },\\n  {\\n    \"userId\": 9,\\n    \"id\": 82,\\n    \"title\": \"laudantium voluptate suscipit sunt enim enim\",\\n    \"body\": \"ut libero sit aut totam inventore sunt\\\\nporro sint qui sunt molestiae\\\\nconsequatur cupiditate qui iste ducimus adipisci\\\\ndolor enim assumenda soluta laboriosam amet iste delectus hic\"\\n  },\\n  {\\n    \"userId\": 9,\\n    \"id\": 83,\\n    \"title\": \"odit et voluptates doloribus alias odio et\",\\n    \"body\": \"est molestiae facilis quis tempora numquam nihil qui\\\\nvoluptate sapiente consequatur est qui\\\\nnecessitatibus autem aut ipsa aperiam modi dolore numquam\\\\nreprehenderit eius rem quibusdam\"\\n  },\\n  {\\n    \"userId\": 9,\\n    \"id\": 84,\\n    \"title\": \"optio ipsam molestias necessitatibus occaecati facilis veritatis dolores aut\",\\n    \"body\": \"sint molestiae magni a et quos\\\\neaque et quasi\\\\nut rerum debitis similique veniam\\\\nrecusandae dignissimos dolor incidunt consequatur odio\"\\n  },\\n  {\\n    \"userId\": 9,\\n    \"id\": 85,\\n    \"title\": \"dolore veritatis porro provident adipisci blanditiis et sunt\",\\n    \"body\": \"similique sed nisi voluptas iusto omnis\\\\nmollitia et quo\\\\nassumenda suscipit officia magnam sint sed tempora\\\\nenim provident pariatur praesentium atque animi amet ratione\"\\n  },\\n  {\\n    \"userId\": 9,\\n    \"id\": 86,\\n    \"title\": \"placeat quia et porro iste\",\\n    \"body\": \"quasi excepturi consequatur iste autem temporibus sed molestiae beatae\\\\net quaerat et esse ut\\\\nvoluptatem occaecati et vel explicabo autem\\\\nasperiores pariatur deserunt optio\"\\n  },\\n  {\\n    \"userId\": 9,\\n    \"id\": 87,\\n    \"title\": \"nostrum quis quasi placeat\",\\n    \"body\": \"eos et molestiae\\\\nnesciunt ut a\\\\ndolores perspiciatis repellendus repellat aliquid\\\\nmagnam sint rem ipsum est\"\\n  },\\n  {\\n    \"userId\": 9,\\n    \"id\": 88,\\n    \"title\": \"sapiente omnis fugit eos\",\\n    \"body\": \"consequatur omnis est praesentium\\\\nducimus non iste\\\\nneque hic deserunt\\\\nvoluptatibus veniam cum et rerum sed\"\\n  },\\n  {\\n    \"userId\": 9,\\n    \"id\": 89,\\n    \"title\": \"sint soluta et vel magnam aut ut sed qui\",\\n    \"body\": \"repellat aut aperiam totam temporibus autem et\\\\narchitecto magnam ut\\\\nconsequatur qui cupiditate rerum quia soluta dignissimos nihil iure\\\\ntempore quas est\"\\n  },\\n  {\\n    \"userId\": 9,\\n    \"id\": 90,\\n    \"title\": \"ad iusto omnis odit dolor voluptatibus\",\\n    \"body\": \"minus omnis soluta quia\\\\nqui sed adipisci voluptates illum ipsam voluptatem\\\\neligendi officia ut in\\\\neos soluta similique molestias praesentium blanditiis\"\\n  },\\n  {\\n    \"userId\": 10,\\n    \"id\": 91,\\n    \"title\": \"aut amet sed\",\\n    \"body\": \"libero voluptate eveniet aperiam sed\\\\nsunt placeat suscipit molestias\\\\nsimilique fugit nam natus\\\\nexpedita consequatur consequatur dolores quia eos et placeat\"\\n  },\\n  {\\n    \"userId\": 10,\\n    \"id\": 92,\\n    \"title\": \"ratione ex tenetur perferendis\",\\n    \"body\": \"aut et excepturi dicta laudantium sint rerum nihil\\\\nlaudantium et at\\\\na neque minima officia et similique libero et\\\\ncommodi voluptate qui\"\\n  },\\n  {\\n    \"userId\": 10,\\n    \"id\": 93,\\n    \"title\": \"beatae soluta recusandae\",\\n    \"body\": \"dolorem quibusdam ducimus consequuntur dicta aut quo laboriosam\\\\nvoluptatem quis enim recusandae ut sed sunt\\\\nnostrum est odit totam\\\\nsit error sed sunt eveniet provident qui nulla\"\\n  },\\n  {\\n    \"userId\": 10,\\n    \"id\": 94,\\n    \"title\": \"qui qui voluptates illo iste minima\",\\n    \"body\": \"aspernatur expedita soluta quo ab ut similique\\\\nexpedita dolores amet\\\\nsed temporibus distinctio magnam saepe deleniti\\\\nomnis facilis nam ipsum natus sint similique omnis\"\\n  },\\n  {\\n    \"userId\": 10,\\n    \"id\": 95,\\n    \"title\": \"id minus libero illum nam ad officiis\",\\n    \"body\": \"earum voluptatem facere provident blanditiis velit laboriosam\\\\npariatur accusamus odio saepe\\\\ncumque dolor qui a dicta ab doloribus consequatur omnis\\\\ncorporis cupiditate eaque assumenda ad nesciunt\"\\n  },\\n  {\\n    \"userId\": 10,\\n    \"id\": 96,\\n    \"title\": \"quaerat velit veniam amet cupiditate aut numquam ut sequi\",\\n    \"body\": \"in non odio excepturi sint eum\\\\nlabore voluptates vitae quia qui et\\\\ninventore itaque rerum\\\\nveniam non exercitationem delectus aut\"\\n  },\\n  {\\n    \"userId\": 10,\\n    \"id\": 97,\\n    \"title\": \"quas fugiat ut perspiciatis vero provident\",\\n    \"body\": \"eum non blanditiis soluta porro quibusdam voluptas\\\\nvel voluptatem qui placeat dolores qui velit aut\\\\nvel inventore aut cumque culpa explicabo aliquid at\\\\nperspiciatis est et voluptatem dignissimos dolor itaque sit nam\"\\n  },\\n  {\\n    \"userId\": 10,\\n    \"id\": 98,\\n    \"title\": \"laboriosam dolor voluptates\",\\n    \"body\": \"doloremque ex facilis sit sint culpa\\\\nsoluta assumenda eligendi non ut eius\\\\nsequi ducimus vel quasi\\\\nveritatis est dolores\"\\n  },\\n  {\\n    \"userId\": 10,\\n    \"id\": 99,\\n    \"title\": \"temporibus sit alias delectus eligendi possimus magni\",\\n    \"body\": \"quo deleniti praesentium dicta non quod\\\\naut est molestias\\\\nmolestias et officia quis nihil\\\\nitaque dolorem quia\"\\n  },\\n  {\\n    \"userId\": 10,\\n    \"id\": 100,\\n    \"title\": \"at nam consequatur ea labore ea harum\",\\n    \"body\": \"cupiditate quo est a modi nesciunt soluta\\\\nipsa voluptas error itaque dicta in\\\\nautem qui minus magnam et distinctio eum\\\\naccusamus ratione error aut\"\\n  }\\n]'"
            ],
            "application/vnd.google.colaboratory.intrinsic+json": {
              "type": "string"
            }
          },
          "metadata": {},
          "execution_count": 15
        }
      ]
    },
    {
      "cell_type": "code",
      "source": [
        "res = r.json()"
      ],
      "metadata": {
        "id": "xi3RiI42ytVb"
      },
      "execution_count": 16,
      "outputs": []
    },
    {
      "cell_type": "code",
      "source": [
        "payload = {\n",
        "    'title': 'Наша первая статья',\n",
        "    'body': 'Текст нашей первой прекрасной статьи',\n",
        "    'userId': 1\n",
        "}\n",
        "\n",
        "r = requests.post('https://jsonplaceholder.typicode.com/posts', data=payload )"
      ],
      "metadata": {
        "id": "mf8J-REly9du"
      },
      "execution_count": 17,
      "outputs": []
    },
    {
      "cell_type": "code",
      "source": [
        "r.status_code"
      ],
      "metadata": {
        "colab": {
          "base_uri": "https://localhost:8080/"
        },
        "id": "K9g7l8jHz12t",
        "outputId": "3523d279-aae8-4608-f097-0f056dea417a"
      },
      "execution_count": 18,
      "outputs": [
        {
          "output_type": "execute_result",
          "data": {
            "text/plain": [
              "201"
            ]
          },
          "metadata": {},
          "execution_count": 18
        }
      ]
    },
    {
      "cell_type": "code",
      "source": [
        "r.json()"
      ],
      "metadata": {
        "colab": {
          "base_uri": "https://localhost:8080/"
        },
        "id": "7aYgDQ9Az3lz",
        "outputId": "84ab5015-88db-40e3-cf81-c0097427ca9f"
      },
      "execution_count": 19,
      "outputs": [
        {
          "output_type": "execute_result",
          "data": {
            "text/plain": [
              "{'title': 'Наша первая статья',\n",
              " 'body': 'Текст нашей первой прекрасной статьи',\n",
              " 'userId': '1',\n",
              " 'id': 101}"
            ]
          },
          "metadata": {},
          "execution_count": 19
        }
      ]
    },
    {
      "cell_type": "code",
      "source": [
        "import json"
      ],
      "metadata": {
        "id": "F9y7cgPr0KA4"
      },
      "execution_count": 20,
      "outputs": []
    },
    {
      "cell_type": "code",
      "source": [
        "json.dumps(payload)"
      ],
      "metadata": {
        "colab": {
          "base_uri": "https://localhost:8080/",
          "height": 70
        },
        "id": "jgmV2Ofl4XYr",
        "outputId": "d33adcb3-dded-4bff-bb9f-8c763796eb4b"
      },
      "execution_count": 21,
      "outputs": [
        {
          "output_type": "execute_result",
          "data": {
            "text/plain": [
              "'{\"title\": \"\\\\u041d\\\\u0430\\\\u0448\\\\u0430 \\\\u043f\\\\u0435\\\\u0440\\\\u0432\\\\u0430\\\\u044f \\\\u0441\\\\u0442\\\\u0430\\\\u0442\\\\u044c\\\\u044f\", \"body\": \"\\\\u0422\\\\u0435\\\\u043a\\\\u0441\\\\u0442 \\\\u043d\\\\u0430\\\\u0448\\\\u0435\\\\u0439 \\\\u043f\\\\u0435\\\\u0440\\\\u0432\\\\u043e\\\\u0439 \\\\u043f\\\\u0440\\\\u0435\\\\u043a\\\\u0440\\\\u0430\\\\u0441\\\\u043d\\\\u043e\\\\u0439 \\\\u0441\\\\u0442\\\\u0430\\\\u0442\\\\u044c\\\\u0438\", \"userId\": 1}'"
            ],
            "application/vnd.google.colaboratory.intrinsic+json": {
              "type": "string"
            }
          },
          "metadata": {},
          "execution_count": 21
        }
      ]
    },
    {
      "cell_type": "code",
      "source": [
        "r = requests.post('https://jsonplaceholder.typicode.com/posts', data=json.dumps(payload))"
      ],
      "metadata": {
        "id": "cI41nDfE4aUc"
      },
      "execution_count": 23,
      "outputs": []
    },
    {
      "cell_type": "code",
      "source": [
        "r.status_code"
      ],
      "metadata": {
        "colab": {
          "base_uri": "https://localhost:8080/"
        },
        "id": "ym790fEr4n1D",
        "outputId": "77aa6fb1-ed49-4cbd-a1a4-ddc219529bf2"
      },
      "execution_count": 24,
      "outputs": [
        {
          "output_type": "execute_result",
          "data": {
            "text/plain": [
              "201"
            ]
          },
          "metadata": {},
          "execution_count": 24
        }
      ]
    },
    {
      "cell_type": "code",
      "source": [
        "r.json()"
      ],
      "metadata": {
        "colab": {
          "base_uri": "https://localhost:8080/"
        },
        "id": "XiB2I3D34phi",
        "outputId": "97c63023-2ee5-450e-d191-86d65e5045d7"
      },
      "execution_count": 25,
      "outputs": [
        {
          "output_type": "execute_result",
          "data": {
            "text/plain": [
              "{'id': 101}"
            ]
          },
          "metadata": {},
          "execution_count": 25
        }
      ]
    },
    {
      "cell_type": "code",
      "source": [
        "r = requests.post('https://jsonplaceholder.typicode.com/posts', data=json.dumps(payload), headers = {'Content-type': 'application/json; charset=UTF-8'})"
      ],
      "metadata": {
        "id": "CGl576v348Xm"
      },
      "execution_count": 26,
      "outputs": []
    },
    {
      "cell_type": "code",
      "source": [
        "r.status_code"
      ],
      "metadata": {
        "colab": {
          "base_uri": "https://localhost:8080/"
        },
        "id": "3vkdeB5O4rTA",
        "outputId": "5c11c02c-bba7-4e4a-c816-d565a8d22dec"
      },
      "execution_count": 27,
      "outputs": [
        {
          "output_type": "execute_result",
          "data": {
            "text/plain": [
              "201"
            ]
          },
          "metadata": {},
          "execution_count": 27
        }
      ]
    },
    {
      "cell_type": "code",
      "source": [
        "r.json()"
      ],
      "metadata": {
        "colab": {
          "base_uri": "https://localhost:8080/"
        },
        "id": "HOlwYdsM5LVS",
        "outputId": "dcb0661e-7aa7-4bda-ac1f-6452b79bdfdb"
      },
      "execution_count": 28,
      "outputs": [
        {
          "output_type": "execute_result",
          "data": {
            "text/plain": [
              "{'title': 'Наша первая статья',\n",
              " 'body': 'Текст нашей первой прекрасной статьи',\n",
              " 'userId': 1,\n",
              " 'id': 101}"
            ]
          },
          "metadata": {},
          "execution_count": 28
        }
      ]
    },
    {
      "cell_type": "code",
      "source": [
        "ser = json.dumps(payload)\n",
        "json.loads(ser)"
      ],
      "metadata": {
        "colab": {
          "base_uri": "https://localhost:8080/"
        },
        "id": "wd6zUlC55M8v",
        "outputId": "8696688a-1000-4663-bdee-3dce20c584a7"
      },
      "execution_count": 30,
      "outputs": [
        {
          "output_type": "execute_result",
          "data": {
            "text/plain": [
              "{'title': 'Наша первая статья',\n",
              " 'body': 'Текст нашей первой прекрасной статьи',\n",
              " 'userId': 1}"
            ]
          },
          "metadata": {},
          "execution_count": 30
        }
      ]
    },
    {
      "cell_type": "markdown",
      "source": [
        "**Дополнительные сценарии использования**"
      ],
      "metadata": {
        "id": "_M8uNSbM8PeO"
      }
    },
    {
      "cell_type": "code",
      "source": [
        "requests.get('https://iopc.ru/document/1582015649.html', verify=False)"
      ],
      "metadata": {
        "colab": {
          "base_uri": "https://localhost:8080/"
        },
        "id": "lqj0StNx7N9M",
        "outputId": "54cd9e3a-c3ff-4235-a4d5-e6b3cda3df4e"
      },
      "execution_count": 34,
      "outputs": [
        {
          "output_type": "stream",
          "name": "stderr",
          "text": [
            "/usr/local/lib/python3.10/dist-packages/urllib3/connectionpool.py:1100: InsecureRequestWarning: Unverified HTTPS request is being made to host 'iopc.ru'. Adding certificate verification is strongly advised. See: https://urllib3.readthedocs.io/en/latest/advanced-usage.html#tls-warnings\n",
            "  warnings.warn(\n"
          ]
        },
        {
          "output_type": "execute_result",
          "data": {
            "text/plain": [
              "<Response [404]>"
            ]
          },
          "metadata": {},
          "execution_count": 34
        }
      ]
    }
  ]
}